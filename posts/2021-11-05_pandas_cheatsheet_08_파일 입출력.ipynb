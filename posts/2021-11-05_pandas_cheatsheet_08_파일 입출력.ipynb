{
 "cells": [
  {
   "cell_type": "markdown",
   "id": "467bff37-bced-4632-bf28-e995f9bc7b36",
   "metadata": {
    "tags": []
   },
   "source": [
    "---\n",
    "jupyter: python3\n",
    "toc: true\n",
    "toc-depth: 3\n",
    "number-sections: true\n",
    "title: (3) 값 삭제, 대체\n",
    "date: 2021-11-05\n",
    "categories: pandas\n",
    "author: limyj0708\n",
    "comments:\n",
    "  giscus:\n",
    "    repo: quarto-dev/quarto-docs\n",
    "format:\n",
    "    html:\n",
    "        page-layout: full\n",
    "---"
   ]
  },
  {
   "cell_type": "code",
   "execution_count": 56,
   "id": "d3dd94f9-d5df-4ca1-81fd-8a6a736555d4",
   "metadata": {
    "tags": []
   },
   "outputs": [],
   "source": [
    "import pandas as pd\n",
    "import numpy as np\n",
    "import copy\n",
    "from IPython.display import display_html, display"
   ]
  },
  {
   "cell_type": "code",
   "execution_count": 57,
   "id": "4281b5ba-d3c0-4063-a0a1-775dfa6ff742",
   "metadata": {
    "tags": []
   },
   "outputs": [],
   "source": [
    "def display_multiple_dfs(dfs:list, styles, margin=10):\n",
    "    display_target = ''\n",
    "    for each_df in dfs:\n",
    "        each_df_html = each_df[0].style.set_caption(f'<b>{each_df[1]}</b>').set_table_styles(styles).set_table_attributes(f\"style='display:inline;margin:{margin}px'\")._repr_html_()\n",
    "        display_target += each_df_html\n",
    "    display_html(display_target, raw = True)"
   ]
  },
  {
   "cell_type": "code",
   "execution_count": 58,
   "id": "bd76eaab-5a90-4c06-af6d-e77b741d11ed",
   "metadata": {
    "tags": []
   },
   "outputs": [],
   "source": [
    "styles = [\n",
    "    {\"selector\" : \"caption\", \"props\" : \"text-align:center; font-size:16px\"}\n",
    "]"
   ]
  },
  {
   "cell_type": "markdown",
   "id": "9d76caa5-df06-4b2f-9cfd-f227816e41e0",
   "metadata": {
    "tags": []
   },
   "source": [
    "# read_excel"
   ]
  },
  {
   "cell_type": "code",
   "execution_count": null,
   "id": "2ac0b7e0-82a2-44fc-befa-7f30f07a5df0",
   "metadata": {
    "tags": []
   },
   "outputs": [],
   "source": [
    "string_quest = pd.read_excel(r\"C:\\Users\\Documents\\data\\string\\string_quest.xlsx\",\n",
    "                             header=6, usecols=\"H,I\", sheet_name = \"string_quest\", engine=\"openpyxl\")"
   ]
  },
  {
   "cell_type": "markdown",
   "id": "3d892f44-e960-4107-adca-ca3112de29a0",
   "metadata": {},
   "source": [
    "- header : 몇 번째 row를 header로 할까?\n",
    "- usercols : 어떤 열을 가져올까?\n",
    "- sheet_name : 어떤 시트를 가져올까?\n",
    "- engine : openpyxl을 사용하여야 xlsx 파일의 불러오기가 가능"
   ]
  },
  {
   "cell_type": "markdown",
   "id": "46ca1021-260d-47ea-b127-a176d0495d02",
   "metadata": {},
   "source": [
    "# to_excel"
   ]
  },
  {
   "cell_type": "markdown",
   "id": "726f8766-17d5-4470-b1d9-087c64d89e97",
   "metadata": {},
   "source": [
    "- 데이터프레임을 잘 구성했다면, 기본적으로는 아래와 같이 특별한 argument 없이 사용해도 별 문제는 없다."
   ]
  },
  {
   "cell_type": "code",
   "execution_count": null,
   "id": "bafbe348-38f7-414d-af86-03c32ddfe83c",
   "metadata": {},
   "outputs": [],
   "source": [
    "for each_key in dict_account_id.keys():\n",
    "    target_dataframe = pd.DataFrame.from_dict(dict_account_id[each_key])\n",
    "    target_dataframe.to_excel(f\"{each_key}_성장재료_출처.xlsx\")"
   ]
  },
  {
   "cell_type": "markdown",
   "id": "a8a77007-1fab-4712-94b8-1e9880c90e8a",
   "metadata": {},
   "source": [
    "- 내용 추가 모드 (append)를 사용하고 싶다면, 아래와 같이 할 수 있다."
   ]
  },
  {
   "cell_type": "code",
   "execution_count": null,
   "id": "886b110f-2d34-48fe-98fd-d6221adcde31",
   "metadata": {},
   "outputs": [],
   "source": [
    "with pd.ExcelWriter('output.xlsx', mode='a') as writer: # mode='a'로 append 설정\n",
    "    df.to_excel(writer, sheet_name='Sheet_name_3') #sheet 이름도 지정함"
   ]
  },
  {
   "cell_type": "markdown",
   "id": "ff2dc081-c7c2-49be-ad55-50fc61e523cc",
   "metadata": {},
   "source": [
    "- 추가 내용 : https://pandas.pydata.org/docs/reference/api/pandas.DataFrame.to_excel.html"
   ]
  },
  {
   "cell_type": "markdown",
   "id": "ca7f0b78-e217-4e83-bfe1-a7d84bb9c6d2",
   "metadata": {
    "tags": []
   },
   "source": [
    "# read_csv"
   ]
  },
  {
   "cell_type": "code",
   "execution_count": null,
   "id": "d721bfa7-0d88-4cfb-937e-1bc75f6553e3",
   "metadata": {},
   "outputs": [],
   "source": [
    "target_df = pd.read_csv('data.csv')"
   ]
  },
  {
   "cell_type": "markdown",
   "id": "42286e8f-0811-4d11-8c7a-4f835a5a7a1d",
   "metadata": {},
   "source": [
    "- sep : delimeter. 기본값은 쉼표(,)이다.\n",
    "- header : 몇 번째 row를 header로 할까?\n",
    "- usercols : 어떤 열을 가져올까?\n",
    "- chunksize : 파일이 너무 클 경우, 한 번에 불러올 행 수를 지정 가능. 이후 iterable하게 다음 size를 불러올 수 있다. 아래와 같이 사용.\n",
    "```Python\n",
    "chunksize = 10 ** 6\n",
    "with pd.read_csv(filename, chunksize=chunksize) as reader:\n",
    "    for chunk in reader:\n",
    "        process(chunk)\n",
    "```"
   ]
  },
  {
   "cell_type": "markdown",
   "id": "8b000f54-0cc1-4cca-8778-60444b1515c6",
   "metadata": {},
   "source": [
    "- 추가 내용 : https://pandas.pydata.org/docs/reference/api/pandas.read_csv.html"
   ]
  },
  {
   "cell_type": "markdown",
   "id": "5600d527-9fef-4f17-b879-ca889ca8d6f1",
   "metadata": {
    "tags": []
   },
   "source": [
    "# to_csv"
   ]
  },
  {
   "cell_type": "code",
   "execution_count": null,
   "id": "ee634a06-7a9c-4e6d-a2ae-1cb35e7b3523",
   "metadata": {},
   "outputs": [],
   "source": [
    "target_df = pd.to_csv('data.csv')"
   ]
  },
  {
   "cell_type": "markdown",
   "id": "483a5a6a-e497-4123-9e25-526f66d24c22",
   "metadata": {},
   "source": [
    "- sep : delimeter. 기본값은 쉼표(,)이다.\n",
    "- columns : 쓰기에 사용할 컬럼 이름 리스트.\n",
    "- header : bool or list of str, default True\n",
    "    - 문자열 리스트가 주어지면, 각 컬럼에 대한 alias로 취급된다."
   ]
  },
  {
   "cell_type": "markdown",
   "id": "2cec0129-3ecb-44cb-83d6-ee8719932677",
   "metadata": {},
   "source": [
    "- 추가 내용 : https://pandas.pydata.org/docs/reference/api/pandas.DataFrame.to_csv.html"
   ]
  },
  {
   "cell_type": "markdown",
   "id": "4d317446-bc85-414e-b296-f34483814607",
   "metadata": {},
   "source": [
    "# Parquet"
   ]
  },
  {
   "cell_type": "code",
   "execution_count": null,
   "id": "691d18ae-a768-47d9-abae-f664baec5e9c",
   "metadata": {},
   "outputs": [],
   "source": []
  },
  {
   "cell_type": "code",
   "execution_count": null,
   "id": "90f53931-a11f-4cba-82ea-e78699cc4ffd",
   "metadata": {},
   "outputs": [],
   "source": []
  },
  {
   "cell_type": "markdown",
   "id": "d639b5ea-8363-4387-b14e-7776cb841202",
   "metadata": {
    "tags": []
   },
   "source": [
    "# Dataframe을 이미지로 추출"
   ]
  },
  {
   "cell_type": "markdown",
   "id": "cd70e89d-1fb6-4b6b-ba2e-ebd81a1516da",
   "metadata": {},
   "source": [
    "## matplotlib를 이용\n",
    "  - dataframe-image 패키지를 이용 시, linux에서 crontab으로 실행할 경우 복잡한 권한 문제에 직면하게 됨\n",
    "  - dataframe-image 패키지도 matplotlib 기반이므로, 그냥 matplotlib를 사용"
   ]
  },
  {
   "cell_type": "code",
   "execution_count": 372,
   "id": "592f8200-e093-4c2e-9a06-36fef167c289",
   "metadata": {
    "tags": []
   },
   "outputs": [
    {
     "data": {
      "image/png": "[encoded data removed]",
      "text/plain": [
       "<Figure size 400x437.5 with 1 Axes>"
      ]
     },
     "metadata": {},
     "output_type": "display_data"
    }
   ],
   "source": [
    "import six\n",
    "import matplotlib.pyplot as plt\n",
    "import matplotlib.font_manager as fm\n",
    "\n",
    "# matplotlib에서 한글이 안 나오는 문제 해결\n",
    "NANUM = fm.FontProperties(fname=r'/Users/limyj0708/Library/Fonts/NanumGothic.ttf')\n",
    "NANUM_bold = fm.FontProperties(fname=r'/Users/limyj0708/Library/Fonts/NanumGothicBold.ttf')\n",
    "\n",
    "# centos라면 폰트 경로는 아래와 같음\n",
    " # /usr/share/fonts/NanumFont/NanumBarunGothic.ttf\n",
    " # /usr/share/fonts/NanumFont/NanumGothicBold.ttf\n",
    "\n",
    "def render_mpl_table(data, col_width=3.0, row_height=0.625, font_size_header=16, font_size=14,\n",
    "                     header_color='#C2DED1', row_colors=['#f1f1f2', 'w'], edge_color='black',\n",
    "                     bbox=[0, 0, 1, 1], header_columns=0,\n",
    "                     ax=None, align_head='center', align_cell='center', **kwargs):\n",
    "    \"\"\"\n",
    "    align_head, align_cell : [ 'center' | 'right' | 'left' ] \n",
    "    \"\"\"\n",
    "    \n",
    "    if ax is None:\n",
    "        size = (np.array(data.shape[::-1]) + np.array([0, 1])) * np.array([col_width, row_height])\n",
    "        fig, ax = plt.subplots(figsize=size)\n",
    "        ax.axis('off')\n",
    "\n",
    "    mpl_table = ax.table(cellText=data.values, bbox=bbox, colLabels=data.columns, **kwargs)\n",
    "    mpl_table.auto_set_font_size(False)\n",
    "\n",
    "    for k, cell in  six.iteritems(mpl_table._cells):\n",
    "        cell.set_edgecolor(edge_color)\n",
    "        if k[0] == 0 or k[1] < header_columns:\n",
    "            cell.set_facecolor(header_color)\n",
    "            cell.set_text_props(color='black', fontproperties = NANUM_bold, fontsize=font_size_header, ha=align_head)\n",
    "        else:\n",
    "            cell.set_facecolor(row_colors[k[0]%len(row_colors)])\n",
    "            cell.set_text_props(fontproperties = NANUM, fontsize=font_size, ha=align_cell)\n",
    "    return ax\n",
    "\n",
    "image = render_mpl_table(caller, col_width=2.0, align_head='center')\n",
    "image\n",
    "image.figure.savefig(\"caller.png\") # 이미지 저장"
   ]
  }
 ],
 "metadata": {
  "kernelspec": {
   "display_name": "Python 3 (ipykernel)",
   "language": "python",
   "name": "python3"
  },
  "language_info": {
   "codemirror_mode": {
    "name": "ipython",
    "version": 3
   },
   "file_extension": ".py",
   "mimetype": "text/x-python",
   "name": "python",
   "nbconvert_exporter": "python",
   "pygments_lexer": "ipython3",
   "version": "3.11.2"
  },
  "toc-autonumbering": true,
  "widgets": {
   "application/vnd.jupyter.widget-state+json": {
    "state": {},
    "version_major": 2,
    "version_minor": 0
   }
  }
 },
 "nbformat": 4,
 "nbformat_minor": 5
}
