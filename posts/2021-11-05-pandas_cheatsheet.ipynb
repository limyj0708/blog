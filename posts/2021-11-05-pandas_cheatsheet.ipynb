{
 "cells": [
  {
   "cell_type": "markdown",
   "metadata": {},
   "source": [
    "---\n",
    "jupyter: python3\n",
    "toc: true\n",
    "title: Pandas CheatSheet (지속적으로 업데이트함)\n",
    "date: 9999-12-31\n",
    "categories: pandas\n",
    "author: limyj0708\n",
    "comments:\n",
    "  giscus:\n",
    "    repo: quarto-dev/quarto-docs\n",
    "format:\n",
    "    html:\n",
    "        page-layout: full\n",
    "---"
   ]
  },
  {
   "cell_type": "markdown",
   "metadata": {
    "tags": []
   },
   "source": [
    "- \" 안 쓰면 잊어버리는, pandas에서의 주요 Dataframe 조작 방법들을 정리\""
   ]
  },
  {
   "cell_type": "code",
   "execution_count": 99,
   "metadata": {
    "tags": []
   },
   "outputs": [],
   "source": [
    "import pandas as pd\n",
    "import numpy as np\n",
    "import copy\n",
    "from IPython.display import display_html, display"
   ]
  },
  {
   "cell_type": "code",
   "execution_count": 167,
   "metadata": {
    "tags": []
   },
   "outputs": [],
   "source": [
    "def display_multiple_dfs(dfs:list, styles, margin=10):\n",
    "    display_target = ''\n",
    "    for each_df in dfs:\n",
    "        each_df_html = each_df[0].style.set_caption(f'<b>{each_df[1]}</b>').set_table_styles(styles).set_table_attributes(f\"style='display:inline;margin:{margin}px'\")._repr_html_()\n",
    "        display_target += each_df_html\n",
    "    display_html(display_target, raw = True)"
   ]
  },
  {
   "cell_type": "code",
   "execution_count": 168,
   "metadata": {
    "tags": []
   },
   "outputs": [],
   "source": [
    "styles = [\n",
    "    {\"selector\" : \"caption\", \"props\" : \"text-align:center; font-size:16px\"}\n",
    "]"
   ]
  },
  {
   "cell_type": "markdown",
   "metadata": {
    "tags": []
   },
   "source": [
    "## 1. Dataframe 생성"
   ]
  },
  {
   "cell_type": "markdown",
   "metadata": {},
   "source": [
    "### 1-1. Dictionary에서 Dataframe 생성"
   ]
  },
  {
   "cell_type": "code",
   "execution_count": 102,
   "metadata": {
    "tags": []
   },
   "outputs": [
    {
     "data": {
      "text/html": [
       "<div>\n",
       "<style scoped>\n",
       "    .dataframe tbody tr th:only-of-type {\n",
       "        vertical-align: middle;\n",
       "    }\n",
       "\n",
       "    .dataframe tbody tr th {\n",
       "        vertical-align: top;\n",
       "    }\n",
       "\n",
       "    .dataframe thead th {\n",
       "        text-align: right;\n",
       "    }\n",
       "</style>\n",
       "<table border=\"1\" class=\"dataframe\">\n",
       "  <thead>\n",
       "    <tr style=\"text-align: right;\">\n",
       "      <th></th>\n",
       "      <th>col_1</th>\n",
       "      <th>col_2</th>\n",
       "    </tr>\n",
       "  </thead>\n",
       "  <tbody>\n",
       "    <tr>\n",
       "      <th>0</th>\n",
       "      <td>3</td>\n",
       "      <td>a</td>\n",
       "    </tr>\n",
       "    <tr>\n",
       "      <th>1</th>\n",
       "      <td>2</td>\n",
       "      <td>b</td>\n",
       "    </tr>\n",
       "    <tr>\n",
       "      <th>2</th>\n",
       "      <td>1</td>\n",
       "      <td>c</td>\n",
       "    </tr>\n",
       "    <tr>\n",
       "      <th>3</th>\n",
       "      <td>0</td>\n",
       "      <td>d</td>\n",
       "    </tr>\n",
       "  </tbody>\n",
       "</table>\n",
       "</div>"
      ],
      "text/plain": [
       "   col_1 col_2\n",
       "0      3     a\n",
       "1      2     b\n",
       "2      1     c\n",
       "3      0     d"
      ]
     },
     "execution_count": 102,
     "metadata": {},
     "output_type": "execute_result"
    }
   ],
   "source": [
    "data = {'col_1': [3, 2, 1, 0], 'col_2': ['a', 'b', 'c', 'd']}\n",
    "pd.DataFrame.from_dict(data)\n",
    "# key가 컬럼, value로 들어간 리스트가 컬럼의 row 하나하나가 된다."
   ]
  },
  {
   "cell_type": "code",
   "execution_count": 103,
   "metadata": {
    "tags": []
   },
   "outputs": [
    {
     "data": {
      "text/html": [
       "<div>\n",
       "<style scoped>\n",
       "    .dataframe tbody tr th:only-of-type {\n",
       "        vertical-align: middle;\n",
       "    }\n",
       "\n",
       "    .dataframe tbody tr th {\n",
       "        vertical-align: top;\n",
       "    }\n",
       "\n",
       "    .dataframe thead th {\n",
       "        text-align: right;\n",
       "    }\n",
       "</style>\n",
       "<table border=\"1\" class=\"dataframe\">\n",
       "  <thead>\n",
       "    <tr style=\"text-align: right;\">\n",
       "      <th></th>\n",
       "      <th>id</th>\n",
       "      <th>address</th>\n",
       "    </tr>\n",
       "  </thead>\n",
       "  <tbody>\n",
       "    <tr>\n",
       "      <th>0</th>\n",
       "      <td>1001001</td>\n",
       "      <td>AABCC</td>\n",
       "    </tr>\n",
       "    <tr>\n",
       "      <th>1</th>\n",
       "      <td>2101001</td>\n",
       "      <td>BBBDD</td>\n",
       "    </tr>\n",
       "    <tr>\n",
       "      <th>2</th>\n",
       "      <td>3201001</td>\n",
       "      <td>백두산</td>\n",
       "    </tr>\n",
       "    <tr>\n",
       "      <th>3</th>\n",
       "      <td>4301001</td>\n",
       "      <td>한라산</td>\n",
       "    </tr>\n",
       "    <tr>\n",
       "      <th>4</th>\n",
       "      <td>5401001</td>\n",
       "      <td>몰디브</td>\n",
       "    </tr>\n",
       "  </tbody>\n",
       "</table>\n",
       "</div>"
      ],
      "text/plain": [
       "        id address\n",
       "0  1001001   AABCC\n",
       "1  2101001   BBBDD\n",
       "2  3201001     백두산\n",
       "3  4301001     한라산\n",
       "4  5401001     몰디브"
      ]
     },
     "execution_count": 103,
     "metadata": {},
     "output_type": "execute_result"
    }
   ],
   "source": [
    "dict_list = [\n",
    "    { \"id\" : 1001001, \"address\" : \"AABCC\"}\n",
    "    ,{ \"id\" : 2101001, \"address\" : \"BBBDD\"}\n",
    "    ,{ \"id\" : 3201001, \"address\" : \"백두산\"}\n",
    "    ,{ \"id\" : 4301001, \"address\" : \"한라산\"}\n",
    "    ,{ \"id\" : 5401001, \"address\" : \"몰디브\"}\n",
    "] # 같은 key들을 가진 딕셔너리들이 담긴 리스트\n",
    "pd.DataFrame.from_dict(dict_list) # 이렇게 넣어도, key들이 컬럼이 되어 데이터프레임이 만들어진다.\n",
    "# 실무적으로는 이 형태를 더 많이 쓰게 된다."
   ]
  },
  {
   "cell_type": "markdown",
   "metadata": {},
   "source": [
    "### 1-2. Column만 존재하는 빈 Dataframe을 만들고, 내용 채워 넣기"
   ]
  },
  {
   "cell_type": "code",
   "execution_count": 104,
   "metadata": {
    "tags": []
   },
   "outputs": [
    {
     "data": {
      "text/html": [
       "<div>\n",
       "<style scoped>\n",
       "    .dataframe tbody tr th:only-of-type {\n",
       "        vertical-align: middle;\n",
       "    }\n",
       "\n",
       "    .dataframe tbody tr th {\n",
       "        vertical-align: top;\n",
       "    }\n",
       "\n",
       "    .dataframe thead th {\n",
       "        text-align: right;\n",
       "    }\n",
       "</style>\n",
       "<table border=\"1\" class=\"dataframe\">\n",
       "  <thead>\n",
       "    <tr style=\"text-align: right;\">\n",
       "      <th></th>\n",
       "      <th>A</th>\n",
       "      <th>B</th>\n",
       "      <th>BB</th>\n",
       "      <th>C</th>\n",
       "      <th>D</th>\n",
       "    </tr>\n",
       "  </thead>\n",
       "  <tbody>\n",
       "  </tbody>\n",
       "</table>\n",
       "</div>"
      ],
      "text/plain": [
       "Empty DataFrame\n",
       "Columns: [A, B, BB, C, D]\n",
       "Index: []"
      ]
     },
     "execution_count": 104,
     "metadata": {},
     "output_type": "execute_result"
    }
   ],
   "source": [
    "df = pd.DataFrame(columns=['A','B','BB','C','D'])\n",
    "# 컬럼들이 될 리스트를 columns parameter에 argument로 넘김\n",
    "df"
   ]
  },
  {
   "cell_type": "code",
   "execution_count": 105,
   "metadata": {
    "tags": []
   },
   "outputs": [
    {
     "data": {
      "text/html": [
       "<div>\n",
       "<style scoped>\n",
       "    .dataframe tbody tr th:only-of-type {\n",
       "        vertical-align: middle;\n",
       "    }\n",
       "\n",
       "    .dataframe tbody tr th {\n",
       "        vertical-align: top;\n",
       "    }\n",
       "\n",
       "    .dataframe thead th {\n",
       "        text-align: right;\n",
       "    }\n",
       "</style>\n",
       "<table border=\"1\" class=\"dataframe\">\n",
       "  <thead>\n",
       "    <tr style=\"text-align: right;\">\n",
       "      <th></th>\n",
       "      <th>A</th>\n",
       "      <th>B</th>\n",
       "      <th>BB</th>\n",
       "      <th>C</th>\n",
       "      <th>D</th>\n",
       "    </tr>\n",
       "  </thead>\n",
       "  <tbody>\n",
       "    <tr>\n",
       "      <th>0</th>\n",
       "      <td>1</td>\n",
       "      <td>NaN</td>\n",
       "      <td>NaN</td>\n",
       "      <td>NaN</td>\n",
       "      <td>NaN</td>\n",
       "    </tr>\n",
       "    <tr>\n",
       "      <th>1</th>\n",
       "      <td>3</td>\n",
       "      <td>NaN</td>\n",
       "      <td>NaN</td>\n",
       "      <td>NaN</td>\n",
       "      <td>NaN</td>\n",
       "    </tr>\n",
       "    <tr>\n",
       "      <th>2</th>\n",
       "      <td>1</td>\n",
       "      <td>NaN</td>\n",
       "      <td>NaN</td>\n",
       "      <td>NaN</td>\n",
       "      <td>NaN</td>\n",
       "    </tr>\n",
       "  </tbody>\n",
       "</table>\n",
       "</div>"
      ],
      "text/plain": [
       "   A    B   BB    C    D\n",
       "0  1  NaN  NaN  NaN  NaN\n",
       "1  3  NaN  NaN  NaN  NaN\n",
       "2  1  NaN  NaN  NaN  NaN"
      ]
     },
     "execution_count": 105,
     "metadata": {},
     "output_type": "execute_result"
    }
   ],
   "source": [
    "df['A'] = [1,3,1]\n",
    "df"
   ]
  },
  {
   "cell_type": "code",
   "execution_count": 106,
   "metadata": {
    "tags": []
   },
   "outputs": [
    {
     "data": {
      "text/html": [
       "<div>\n",
       "<style scoped>\n",
       "    .dataframe tbody tr th:only-of-type {\n",
       "        vertical-align: middle;\n",
       "    }\n",
       "\n",
       "    .dataframe tbody tr th {\n",
       "        vertical-align: top;\n",
       "    }\n",
       "\n",
       "    .dataframe thead th {\n",
       "        text-align: right;\n",
       "    }\n",
       "</style>\n",
       "<table border=\"1\" class=\"dataframe\">\n",
       "  <thead>\n",
       "    <tr style=\"text-align: right;\">\n",
       "      <th></th>\n",
       "      <th>A</th>\n",
       "      <th>B</th>\n",
       "      <th>BB</th>\n",
       "      <th>C</th>\n",
       "      <th>D</th>\n",
       "    </tr>\n",
       "  </thead>\n",
       "  <tbody>\n",
       "    <tr>\n",
       "      <th>0</th>\n",
       "      <td>1</td>\n",
       "      <td>4</td>\n",
       "      <td>NaN</td>\n",
       "      <td>NaN</td>\n",
       "      <td>NaN</td>\n",
       "    </tr>\n",
       "    <tr>\n",
       "      <th>1</th>\n",
       "      <td>3</td>\n",
       "      <td>4</td>\n",
       "      <td>NaN</td>\n",
       "      <td>NaN</td>\n",
       "      <td>NaN</td>\n",
       "    </tr>\n",
       "    <tr>\n",
       "      <th>2</th>\n",
       "      <td>1</td>\n",
       "      <td>6</td>\n",
       "      <td>NaN</td>\n",
       "      <td>NaN</td>\n",
       "      <td>NaN</td>\n",
       "    </tr>\n",
       "  </tbody>\n",
       "</table>\n",
       "</div>"
      ],
      "text/plain": [
       "   A  B   BB    C    D\n",
       "0  1  4  NaN  NaN  NaN\n",
       "1  3  4  NaN  NaN  NaN\n",
       "2  1  6  NaN  NaN  NaN"
      ]
     },
     "execution_count": 106,
     "metadata": {},
     "output_type": "execute_result"
    }
   ],
   "source": [
    "df['B'] = [4,4,6]\n",
    "df"
   ]
  },
  {
   "cell_type": "code",
   "execution_count": 107,
   "metadata": {
    "tags": []
   },
   "outputs": [
    {
     "data": {
      "text/html": [
       "<div>\n",
       "<style scoped>\n",
       "    .dataframe tbody tr th:only-of-type {\n",
       "        vertical-align: middle;\n",
       "    }\n",
       "\n",
       "    .dataframe tbody tr th {\n",
       "        vertical-align: top;\n",
       "    }\n",
       "\n",
       "    .dataframe thead th {\n",
       "        text-align: right;\n",
       "    }\n",
       "</style>\n",
       "<table border=\"1\" class=\"dataframe\">\n",
       "  <thead>\n",
       "    <tr style=\"text-align: right;\">\n",
       "      <th></th>\n",
       "      <th>A</th>\n",
       "      <th>B</th>\n",
       "      <th>BB</th>\n",
       "      <th>C</th>\n",
       "      <th>D</th>\n",
       "    </tr>\n",
       "  </thead>\n",
       "  <tbody>\n",
       "    <tr>\n",
       "      <th>0</th>\n",
       "      <td>1</td>\n",
       "      <td>4</td>\n",
       "      <td>NaN</td>\n",
       "      <td>444</td>\n",
       "      <td>NaN</td>\n",
       "    </tr>\n",
       "    <tr>\n",
       "      <th>1</th>\n",
       "      <td>3</td>\n",
       "      <td>4</td>\n",
       "      <td>NaN</td>\n",
       "      <td>NaN</td>\n",
       "      <td>NaN</td>\n",
       "    </tr>\n",
       "    <tr>\n",
       "      <th>2</th>\n",
       "      <td>1</td>\n",
       "      <td>6</td>\n",
       "      <td>NaN</td>\n",
       "      <td>NaN</td>\n",
       "      <td>NaN</td>\n",
       "    </tr>\n",
       "  </tbody>\n",
       "</table>\n",
       "</div>"
      ],
      "text/plain": [
       "   A  B   BB    C    D\n",
       "0  1  4  NaN  444  NaN\n",
       "1  3  4  NaN  NaN  NaN\n",
       "2  1  6  NaN  NaN  NaN"
      ]
     },
     "execution_count": 107,
     "metadata": {},
     "output_type": "execute_result"
    }
   ],
   "source": [
    "df.loc[((df['A'] == 1) & (df['B'] == 4)), 'C'] = 444\n",
    "df\n",
    "# 컬럼 값 조건을 걸고 값을 변경"
   ]
  },
  {
   "cell_type": "code",
   "execution_count": 108,
   "metadata": {
    "tags": []
   },
   "outputs": [
    {
     "data": {
      "text/html": [
       "<div>\n",
       "<style scoped>\n",
       "    .dataframe tbody tr th:only-of-type {\n",
       "        vertical-align: middle;\n",
       "    }\n",
       "\n",
       "    .dataframe tbody tr th {\n",
       "        vertical-align: top;\n",
       "    }\n",
       "\n",
       "    .dataframe thead th {\n",
       "        text-align: right;\n",
       "    }\n",
       "</style>\n",
       "<table border=\"1\" class=\"dataframe\">\n",
       "  <thead>\n",
       "    <tr style=\"text-align: right;\">\n",
       "      <th></th>\n",
       "      <th>A</th>\n",
       "      <th>B</th>\n",
       "      <th>BB</th>\n",
       "      <th>C</th>\n",
       "      <th>D</th>\n",
       "    </tr>\n",
       "  </thead>\n",
       "  <tbody>\n",
       "    <tr>\n",
       "      <th>0</th>\n",
       "      <td>1</td>\n",
       "      <td>4</td>\n",
       "      <td>NaN</td>\n",
       "      <td>0</td>\n",
       "      <td>NaN</td>\n",
       "    </tr>\n",
       "    <tr>\n",
       "      <th>1</th>\n",
       "      <td>3</td>\n",
       "      <td>4</td>\n",
       "      <td>NaN</td>\n",
       "      <td>0</td>\n",
       "      <td>NaN</td>\n",
       "    </tr>\n",
       "    <tr>\n",
       "      <th>2</th>\n",
       "      <td>1</td>\n",
       "      <td>6</td>\n",
       "      <td>NaN</td>\n",
       "      <td>NaN</td>\n",
       "      <td>NaN</td>\n",
       "    </tr>\n",
       "  </tbody>\n",
       "</table>\n",
       "</div>"
      ],
      "text/plain": [
       "   A  B   BB    C    D\n",
       "0  1  4  NaN    0  NaN\n",
       "1  3  4  NaN    0  NaN\n",
       "2  1  6  NaN  NaN  NaN"
      ]
     },
     "execution_count": 108,
     "metadata": {},
     "output_type": "execute_result"
    }
   ],
   "source": [
    "df.loc[(df['B'] == 4), 'C'] = 0\n",
    "df\n",
    "# 컬럼 값 조건을 걸고 값을 변경 2"
   ]
  },
  {
   "cell_type": "code",
   "execution_count": 109,
   "metadata": {
    "tags": []
   },
   "outputs": [
    {
     "data": {
      "text/html": [
       "<div>\n",
       "<style scoped>\n",
       "    .dataframe tbody tr th:only-of-type {\n",
       "        vertical-align: middle;\n",
       "    }\n",
       "\n",
       "    .dataframe tbody tr th {\n",
       "        vertical-align: top;\n",
       "    }\n",
       "\n",
       "    .dataframe thead th {\n",
       "        text-align: right;\n",
       "    }\n",
       "</style>\n",
       "<table border=\"1\" class=\"dataframe\">\n",
       "  <thead>\n",
       "    <tr style=\"text-align: right;\">\n",
       "      <th></th>\n",
       "      <th>A</th>\n",
       "      <th>B</th>\n",
       "      <th>BB</th>\n",
       "      <th>C</th>\n",
       "      <th>D</th>\n",
       "    </tr>\n",
       "  </thead>\n",
       "  <tbody>\n",
       "    <tr>\n",
       "      <th>0</th>\n",
       "      <td>1</td>\n",
       "      <td>4</td>\n",
       "      <td>NaN</td>\n",
       "      <td>0</td>\n",
       "      <td>NaN</td>\n",
       "    </tr>\n",
       "    <tr>\n",
       "      <th>1</th>\n",
       "      <td>3</td>\n",
       "      <td>4</td>\n",
       "      <td>NaN</td>\n",
       "      <td>0</td>\n",
       "      <td>NaN</td>\n",
       "    </tr>\n",
       "    <tr>\n",
       "      <th>2</th>\n",
       "      <td>1</td>\n",
       "      <td>6</td>\n",
       "      <td>NaN</td>\n",
       "      <td>NaN</td>\n",
       "      <td>NaN</td>\n",
       "    </tr>\n",
       "    <tr>\n",
       "      <th>3</th>\n",
       "      <td>1</td>\n",
       "      <td>2</td>\n",
       "      <td>3</td>\n",
       "      <td>4</td>\n",
       "      <td>5</td>\n",
       "    </tr>\n",
       "  </tbody>\n",
       "</table>\n",
       "</div>"
      ],
      "text/plain": [
       "   A  B   BB    C    D\n",
       "0  1  4  NaN    0  NaN\n",
       "1  3  4  NaN    0  NaN\n",
       "2  1  6  NaN  NaN  NaN\n",
       "3  1  2    3    4    5"
      ]
     },
     "execution_count": 109,
     "metadata": {},
     "output_type": "execute_result"
    }
   ],
   "source": [
    "sample_list = [1,2,3,4,5]\n",
    "# 해당 데이터프레임 가장 아래에 리스트를 row로 넣음\n",
    "df.loc[len(df)] = sample_list\n",
    "# 이 방식은 좀 느린 편이며, 데이터프레임에 행을 추가해야 한다면\n",
    "# 자료를 dictionary로 관리하다가 모든 데이터 추가가 다 끝나고 데이터프레임으로 변환하는 것이 빠름\n",
    "df"
   ]
  },
  {
   "cell_type": "markdown",
   "metadata": {},
   "source": [
    "## 2. Indexing, 값 변경, 추가"
   ]
  },
  {
   "cell_type": "markdown",
   "metadata": {
    "tags": []
   },
   "source": [
    "### 2-1. loc : 라벨 인덱싱"
   ]
  },
  {
   "cell_type": "code",
   "execution_count": 110,
   "metadata": {
    "tags": []
   },
   "outputs": [
    {
     "name": "stdout",
     "output_type": "stream",
     "text": [
      "<class 'pandas.core.series.Series'>\n"
     ]
    },
    {
     "data": {
      "text/plain": [
       "A       1\n",
       "B       4\n",
       "BB    NaN\n",
       "C       0\n",
       "D     NaN\n",
       "Name: 0, dtype: object"
      ]
     },
     "execution_count": 110,
     "metadata": {},
     "output_type": "execute_result"
    }
   ],
   "source": [
    "print(type(df.loc[0]))\n",
    "df.loc[0]\n",
    "# loc의 첫 번째 인자는 '행 라벨' 이다.\n",
    "# 그래서 0을 넣으면, index가 0인 행을 series로 반환하고 있다."
   ]
  },
  {
   "cell_type": "code",
   "execution_count": 111,
   "metadata": {
    "tags": []
   },
   "outputs": [
    {
     "name": "stdout",
     "output_type": "stream",
     "text": [
      "<class 'numpy.int64'>\n"
     ]
    },
    {
     "data": {
      "text/plain": [
       "1"
      ]
     },
     "execution_count": 111,
     "metadata": {},
     "output_type": "execute_result"
    }
   ],
   "source": [
    "print(type(df.loc[0, 'A']))\n",
    "df.loc[0, 'A']\n",
    "# 두 번째 인자는 컬럼명이다."
   ]
  },
  {
   "cell_type": "code",
   "execution_count": 112,
   "metadata": {
    "tags": []
   },
   "outputs": [
    {
     "data": {
      "text/html": [
       "<div>\n",
       "<style scoped>\n",
       "    .dataframe tbody tr th:only-of-type {\n",
       "        vertical-align: middle;\n",
       "    }\n",
       "\n",
       "    .dataframe tbody tr th {\n",
       "        vertical-align: top;\n",
       "    }\n",
       "\n",
       "    .dataframe thead th {\n",
       "        text-align: right;\n",
       "    }\n",
       "</style>\n",
       "<table border=\"1\" class=\"dataframe\">\n",
       "  <thead>\n",
       "    <tr style=\"text-align: right;\">\n",
       "      <th></th>\n",
       "      <th>A</th>\n",
       "      <th>B</th>\n",
       "    </tr>\n",
       "  </thead>\n",
       "  <tbody>\n",
       "    <tr>\n",
       "      <th>0</th>\n",
       "      <td>1</td>\n",
       "      <td>4</td>\n",
       "    </tr>\n",
       "    <tr>\n",
       "      <th>1</th>\n",
       "      <td>3</td>\n",
       "      <td>4</td>\n",
       "    </tr>\n",
       "    <tr>\n",
       "      <th>2</th>\n",
       "      <td>1</td>\n",
       "      <td>6</td>\n",
       "    </tr>\n",
       "    <tr>\n",
       "      <th>3</th>\n",
       "      <td>1</td>\n",
       "      <td>2</td>\n",
       "    </tr>\n",
       "  </tbody>\n",
       "</table>\n",
       "</div>"
      ],
      "text/plain": [
       "   A  B\n",
       "0  1  4\n",
       "1  3  4\n",
       "2  1  6\n",
       "3  1  2"
      ]
     },
     "execution_count": 112,
     "metadata": {},
     "output_type": "execute_result"
    }
   ],
   "source": [
    "df.loc[[0,1,2,3], ['A','B']]\n",
    "# 이런 식으로 접근하면, 다중 컬럼과 행을 데이터프레임으로 가져올 수 있다."
   ]
  },
  {
   "cell_type": "code",
   "execution_count": 113,
   "metadata": {
    "tags": []
   },
   "outputs": [
    {
     "data": {
      "text/html": [
       "<div>\n",
       "<style scoped>\n",
       "    .dataframe tbody tr th:only-of-type {\n",
       "        vertical-align: middle;\n",
       "    }\n",
       "\n",
       "    .dataframe tbody tr th {\n",
       "        vertical-align: top;\n",
       "    }\n",
       "\n",
       "    .dataframe thead th {\n",
       "        text-align: right;\n",
       "    }\n",
       "</style>\n",
       "<table border=\"1\" class=\"dataframe\">\n",
       "  <thead>\n",
       "    <tr style=\"text-align: right;\">\n",
       "      <th></th>\n",
       "      <th>A</th>\n",
       "      <th>B</th>\n",
       "    </tr>\n",
       "  </thead>\n",
       "  <tbody>\n",
       "    <tr>\n",
       "      <th>0</th>\n",
       "      <td>1</td>\n",
       "      <td>4</td>\n",
       "    </tr>\n",
       "    <tr>\n",
       "      <th>1</th>\n",
       "      <td>3</td>\n",
       "      <td>4</td>\n",
       "    </tr>\n",
       "    <tr>\n",
       "      <th>2</th>\n",
       "      <td>1</td>\n",
       "      <td>6</td>\n",
       "    </tr>\n",
       "  </tbody>\n",
       "</table>\n",
       "</div>"
      ],
      "text/plain": [
       "   A  B\n",
       "0  1  4\n",
       "1  3  4\n",
       "2  1  6"
      ]
     },
     "execution_count": 113,
     "metadata": {},
     "output_type": "execute_result"
    }
   ],
   "source": [
    "df.loc[df.index[0:3], ['A','B']]\n",
    "# df.index로도 접근 가능"
   ]
  },
  {
   "cell_type": "code",
   "execution_count": 114,
   "metadata": {
    "tags": []
   },
   "outputs": [
    {
     "data": {
      "text/html": [
       "<div>\n",
       "<style scoped>\n",
       "    .dataframe tbody tr th:only-of-type {\n",
       "        vertical-align: middle;\n",
       "    }\n",
       "\n",
       "    .dataframe tbody tr th {\n",
       "        vertical-align: top;\n",
       "    }\n",
       "\n",
       "    .dataframe thead th {\n",
       "        text-align: right;\n",
       "    }\n",
       "</style>\n",
       "<table border=\"1\" class=\"dataframe\">\n",
       "  <thead>\n",
       "    <tr style=\"text-align: right;\">\n",
       "      <th></th>\n",
       "      <th>A</th>\n",
       "      <th>B</th>\n",
       "      <th>BB</th>\n",
       "      <th>C</th>\n",
       "      <th>D</th>\n",
       "    </tr>\n",
       "  </thead>\n",
       "  <tbody>\n",
       "    <tr>\n",
       "      <th>0</th>\n",
       "      <td>1</td>\n",
       "      <td>4</td>\n",
       "      <td>NaN</td>\n",
       "      <td>0</td>\n",
       "      <td>NaN</td>\n",
       "    </tr>\n",
       "    <tr>\n",
       "      <th>1</th>\n",
       "      <td>3</td>\n",
       "      <td>4</td>\n",
       "      <td>NaN</td>\n",
       "      <td>0</td>\n",
       "      <td>NaN</td>\n",
       "    </tr>\n",
       "  </tbody>\n",
       "</table>\n",
       "</div>"
      ],
      "text/plain": [
       "   A  B   BB  C    D\n",
       "0  1  4  NaN  0  NaN\n",
       "1  3  4  NaN  0  NaN"
      ]
     },
     "execution_count": 114,
     "metadata": {},
     "output_type": "execute_result"
    }
   ],
   "source": [
    "df.loc[df['B'] == 4]\n",
    "# row에 값 조건을 걸 수도 있다."
   ]
  },
  {
   "cell_type": "code",
   "execution_count": 115,
   "metadata": {
    "tags": []
   },
   "outputs": [
    {
     "data": {
      "text/html": [
       "<div>\n",
       "<style scoped>\n",
       "    .dataframe tbody tr th:only-of-type {\n",
       "        vertical-align: middle;\n",
       "    }\n",
       "\n",
       "    .dataframe tbody tr th {\n",
       "        vertical-align: top;\n",
       "    }\n",
       "\n",
       "    .dataframe thead th {\n",
       "        text-align: right;\n",
       "    }\n",
       "</style>\n",
       "<table border=\"1\" class=\"dataframe\">\n",
       "  <thead>\n",
       "    <tr style=\"text-align: right;\">\n",
       "      <th></th>\n",
       "      <th>B</th>\n",
       "      <th>BB</th>\n",
       "    </tr>\n",
       "  </thead>\n",
       "  <tbody>\n",
       "    <tr>\n",
       "      <th>0</th>\n",
       "      <td>4</td>\n",
       "      <td>NaN</td>\n",
       "    </tr>\n",
       "    <tr>\n",
       "      <th>1</th>\n",
       "      <td>4</td>\n",
       "      <td>NaN</td>\n",
       "    </tr>\n",
       "  </tbody>\n",
       "</table>\n",
       "</div>"
      ],
      "text/plain": [
       "   B   BB\n",
       "0  4  NaN\n",
       "1  4  NaN"
      ]
     },
     "execution_count": 115,
     "metadata": {},
     "output_type": "execute_result"
    }
   ],
   "source": [
    "df.loc[df['B'] == 4, df.columns.str.contains('B')]\n",
    "# 컬럼 이름에도 조건을 걸 수 있다. 위의 경우, 컬럼 이름에 B를 포함하는 컬럼만 가져옴."
   ]
  },
  {
   "cell_type": "code",
   "execution_count": 116,
   "metadata": {
    "tags": []
   },
   "outputs": [
    {
     "data": {
      "text/html": [
       "<div>\n",
       "<style scoped>\n",
       "    .dataframe tbody tr th:only-of-type {\n",
       "        vertical-align: middle;\n",
       "    }\n",
       "\n",
       "    .dataframe tbody tr th {\n",
       "        vertical-align: top;\n",
       "    }\n",
       "\n",
       "    .dataframe thead th {\n",
       "        text-align: right;\n",
       "    }\n",
       "</style>\n",
       "<table border=\"1\" class=\"dataframe\">\n",
       "  <thead>\n",
       "    <tr style=\"text-align: right;\">\n",
       "      <th></th>\n",
       "      <th>B</th>\n",
       "      <th>BB</th>\n",
       "    </tr>\n",
       "  </thead>\n",
       "  <tbody>\n",
       "    <tr>\n",
       "      <th>0</th>\n",
       "      <td>4</td>\n",
       "      <td>NaN</td>\n",
       "    </tr>\n",
       "    <tr>\n",
       "      <th>1</th>\n",
       "      <td>4</td>\n",
       "      <td>NaN</td>\n",
       "    </tr>\n",
       "    <tr>\n",
       "      <th>2</th>\n",
       "      <td>6</td>\n",
       "      <td>NaN</td>\n",
       "    </tr>\n",
       "    <tr>\n",
       "      <th>3</th>\n",
       "      <td>2</td>\n",
       "      <td>3</td>\n",
       "    </tr>\n",
       "  </tbody>\n",
       "</table>\n",
       "</div>"
      ],
      "text/plain": [
       "   B   BB\n",
       "0  4  NaN\n",
       "1  4  NaN\n",
       "2  6  NaN\n",
       "3  2    3"
      ]
     },
     "execution_count": 116,
     "metadata": {},
     "output_type": "execute_result"
    }
   ],
   "source": [
    "df.loc[:,df.columns.str.contains('B')]\n",
    "# 행 조건 자리에 :를 넣으면, 행에 대해서는 전체를 다 가져오라는 뜻이다."
   ]
  },
  {
   "cell_type": "code",
   "execution_count": 117,
   "metadata": {
    "tags": []
   },
   "outputs": [
    {
     "name": "stdout",
     "output_type": "stream",
     "text": [
      "Index(['A', 'B', 'BB', 'C', 'D'], dtype='object')\n",
      "<pandas.core.strings.accessor.StringMethods object at 0x135c6bcd0>\n",
      "[False  True  True False False]\n",
      "<class 'numpy.ndarray'>\n",
      "[ True False False False False]\n"
     ]
    }
   ],
   "source": [
    "print(df.columns) # 컬럼명을 가져옴\n",
    "print(df.columns.str)\n",
    "print(df.columns.str.contains('B')) # boolean indexing이 가능한 형태가 된다.\n",
    "print(type(df.columns.str.contains('B'))) # 결과물은 false와 true가 들어간 ndarray\n",
    "print(df.columns.str.startswith('A')) # 이렇게 하면 A로 시작하는 컬럼을 가져올 수 있음\n",
    "# 결론은, 다른 외부 함수를 사용해서 어쩄든 boolean 타입 값이 담긴 리스트를 만들면, loc에 넣어서 boolean indexing이 가능하다는 것."
   ]
  },
  {
   "cell_type": "code",
   "execution_count": 118,
   "metadata": {
    "tags": []
   },
   "outputs": [
    {
     "data": {
      "text/html": [
       "<div>\n",
       "<style scoped>\n",
       "    .dataframe tbody tr th:only-of-type {\n",
       "        vertical-align: middle;\n",
       "    }\n",
       "\n",
       "    .dataframe tbody tr th {\n",
       "        vertical-align: top;\n",
       "    }\n",
       "\n",
       "    .dataframe thead th {\n",
       "        text-align: right;\n",
       "    }\n",
       "</style>\n",
       "<table border=\"1\" class=\"dataframe\">\n",
       "  <thead>\n",
       "    <tr style=\"text-align: right;\">\n",
       "      <th></th>\n",
       "      <th>A</th>\n",
       "      <th>B</th>\n",
       "      <th>BB</th>\n",
       "      <th>C</th>\n",
       "      <th>D</th>\n",
       "      <th>new</th>\n",
       "    </tr>\n",
       "  </thead>\n",
       "  <tbody>\n",
       "    <tr>\n",
       "      <th>0</th>\n",
       "      <td>1</td>\n",
       "      <td>4</td>\n",
       "      <td>NaN</td>\n",
       "      <td>0</td>\n",
       "      <td>NaN</td>\n",
       "      <td>3</td>\n",
       "    </tr>\n",
       "    <tr>\n",
       "      <th>1</th>\n",
       "      <td>3</td>\n",
       "      <td>4</td>\n",
       "      <td>NaN</td>\n",
       "      <td>0</td>\n",
       "      <td>NaN</td>\n",
       "      <td>3</td>\n",
       "    </tr>\n",
       "    <tr>\n",
       "      <th>2</th>\n",
       "      <td>1</td>\n",
       "      <td>6</td>\n",
       "      <td>NaN</td>\n",
       "      <td>NaN</td>\n",
       "      <td>NaN</td>\n",
       "      <td>3</td>\n",
       "    </tr>\n",
       "    <tr>\n",
       "      <th>3</th>\n",
       "      <td>1</td>\n",
       "      <td>2</td>\n",
       "      <td>3</td>\n",
       "      <td>4</td>\n",
       "      <td>5</td>\n",
       "      <td>3</td>\n",
       "    </tr>\n",
       "  </tbody>\n",
       "</table>\n",
       "</div>"
      ],
      "text/plain": [
       "   A  B   BB    C    D  new\n",
       "0  1  4  NaN    0  NaN    3\n",
       "1  3  4  NaN    0  NaN    3\n",
       "2  1  6  NaN  NaN  NaN    3\n",
       "3  1  2    3    4    5    3"
      ]
     },
     "execution_count": 118,
     "metadata": {},
     "output_type": "execute_result"
    }
   ],
   "source": [
    "df.loc[:,'new'] = 3\n",
    "df\n",
    "# loc으로도 기존에 없던 새 컬럼을 추가할 수 있음"
   ]
  },
  {
   "cell_type": "code",
   "execution_count": 119,
   "metadata": {
    "tags": []
   },
   "outputs": [
    {
     "data": {
      "text/html": [
       "<div>\n",
       "<style scoped>\n",
       "    .dataframe tbody tr th:only-of-type {\n",
       "        vertical-align: middle;\n",
       "    }\n",
       "\n",
       "    .dataframe tbody tr th {\n",
       "        vertical-align: top;\n",
       "    }\n",
       "\n",
       "    .dataframe thead th {\n",
       "        text-align: right;\n",
       "    }\n",
       "</style>\n",
       "<table border=\"1\" class=\"dataframe\">\n",
       "  <thead>\n",
       "    <tr style=\"text-align: right;\">\n",
       "      <th></th>\n",
       "      <th>A</th>\n",
       "      <th>B</th>\n",
       "      <th>BB</th>\n",
       "      <th>C</th>\n",
       "      <th>D</th>\n",
       "      <th>new</th>\n",
       "    </tr>\n",
       "  </thead>\n",
       "  <tbody>\n",
       "    <tr>\n",
       "      <th>0</th>\n",
       "      <td>1</td>\n",
       "      <td>4</td>\n",
       "      <td>NaN</td>\n",
       "      <td>0</td>\n",
       "      <td>NaN</td>\n",
       "      <td>3</td>\n",
       "    </tr>\n",
       "    <tr>\n",
       "      <th>1</th>\n",
       "      <td>3</td>\n",
       "      <td>4</td>\n",
       "      <td>NaN</td>\n",
       "      <td>0</td>\n",
       "      <td>NaN</td>\n",
       "      <td>3</td>\n",
       "    </tr>\n",
       "    <tr>\n",
       "      <th>2</th>\n",
       "      <td>1</td>\n",
       "      <td>6</td>\n",
       "      <td>NaN</td>\n",
       "      <td>NaN</td>\n",
       "      <td>NaN</td>\n",
       "      <td>3</td>\n",
       "    </tr>\n",
       "    <tr>\n",
       "      <th>3</th>\n",
       "      <td>1</td>\n",
       "      <td>2</td>\n",
       "      <td>3</td>\n",
       "      <td>4</td>\n",
       "      <td>5</td>\n",
       "      <td>3</td>\n",
       "    </tr>\n",
       "    <tr>\n",
       "      <th>4</th>\n",
       "      <td>1</td>\n",
       "      <td>1</td>\n",
       "      <td>1</td>\n",
       "      <td>1</td>\n",
       "      <td>1</td>\n",
       "      <td>1</td>\n",
       "    </tr>\n",
       "    <tr>\n",
       "      <th>99</th>\n",
       "      <td>1</td>\n",
       "      <td>1</td>\n",
       "      <td>1</td>\n",
       "      <td>1</td>\n",
       "      <td>1</td>\n",
       "      <td>1</td>\n",
       "    </tr>\n",
       "    <tr>\n",
       "      <th>cool</th>\n",
       "      <td>22</td>\n",
       "      <td>22</td>\n",
       "      <td>22</td>\n",
       "      <td>22</td>\n",
       "      <td>22</td>\n",
       "      <td>22</td>\n",
       "    </tr>\n",
       "  </tbody>\n",
       "</table>\n",
       "</div>"
      ],
      "text/plain": [
       "       A   B   BB    C    D  new\n",
       "0      1   4  NaN    0  NaN    3\n",
       "1      3   4  NaN    0  NaN    3\n",
       "2      1   6  NaN  NaN  NaN    3\n",
       "3      1   2    3    4    5    3\n",
       "4      1   1    1    1    1    1\n",
       "99     1   1    1    1    1    1\n",
       "cool  22  22   22   22   22   22"
      ]
     },
     "execution_count": 119,
     "metadata": {},
     "output_type": "execute_result"
    }
   ],
   "source": [
    "df.loc[4] = [1] * len(df.columns)\n",
    "df.loc[99] = [1] * len(df.columns)\n",
    "df.loc['cool'] = [22] * len(df.columns)\n",
    "# dataframe에 행을 추가함. index가 늘어난다.\n",
    "df"
   ]
  },
  {
   "cell_type": "markdown",
   "metadata": {
    "tags": []
   },
   "source": [
    "### 2-2. iloc : 위치 인덱싱"
   ]
  },
  {
   "cell_type": "code",
   "execution_count": 120,
   "metadata": {
    "tags": []
   },
   "outputs": [
    {
     "data": {
      "text/html": [
       "<div>\n",
       "<style scoped>\n",
       "    .dataframe tbody tr th:only-of-type {\n",
       "        vertical-align: middle;\n",
       "    }\n",
       "\n",
       "    .dataframe tbody tr th {\n",
       "        vertical-align: top;\n",
       "    }\n",
       "\n",
       "    .dataframe thead th {\n",
       "        text-align: right;\n",
       "    }\n",
       "</style>\n",
       "<table border=\"1\" class=\"dataframe\">\n",
       "  <thead>\n",
       "    <tr style=\"text-align: right;\">\n",
       "      <th></th>\n",
       "      <th>A</th>\n",
       "      <th>B</th>\n",
       "      <th>BB</th>\n",
       "      <th>C</th>\n",
       "    </tr>\n",
       "  </thead>\n",
       "  <tbody>\n",
       "    <tr>\n",
       "      <th>0</th>\n",
       "      <td>1</td>\n",
       "      <td>4</td>\n",
       "      <td>NaN</td>\n",
       "      <td>0</td>\n",
       "    </tr>\n",
       "    <tr>\n",
       "      <th>1</th>\n",
       "      <td>3</td>\n",
       "      <td>4</td>\n",
       "      <td>NaN</td>\n",
       "      <td>0</td>\n",
       "    </tr>\n",
       "  </tbody>\n",
       "</table>\n",
       "</div>"
      ],
      "text/plain": [
       "   A  B   BB  C\n",
       "0  1  4  NaN  0\n",
       "1  3  4  NaN  0"
      ]
     },
     "execution_count": 120,
     "metadata": {},
     "output_type": "execute_result"
    }
   ],
   "source": [
    "df.iloc[0:2,0:4]\n",
    "# 기본적 동작은 loc과 동일하나, 받는 인자가 라벨이 아니고 '위치'다."
   ]
  },
  {
   "cell_type": "code",
   "execution_count": 121,
   "metadata": {
    "tags": []
   },
   "outputs": [
    {
     "data": {
      "text/html": [
       "<div>\n",
       "<style scoped>\n",
       "    .dataframe tbody tr th:only-of-type {\n",
       "        vertical-align: middle;\n",
       "    }\n",
       "\n",
       "    .dataframe tbody tr th {\n",
       "        vertical-align: top;\n",
       "    }\n",
       "\n",
       "    .dataframe thead th {\n",
       "        text-align: right;\n",
       "    }\n",
       "</style>\n",
       "<table border=\"1\" class=\"dataframe\">\n",
       "  <thead>\n",
       "    <tr style=\"text-align: right;\">\n",
       "      <th></th>\n",
       "      <th>A</th>\n",
       "      <th>B</th>\n",
       "      <th>BB</th>\n",
       "      <th>C</th>\n",
       "    </tr>\n",
       "  </thead>\n",
       "  <tbody>\n",
       "    <tr>\n",
       "      <th>4</th>\n",
       "      <td>1</td>\n",
       "      <td>1</td>\n",
       "      <td>1</td>\n",
       "      <td>1</td>\n",
       "    </tr>\n",
       "    <tr>\n",
       "      <th>99</th>\n",
       "      <td>1</td>\n",
       "      <td>1</td>\n",
       "      <td>1</td>\n",
       "      <td>1</td>\n",
       "    </tr>\n",
       "    <tr>\n",
       "      <th>cool</th>\n",
       "      <td>22</td>\n",
       "      <td>22</td>\n",
       "      <td>22</td>\n",
       "      <td>22</td>\n",
       "    </tr>\n",
       "  </tbody>\n",
       "</table>\n",
       "</div>"
      ],
      "text/plain": [
       "       A   B  BB   C\n",
       "4      1   1   1   1\n",
       "99     1   1   1   1\n",
       "cool  22  22  22  22"
      ]
     },
     "execution_count": 121,
     "metadata": {},
     "output_type": "execute_result"
    }
   ],
   "source": [
    "df.iloc[4:7,0:4]\n",
    "# 위치를 받기 때문에, index는 99여도 5번째 줄로 인식됨"
   ]
  },
  {
   "cell_type": "code",
   "execution_count": 122,
   "metadata": {
    "tags": []
   },
   "outputs": [
    {
     "ename": "IndexError",
     "evalue": "iloc cannot enlarge its target object",
     "output_type": "error",
     "traceback": [
      "\u001b[0;31m---------------------------------------------------------------------------\u001b[0m",
      "\u001b[0;31mIndexError\u001b[0m                                Traceback (most recent call last)",
      "Cell \u001b[0;32mIn[122], line 1\u001b[0m\n\u001b[0;32m----> 1\u001b[0m \u001b[43mdf\u001b[49m\u001b[38;5;241;43m.\u001b[39;49m\u001b[43miloc\u001b[49m\u001b[43m[\u001b[49m\u001b[38;5;241;43m7\u001b[39;49m\u001b[43m]\u001b[49m \u001b[38;5;241m=\u001b[39m [\u001b[38;5;241m2\u001b[39m] \u001b[38;5;241m*\u001b[39m \u001b[38;5;28mlen\u001b[39m(df\u001b[38;5;241m.\u001b[39mcolumns)\n\u001b[1;32m      2\u001b[0m \u001b[38;5;66;03m# IndexError: iloc cannot enlarge its target object\u001b[39;00m\n\u001b[1;32m      3\u001b[0m \u001b[38;5;66;03m# 위치를 인자로 받기 때문에, 새로운 컬럼, 행을 만든다거나 하는 행위는 불가능하다.\u001b[39;00m\n",
      "File \u001b[0;32m~/.pyenv/versions/3.11.2/lib/python3.11/site-packages/pandas/core/indexing.py:815\u001b[0m, in \u001b[0;36m_LocationIndexer.__setitem__\u001b[0;34m(self, key, value)\u001b[0m\n\u001b[1;32m    813\u001b[0m     key \u001b[38;5;241m=\u001b[39m com\u001b[38;5;241m.\u001b[39mapply_if_callable(key, \u001b[38;5;28mself\u001b[39m\u001b[38;5;241m.\u001b[39mobj)\n\u001b[1;32m    814\u001b[0m indexer \u001b[38;5;241m=\u001b[39m \u001b[38;5;28mself\u001b[39m\u001b[38;5;241m.\u001b[39m_get_setitem_indexer(key)\n\u001b[0;32m--> 815\u001b[0m \u001b[38;5;28;43mself\u001b[39;49m\u001b[38;5;241;43m.\u001b[39;49m\u001b[43m_has_valid_setitem_indexer\u001b[49m\u001b[43m(\u001b[49m\u001b[43mkey\u001b[49m\u001b[43m)\u001b[49m\n\u001b[1;32m    817\u001b[0m iloc \u001b[38;5;241m=\u001b[39m \u001b[38;5;28mself\u001b[39m \u001b[38;5;28;01mif\u001b[39;00m \u001b[38;5;28mself\u001b[39m\u001b[38;5;241m.\u001b[39mname \u001b[38;5;241m==\u001b[39m \u001b[38;5;124m\"\u001b[39m\u001b[38;5;124miloc\u001b[39m\u001b[38;5;124m\"\u001b[39m \u001b[38;5;28;01melse\u001b[39;00m \u001b[38;5;28mself\u001b[39m\u001b[38;5;241m.\u001b[39mobj\u001b[38;5;241m.\u001b[39miloc\n\u001b[1;32m    818\u001b[0m iloc\u001b[38;5;241m.\u001b[39m_setitem_with_indexer(indexer, value, \u001b[38;5;28mself\u001b[39m\u001b[38;5;241m.\u001b[39mname)\n",
      "File \u001b[0;32m~/.pyenv/versions/3.11.2/lib/python3.11/site-packages/pandas/core/indexing.py:1518\u001b[0m, in \u001b[0;36m_iLocIndexer._has_valid_setitem_indexer\u001b[0;34m(self, indexer)\u001b[0m\n\u001b[1;32m   1516\u001b[0m \u001b[38;5;28;01melif\u001b[39;00m is_integer(i):\n\u001b[1;32m   1517\u001b[0m     \u001b[38;5;28;01mif\u001b[39;00m i \u001b[38;5;241m>\u001b[39m\u001b[38;5;241m=\u001b[39m \u001b[38;5;28mlen\u001b[39m(ax):\n\u001b[0;32m-> 1518\u001b[0m         \u001b[38;5;28;01mraise\u001b[39;00m \u001b[38;5;167;01mIndexError\u001b[39;00m(\u001b[38;5;124m\"\u001b[39m\u001b[38;5;124miloc cannot enlarge its target object\u001b[39m\u001b[38;5;124m\"\u001b[39m)\n\u001b[1;32m   1519\u001b[0m \u001b[38;5;28;01melif\u001b[39;00m \u001b[38;5;28misinstance\u001b[39m(i, \u001b[38;5;28mdict\u001b[39m):\n\u001b[1;32m   1520\u001b[0m     \u001b[38;5;28;01mraise\u001b[39;00m \u001b[38;5;167;01mIndexError\u001b[39;00m(\u001b[38;5;124m\"\u001b[39m\u001b[38;5;124miloc cannot enlarge its target object\u001b[39m\u001b[38;5;124m\"\u001b[39m)\n",
      "\u001b[0;31mIndexError\u001b[0m: iloc cannot enlarge its target object"
     ]
    }
   ],
   "source": [
    "df.iloc[7] = [2] * len(df.columns)\n",
    "# IndexError: iloc cannot enlarge its target object\n",
    "# 위치를 인자로 받기 때문에, 새로운 컬럼, 행을 만든다거나 하는 행위는 불가능하다."
   ]
  },
  {
   "cell_type": "markdown",
   "metadata": {
    "tags": []
   },
   "source": [
    "### 2-3. at : 스칼라값 접근"
   ]
  },
  {
   "cell_type": "code",
   "execution_count": 127,
   "metadata": {
    "tags": []
   },
   "outputs": [
    {
     "data": {
      "text/plain": [
       "3"
      ]
     },
     "execution_count": 127,
     "metadata": {},
     "output_type": "execute_result"
    }
   ],
   "source": [
    "df.at[1,'A']\n",
    "# 한 번에 1개의 스칼라값에만 접근 가능\n",
    "# 여러 개의 값에 접근하려고 범위를 지정하면, 에러를 출력한다.\n",
    "# 단일 값에 접근하는 목적이라면 loc보다 훨씬 빠름"
   ]
  },
  {
   "cell_type": "code",
   "execution_count": 128,
   "metadata": {
    "tags": []
   },
   "outputs": [
    {
     "data": {
      "text/html": [
       "<div>\n",
       "<style scoped>\n",
       "    .dataframe tbody tr th:only-of-type {\n",
       "        vertical-align: middle;\n",
       "    }\n",
       "\n",
       "    .dataframe tbody tr th {\n",
       "        vertical-align: top;\n",
       "    }\n",
       "\n",
       "    .dataframe thead th {\n",
       "        text-align: right;\n",
       "    }\n",
       "</style>\n",
       "<table border=\"1\" class=\"dataframe\">\n",
       "  <thead>\n",
       "    <tr style=\"text-align: right;\">\n",
       "      <th></th>\n",
       "      <th>A</th>\n",
       "      <th>B</th>\n",
       "      <th>BB</th>\n",
       "      <th>C</th>\n",
       "      <th>D</th>\n",
       "      <th>new</th>\n",
       "      <th>apply_bb_d</th>\n",
       "    </tr>\n",
       "  </thead>\n",
       "  <tbody>\n",
       "    <tr>\n",
       "      <th>0</th>\n",
       "      <td>1</td>\n",
       "      <td>4</td>\n",
       "      <td>NaN</td>\n",
       "      <td>0</td>\n",
       "      <td>NaN</td>\n",
       "      <td>2.000000</td>\n",
       "      <td>NaN</td>\n",
       "    </tr>\n",
       "    <tr>\n",
       "      <th>1</th>\n",
       "      <td>100</td>\n",
       "      <td>4</td>\n",
       "      <td>NaN</td>\n",
       "      <td>0</td>\n",
       "      <td>NaN</td>\n",
       "      <td>3.464102</td>\n",
       "      <td>NaN</td>\n",
       "    </tr>\n",
       "    <tr>\n",
       "      <th>2</th>\n",
       "      <td>1</td>\n",
       "      <td>6</td>\n",
       "      <td>NaN</td>\n",
       "      <td>NaN</td>\n",
       "      <td>NaN</td>\n",
       "      <td>2.449490</td>\n",
       "      <td>NaN</td>\n",
       "    </tr>\n",
       "    <tr>\n",
       "      <th>3</th>\n",
       "      <td>1</td>\n",
       "      <td>2</td>\n",
       "      <td>3</td>\n",
       "      <td>4</td>\n",
       "      <td>5</td>\n",
       "      <td>1.414214</td>\n",
       "      <td>2.44949</td>\n",
       "    </tr>\n",
       "    <tr>\n",
       "      <th>4</th>\n",
       "      <td>1</td>\n",
       "      <td>1</td>\n",
       "      <td>1</td>\n",
       "      <td>1</td>\n",
       "      <td>1</td>\n",
       "      <td>1.000000</td>\n",
       "      <td>1.00000</td>\n",
       "    </tr>\n",
       "    <tr>\n",
       "      <th>99</th>\n",
       "      <td>1</td>\n",
       "      <td>1</td>\n",
       "      <td>1</td>\n",
       "      <td>1</td>\n",
       "      <td>1</td>\n",
       "      <td>1.000000</td>\n",
       "      <td>1.00000</td>\n",
       "    </tr>\n",
       "    <tr>\n",
       "      <th>cool</th>\n",
       "      <td>22</td>\n",
       "      <td>22</td>\n",
       "      <td>22</td>\n",
       "      <td>22</td>\n",
       "      <td>22</td>\n",
       "      <td>22.000000</td>\n",
       "      <td>22.00000</td>\n",
       "    </tr>\n",
       "  </tbody>\n",
       "</table>\n",
       "</div>"
      ],
      "text/plain": [
       "        A   B   BB    C    D        new  apply_bb_d\n",
       "0       1   4  NaN    0  NaN   2.000000         NaN\n",
       "1     100   4  NaN    0  NaN   3.464102         NaN\n",
       "2       1   6  NaN  NaN  NaN   2.449490         NaN\n",
       "3       1   2    3    4    5   1.414214     2.44949\n",
       "4       1   1    1    1    1   1.000000     1.00000\n",
       "99      1   1    1    1    1   1.000000     1.00000\n",
       "cool   22  22   22   22   22  22.000000    22.00000"
      ]
     },
     "execution_count": 128,
     "metadata": {},
     "output_type": "execute_result"
    }
   ],
   "source": [
    "df.at[1,'A'] = 100\n",
    "df\n",
    "# 값을 딱 하나만 바꾸고 싶다! 라고 하면 at을 활용해보자."
   ]
  },
  {
   "cell_type": "code",
   "execution_count": 129,
   "metadata": {
    "tags": []
   },
   "outputs": [
    {
     "data": {
      "text/plain": [
       "1.0"
      ]
     },
     "execution_count": 129,
     "metadata": {},
     "output_type": "execute_result"
    }
   ],
   "source": [
    "df.at[99, 'new']\n",
    "# 그 이외에는 label base인 것이 loc과 똑같음"
   ]
  },
  {
   "cell_type": "markdown",
   "metadata": {
    "tags": []
   },
   "source": [
    "### 2-4. iat : iloc의 스칼라 버전"
   ]
  },
  {
   "cell_type": "code",
   "execution_count": 130,
   "metadata": {
    "tags": []
   },
   "outputs": [
    {
     "data": {
      "text/plain": [
       "1"
      ]
     },
     "execution_count": 130,
     "metadata": {},
     "output_type": "execute_result"
    }
   ],
   "source": [
    "df.iat[4,2]\n",
    "# iloc의 스칼라 버전.\n",
    "# 이외의 동작은 at과 같다."
   ]
  },
  {
   "cell_type": "code",
   "execution_count": 131,
   "metadata": {
    "tags": []
   },
   "outputs": [
    {
     "data": {
      "text/plain": [
       "22.0"
      ]
     },
     "execution_count": 131,
     "metadata": {},
     "output_type": "execute_result"
    }
   ],
   "source": [
    "df.iat[df.index.get_loc('cool'),df.columns.get_loc('new')]\n",
    "# get_loc을 쓰면, 해당 인덱스와 컬럼의 위치를 반환받을 수 있음.\n",
    "# 그럼 인덱스와 컬럼의 이름으로도 iat, iloc을 이용 가능"
   ]
  },
  {
   "cell_type": "markdown",
   "metadata": {
    "tags": []
   },
   "source": [
    "### 2-5 map : Series의 원소 하나하나에 함수 적용\n",
    " \n",
    "- map함수는 DataFrame 타입이 아니라, 반드시 Series 타입에서만 사용해야 한다.\n",
    "- Series를 한마디로 정의하면 딱 이거다.\n",
    "    - 값(value) + 인덱스(index) = 시리즈 클래스(Series)\n",
    "- Series는 NumPy에서 제공하는 1차원 배열과 비슷하지만 각 데이터의 의미를 표시하는 인덱스(index)를 붙일 수 있다. 하지만 데이터 자체는 그냥 값(value)의 1차원 배열이다.\n",
    "- map함수는 Series의 이러한 값 하나하나에 접근하면서 해당 함수를 수행한다."
   ]
  },
  {
   "cell_type": "code",
   "execution_count": 132,
   "metadata": {
    "tags": []
   },
   "outputs": [
    {
     "data": {
      "text/html": [
       "<div>\n",
       "<style scoped>\n",
       "    .dataframe tbody tr th:only-of-type {\n",
       "        vertical-align: middle;\n",
       "    }\n",
       "\n",
       "    .dataframe tbody tr th {\n",
       "        vertical-align: top;\n",
       "    }\n",
       "\n",
       "    .dataframe thead th {\n",
       "        text-align: right;\n",
       "    }\n",
       "</style>\n",
       "<table border=\"1\" class=\"dataframe\">\n",
       "  <thead>\n",
       "    <tr style=\"text-align: right;\">\n",
       "      <th></th>\n",
       "      <th>A</th>\n",
       "      <th>B</th>\n",
       "      <th>BB</th>\n",
       "      <th>C</th>\n",
       "      <th>D</th>\n",
       "      <th>new</th>\n",
       "      <th>apply_bb_d</th>\n",
       "      <th>map_b</th>\n",
       "    </tr>\n",
       "  </thead>\n",
       "  <tbody>\n",
       "    <tr>\n",
       "      <th>0</th>\n",
       "      <td>1</td>\n",
       "      <td>4</td>\n",
       "      <td>NaN</td>\n",
       "      <td>0</td>\n",
       "      <td>NaN</td>\n",
       "      <td>2.000000</td>\n",
       "      <td>NaN</td>\n",
       "      <td>2.000000</td>\n",
       "    </tr>\n",
       "    <tr>\n",
       "      <th>1</th>\n",
       "      <td>100</td>\n",
       "      <td>4</td>\n",
       "      <td>NaN</td>\n",
       "      <td>0</td>\n",
       "      <td>NaN</td>\n",
       "      <td>3.464102</td>\n",
       "      <td>NaN</td>\n",
       "      <td>2.000000</td>\n",
       "    </tr>\n",
       "    <tr>\n",
       "      <th>2</th>\n",
       "      <td>1</td>\n",
       "      <td>6</td>\n",
       "      <td>NaN</td>\n",
       "      <td>NaN</td>\n",
       "      <td>NaN</td>\n",
       "      <td>2.449490</td>\n",
       "      <td>NaN</td>\n",
       "      <td>2.449490</td>\n",
       "    </tr>\n",
       "    <tr>\n",
       "      <th>3</th>\n",
       "      <td>1</td>\n",
       "      <td>2</td>\n",
       "      <td>3</td>\n",
       "      <td>4</td>\n",
       "      <td>5</td>\n",
       "      <td>1.414214</td>\n",
       "      <td>2.44949</td>\n",
       "      <td>1.414214</td>\n",
       "    </tr>\n",
       "    <tr>\n",
       "      <th>4</th>\n",
       "      <td>1</td>\n",
       "      <td>1</td>\n",
       "      <td>1</td>\n",
       "      <td>1</td>\n",
       "      <td>1</td>\n",
       "      <td>1.000000</td>\n",
       "      <td>1.00000</td>\n",
       "      <td>1.000000</td>\n",
       "    </tr>\n",
       "    <tr>\n",
       "      <th>99</th>\n",
       "      <td>1</td>\n",
       "      <td>1</td>\n",
       "      <td>1</td>\n",
       "      <td>1</td>\n",
       "      <td>1</td>\n",
       "      <td>1.000000</td>\n",
       "      <td>1.00000</td>\n",
       "      <td>1.000000</td>\n",
       "    </tr>\n",
       "    <tr>\n",
       "      <th>cool</th>\n",
       "      <td>22</td>\n",
       "      <td>22</td>\n",
       "      <td>22</td>\n",
       "      <td>22</td>\n",
       "      <td>22</td>\n",
       "      <td>22.000000</td>\n",
       "      <td>22.00000</td>\n",
       "      <td>4.690416</td>\n",
       "    </tr>\n",
       "  </tbody>\n",
       "</table>\n",
       "</div>"
      ],
      "text/plain": [
       "        A   B   BB    C    D        new  apply_bb_d     map_b\n",
       "0       1   4  NaN    0  NaN   2.000000         NaN  2.000000\n",
       "1     100   4  NaN    0  NaN   3.464102         NaN  2.000000\n",
       "2       1   6  NaN  NaN  NaN   2.449490         NaN  2.449490\n",
       "3       1   2    3    4    5   1.414214     2.44949  1.414214\n",
       "4       1   1    1    1    1   1.000000     1.00000  1.000000\n",
       "99      1   1    1    1    1   1.000000     1.00000  1.000000\n",
       "cool   22  22   22   22   22  22.000000    22.00000  4.690416"
      ]
     },
     "execution_count": 132,
     "metadata": {},
     "output_type": "execute_result"
    }
   ],
   "source": [
    "import math as m # sqrt 함수 사용을 위해 부름\n",
    "# http://www.leejungmin.org/post/2018/04/21/pandas_apply_and_map/\n",
    "df[\"map_b\"] = df[\"B\"].map(lambda x : m.sqrt(x)) \n",
    "# B컬럼의 값 하나하나에 sqrt 함수를 적용한 결과를 map_b 컬럼으로 추가\n",
    "df"
   ]
  },
  {
   "cell_type": "markdown",
   "metadata": {
    "tags": []
   },
   "source": [
    "### 2-6. apply : 커스텀 함수에 복수 개의 컬럼이 필요하다면\n",
    "- 커스텀 함수를 사용하기 위해 DataFrame에서 복수 개의 컬럼이 필요하다면, apply 함수를 사용해야 한다."
   ]
  },
  {
   "cell_type": "code",
   "execution_count": 133,
   "metadata": {
    "tags": []
   },
   "outputs": [],
   "source": [
    "import math as m # sqrt 함수 사용을 위해 부름\n",
    "# 두 컬럼의 제곱근의 값을 각각 곱하는 함수\n",
    "def sqrt_multi(x,y):\n",
    "    return m.sqrt(x) * m.sqrt(y)"
   ]
  },
  {
   "cell_type": "code",
   "execution_count": 134,
   "metadata": {
    "tags": []
   },
   "outputs": [
    {
     "data": {
      "text/html": [
       "<div>\n",
       "<style scoped>\n",
       "    .dataframe tbody tr th:only-of-type {\n",
       "        vertical-align: middle;\n",
       "    }\n",
       "\n",
       "    .dataframe tbody tr th {\n",
       "        vertical-align: top;\n",
       "    }\n",
       "\n",
       "    .dataframe thead th {\n",
       "        text-align: right;\n",
       "    }\n",
       "</style>\n",
       "<table border=\"1\" class=\"dataframe\">\n",
       "  <thead>\n",
       "    <tr style=\"text-align: right;\">\n",
       "      <th></th>\n",
       "      <th>A</th>\n",
       "      <th>B</th>\n",
       "      <th>BB</th>\n",
       "      <th>C</th>\n",
       "      <th>D</th>\n",
       "      <th>new</th>\n",
       "      <th>apply_bb_d</th>\n",
       "      <th>map_b</th>\n",
       "    </tr>\n",
       "  </thead>\n",
       "  <tbody>\n",
       "    <tr>\n",
       "      <th>0</th>\n",
       "      <td>1</td>\n",
       "      <td>4</td>\n",
       "      <td>NaN</td>\n",
       "      <td>0</td>\n",
       "      <td>NaN</td>\n",
       "      <td>2.000000</td>\n",
       "      <td>NaN</td>\n",
       "      <td>2.000000</td>\n",
       "    </tr>\n",
       "    <tr>\n",
       "      <th>1</th>\n",
       "      <td>100</td>\n",
       "      <td>4</td>\n",
       "      <td>NaN</td>\n",
       "      <td>0</td>\n",
       "      <td>NaN</td>\n",
       "      <td>20.000000</td>\n",
       "      <td>NaN</td>\n",
       "      <td>2.000000</td>\n",
       "    </tr>\n",
       "    <tr>\n",
       "      <th>2</th>\n",
       "      <td>1</td>\n",
       "      <td>6</td>\n",
       "      <td>NaN</td>\n",
       "      <td>NaN</td>\n",
       "      <td>NaN</td>\n",
       "      <td>2.449490</td>\n",
       "      <td>NaN</td>\n",
       "      <td>2.449490</td>\n",
       "    </tr>\n",
       "    <tr>\n",
       "      <th>3</th>\n",
       "      <td>1</td>\n",
       "      <td>2</td>\n",
       "      <td>3</td>\n",
       "      <td>4</td>\n",
       "      <td>5</td>\n",
       "      <td>1.414214</td>\n",
       "      <td>2.44949</td>\n",
       "      <td>1.414214</td>\n",
       "    </tr>\n",
       "    <tr>\n",
       "      <th>4</th>\n",
       "      <td>1</td>\n",
       "      <td>1</td>\n",
       "      <td>1</td>\n",
       "      <td>1</td>\n",
       "      <td>1</td>\n",
       "      <td>1.000000</td>\n",
       "      <td>1.00000</td>\n",
       "      <td>1.000000</td>\n",
       "    </tr>\n",
       "    <tr>\n",
       "      <th>99</th>\n",
       "      <td>1</td>\n",
       "      <td>1</td>\n",
       "      <td>1</td>\n",
       "      <td>1</td>\n",
       "      <td>1</td>\n",
       "      <td>1.000000</td>\n",
       "      <td>1.00000</td>\n",
       "      <td>1.000000</td>\n",
       "    </tr>\n",
       "    <tr>\n",
       "      <th>cool</th>\n",
       "      <td>22</td>\n",
       "      <td>22</td>\n",
       "      <td>22</td>\n",
       "      <td>22</td>\n",
       "      <td>22</td>\n",
       "      <td>22.000000</td>\n",
       "      <td>22.00000</td>\n",
       "      <td>4.690416</td>\n",
       "    </tr>\n",
       "  </tbody>\n",
       "</table>\n",
       "</div>"
      ],
      "text/plain": [
       "        A   B   BB    C    D        new  apply_bb_d     map_b\n",
       "0       1   4  NaN    0  NaN   2.000000         NaN  2.000000\n",
       "1     100   4  NaN    0  NaN  20.000000         NaN  2.000000\n",
       "2       1   6  NaN  NaN  NaN   2.449490         NaN  2.449490\n",
       "3       1   2    3    4    5   1.414214     2.44949  1.414214\n",
       "4       1   1    1    1    1   1.000000     1.00000  1.000000\n",
       "99      1   1    1    1    1   1.000000     1.00000  1.000000\n",
       "cool   22  22   22   22   22  22.000000    22.00000  4.690416"
      ]
     },
     "execution_count": 134,
     "metadata": {},
     "output_type": "execute_result"
    }
   ],
   "source": [
    "df.loc[:,'new'] = df.apply(lambda x : sqrt_multi(x['A'], x['B']), axis=1) # axis=1 이면 각 열의 원소에 대해 연산 수행\n",
    "df"
   ]
  },
  {
   "cell_type": "code",
   "execution_count": 135,
   "metadata": {
    "tags": []
   },
   "outputs": [
    {
     "data": {
      "text/html": [
       "<div>\n",
       "<style scoped>\n",
       "    .dataframe tbody tr th:only-of-type {\n",
       "        vertical-align: middle;\n",
       "    }\n",
       "\n",
       "    .dataframe tbody tr th {\n",
       "        vertical-align: top;\n",
       "    }\n",
       "\n",
       "    .dataframe thead th {\n",
       "        text-align: right;\n",
       "    }\n",
       "</style>\n",
       "<table border=\"1\" class=\"dataframe\">\n",
       "  <thead>\n",
       "    <tr style=\"text-align: right;\">\n",
       "      <th></th>\n",
       "      <th>A</th>\n",
       "      <th>B</th>\n",
       "      <th>BB</th>\n",
       "      <th>C</th>\n",
       "      <th>D</th>\n",
       "      <th>new</th>\n",
       "      <th>apply_bb_d</th>\n",
       "      <th>map_b</th>\n",
       "    </tr>\n",
       "  </thead>\n",
       "  <tbody>\n",
       "    <tr>\n",
       "      <th>0</th>\n",
       "      <td>1</td>\n",
       "      <td>4</td>\n",
       "      <td>NaN</td>\n",
       "      <td>0</td>\n",
       "      <td>NaN</td>\n",
       "      <td>2.000000</td>\n",
       "      <td>NaN</td>\n",
       "      <td>2.000000</td>\n",
       "    </tr>\n",
       "    <tr>\n",
       "      <th>1</th>\n",
       "      <td>100</td>\n",
       "      <td>4</td>\n",
       "      <td>NaN</td>\n",
       "      <td>0</td>\n",
       "      <td>NaN</td>\n",
       "      <td>20.000000</td>\n",
       "      <td>NaN</td>\n",
       "      <td>2.000000</td>\n",
       "    </tr>\n",
       "    <tr>\n",
       "      <th>2</th>\n",
       "      <td>1</td>\n",
       "      <td>6</td>\n",
       "      <td>NaN</td>\n",
       "      <td>NaN</td>\n",
       "      <td>NaN</td>\n",
       "      <td>2.449490</td>\n",
       "      <td>NaN</td>\n",
       "      <td>2.449490</td>\n",
       "    </tr>\n",
       "    <tr>\n",
       "      <th>3</th>\n",
       "      <td>1</td>\n",
       "      <td>2</td>\n",
       "      <td>3</td>\n",
       "      <td>4</td>\n",
       "      <td>5</td>\n",
       "      <td>1.414214</td>\n",
       "      <td>2.44949</td>\n",
       "      <td>1.414214</td>\n",
       "    </tr>\n",
       "    <tr>\n",
       "      <th>4</th>\n",
       "      <td>1</td>\n",
       "      <td>1</td>\n",
       "      <td>1</td>\n",
       "      <td>1</td>\n",
       "      <td>1</td>\n",
       "      <td>1.000000</td>\n",
       "      <td>1.00000</td>\n",
       "      <td>1.000000</td>\n",
       "    </tr>\n",
       "    <tr>\n",
       "      <th>99</th>\n",
       "      <td>1</td>\n",
       "      <td>1</td>\n",
       "      <td>1</td>\n",
       "      <td>1</td>\n",
       "      <td>1</td>\n",
       "      <td>1.000000</td>\n",
       "      <td>1.00000</td>\n",
       "      <td>1.000000</td>\n",
       "    </tr>\n",
       "    <tr>\n",
       "      <th>cool</th>\n",
       "      <td>22</td>\n",
       "      <td>22</td>\n",
       "      <td>22</td>\n",
       "      <td>22</td>\n",
       "      <td>22</td>\n",
       "      <td>22.000000</td>\n",
       "      <td>22.00000</td>\n",
       "      <td>4.690416</td>\n",
       "    </tr>\n",
       "  </tbody>\n",
       "</table>\n",
       "</div>"
      ],
      "text/plain": [
       "        A   B   BB    C    D        new  apply_bb_d     map_b\n",
       "0       1   4  NaN    0  NaN   2.000000         NaN  2.000000\n",
       "1     100   4  NaN    0  NaN  20.000000         NaN  2.000000\n",
       "2       1   6  NaN  NaN  NaN   2.449490         NaN  2.449490\n",
       "3       1   2    3    4    5   1.414214     2.44949  1.414214\n",
       "4       1   1    1    1    1   1.000000     1.00000  1.000000\n",
       "99      1   1    1    1    1   1.000000     1.00000  1.000000\n",
       "cool   22  22   22   22   22  22.000000    22.00000  4.690416"
      ]
     },
     "execution_count": 135,
     "metadata": {},
     "output_type": "execute_result"
    }
   ],
   "source": [
    "df[\"apply_bb_d\"] = df.apply(lambda x : sqrt_multi(x['BB'], x['B']), axis=1) # axis=1 이면 각 열의 원소에 대해 연산 수행\n",
    "df # NaN과의 연산은 NaN이 됨을 참고하자."
   ]
  },
  {
   "cell_type": "markdown",
   "metadata": {
    "tags": []
   },
   "source": [
    "### 2-7. index, columns로 index와 컬럼명 직접 지정"
   ]
  },
  {
   "cell_type": "code",
   "execution_count": 136,
   "metadata": {
    "tags": []
   },
   "outputs": [
    {
     "name": "stdout",
     "output_type": "stream",
     "text": [
      "Index(['A', 'B', 'BB', 'C', 'D', 'new', 'apply_bb_d', 'map_b'], dtype='object')\n",
      "<class 'pandas.core.indexes.base.Index'>\n",
      "Index([0, 1, 2, 3, 4, 99, 'cool'], dtype='object')\n",
      "<class 'pandas.core.indexes.base.Index'>\n",
      "BB\n",
      "cool\n"
     ]
    },
    {
     "data": {
      "text/html": [
       "<div>\n",
       "<style scoped>\n",
       "    .dataframe tbody tr th:only-of-type {\n",
       "        vertical-align: middle;\n",
       "    }\n",
       "\n",
       "    .dataframe tbody tr th {\n",
       "        vertical-align: top;\n",
       "    }\n",
       "\n",
       "    .dataframe thead th {\n",
       "        text-align: right;\n",
       "    }\n",
       "</style>\n",
       "<table border=\"1\" class=\"dataframe\">\n",
       "  <thead>\n",
       "    <tr style=\"text-align: right;\">\n",
       "      <th></th>\n",
       "      <th>A</th>\n",
       "      <th>B</th>\n",
       "      <th>BB</th>\n",
       "      <th>C</th>\n",
       "      <th>D</th>\n",
       "      <th>new</th>\n",
       "      <th>apply_bb_d</th>\n",
       "      <th>map_b</th>\n",
       "    </tr>\n",
       "  </thead>\n",
       "  <tbody>\n",
       "    <tr>\n",
       "      <th>0</th>\n",
       "      <td>1</td>\n",
       "      <td>4</td>\n",
       "      <td>NaN</td>\n",
       "      <td>0</td>\n",
       "      <td>NaN</td>\n",
       "      <td>2.000000</td>\n",
       "      <td>NaN</td>\n",
       "      <td>2.000000</td>\n",
       "    </tr>\n",
       "    <tr>\n",
       "      <th>1</th>\n",
       "      <td>100</td>\n",
       "      <td>4</td>\n",
       "      <td>NaN</td>\n",
       "      <td>0</td>\n",
       "      <td>NaN</td>\n",
       "      <td>20.000000</td>\n",
       "      <td>NaN</td>\n",
       "      <td>2.000000</td>\n",
       "    </tr>\n",
       "    <tr>\n",
       "      <th>2</th>\n",
       "      <td>1</td>\n",
       "      <td>6</td>\n",
       "      <td>NaN</td>\n",
       "      <td>NaN</td>\n",
       "      <td>NaN</td>\n",
       "      <td>2.449490</td>\n",
       "      <td>NaN</td>\n",
       "      <td>2.449490</td>\n",
       "    </tr>\n",
       "    <tr>\n",
       "      <th>3</th>\n",
       "      <td>1</td>\n",
       "      <td>2</td>\n",
       "      <td>3</td>\n",
       "      <td>4</td>\n",
       "      <td>5</td>\n",
       "      <td>1.414214</td>\n",
       "      <td>2.44949</td>\n",
       "      <td>1.414214</td>\n",
       "    </tr>\n",
       "    <tr>\n",
       "      <th>4</th>\n",
       "      <td>1</td>\n",
       "      <td>1</td>\n",
       "      <td>1</td>\n",
       "      <td>1</td>\n",
       "      <td>1</td>\n",
       "      <td>1.000000</td>\n",
       "      <td>1.00000</td>\n",
       "      <td>1.000000</td>\n",
       "    </tr>\n",
       "    <tr>\n",
       "      <th>99</th>\n",
       "      <td>1</td>\n",
       "      <td>1</td>\n",
       "      <td>1</td>\n",
       "      <td>1</td>\n",
       "      <td>1</td>\n",
       "      <td>1.000000</td>\n",
       "      <td>1.00000</td>\n",
       "      <td>1.000000</td>\n",
       "    </tr>\n",
       "    <tr>\n",
       "      <th>cool</th>\n",
       "      <td>22</td>\n",
       "      <td>22</td>\n",
       "      <td>22</td>\n",
       "      <td>22</td>\n",
       "      <td>22</td>\n",
       "      <td>22.000000</td>\n",
       "      <td>22.00000</td>\n",
       "      <td>4.690416</td>\n",
       "    </tr>\n",
       "  </tbody>\n",
       "</table>\n",
       "</div>"
      ],
      "text/plain": [
       "        A   B   BB    C    D        new  apply_bb_d     map_b\n",
       "0       1   4  NaN    0  NaN   2.000000         NaN  2.000000\n",
       "1     100   4  NaN    0  NaN  20.000000         NaN  2.000000\n",
       "2       1   6  NaN  NaN  NaN   2.449490         NaN  2.449490\n",
       "3       1   2    3    4    5   1.414214     2.44949  1.414214\n",
       "4       1   1    1    1    1   1.000000     1.00000  1.000000\n",
       "99      1   1    1    1    1   1.000000     1.00000  1.000000\n",
       "cool   22  22   22   22   22  22.000000    22.00000  4.690416"
      ]
     },
     "execution_count": 136,
     "metadata": {},
     "output_type": "execute_result"
    }
   ],
   "source": [
    "print(df.columns)\n",
    "print(type(df.columns))\n",
    "print(df.index)\n",
    "print(type(df.index))\n",
    "print(df.columns[2]) # 위치값으로 개별 요소에 접근 가능\n",
    "print(df.index[6])\n",
    "df"
   ]
  },
  {
   "cell_type": "code",
   "execution_count": 137,
   "metadata": {
    "tags": []
   },
   "outputs": [
    {
     "name": "stdout",
     "output_type": "stream",
     "text": [
      "Index(['가', '나', '다', '라', '마', '바', '사', '아'], dtype='object')\n",
      "<class 'pandas.core.indexes.base.Index'>\n"
     ]
    }
   ],
   "source": [
    "df.columns = ['가', '나', '다', '라', '마', '바', '사', '아'] \n",
    "# df.columns에 직접 컬럼명 리스트를 할당하여 컬럼명 변경 가능\n",
    "# 기존 컬럼 수와 같은 길이의 리스트를 넣지 않으면 오류가 발생함\n",
    "print(df.columns)\n",
    "print(type(df.columns))"
   ]
  },
  {
   "cell_type": "code",
   "execution_count": 138,
   "metadata": {
    "tags": []
   },
   "outputs": [
    {
     "name": "stdout",
     "output_type": "stream",
     "text": [
      "Int64Index([1, 2, 3, 4, 5, 6, 7], dtype='int64')\n",
      "<class 'pandas.core.indexes.numeric.Int64Index'>\n"
     ]
    }
   ],
   "source": [
    "df.index = [1,2,3,4,5,6,7] \n",
    "# df.columns에 직접 컬럼명 리스트를 할당하여 컬럼명 변경 가능\n",
    "print(df.index)\n",
    "print(type(df.index))"
   ]
  },
  {
   "cell_type": "code",
   "execution_count": 139,
   "metadata": {
    "tags": []
   },
   "outputs": [
    {
     "data": {
      "text/html": [
       "<div>\n",
       "<style scoped>\n",
       "    .dataframe tbody tr th:only-of-type {\n",
       "        vertical-align: middle;\n",
       "    }\n",
       "\n",
       "    .dataframe tbody tr th {\n",
       "        vertical-align: top;\n",
       "    }\n",
       "\n",
       "    .dataframe thead th {\n",
       "        text-align: right;\n",
       "    }\n",
       "</style>\n",
       "<table border=\"1\" class=\"dataframe\">\n",
       "  <thead>\n",
       "    <tr style=\"text-align: right;\">\n",
       "      <th></th>\n",
       "      <th>가</th>\n",
       "      <th>나</th>\n",
       "      <th>다</th>\n",
       "      <th>라</th>\n",
       "      <th>마</th>\n",
       "      <th>바</th>\n",
       "      <th>사</th>\n",
       "      <th>아</th>\n",
       "    </tr>\n",
       "  </thead>\n",
       "  <tbody>\n",
       "    <tr>\n",
       "      <th>1</th>\n",
       "      <td>1</td>\n",
       "      <td>4</td>\n",
       "      <td>NaN</td>\n",
       "      <td>0</td>\n",
       "      <td>NaN</td>\n",
       "      <td>2.000000</td>\n",
       "      <td>NaN</td>\n",
       "      <td>2.000000</td>\n",
       "    </tr>\n",
       "    <tr>\n",
       "      <th>2</th>\n",
       "      <td>100</td>\n",
       "      <td>4</td>\n",
       "      <td>NaN</td>\n",
       "      <td>0</td>\n",
       "      <td>NaN</td>\n",
       "      <td>20.000000</td>\n",
       "      <td>NaN</td>\n",
       "      <td>2.000000</td>\n",
       "    </tr>\n",
       "    <tr>\n",
       "      <th>3</th>\n",
       "      <td>1</td>\n",
       "      <td>6</td>\n",
       "      <td>NaN</td>\n",
       "      <td>NaN</td>\n",
       "      <td>NaN</td>\n",
       "      <td>2.449490</td>\n",
       "      <td>NaN</td>\n",
       "      <td>2.449490</td>\n",
       "    </tr>\n",
       "    <tr>\n",
       "      <th>4</th>\n",
       "      <td>1</td>\n",
       "      <td>2</td>\n",
       "      <td>3</td>\n",
       "      <td>4</td>\n",
       "      <td>5</td>\n",
       "      <td>1.414214</td>\n",
       "      <td>2.44949</td>\n",
       "      <td>1.414214</td>\n",
       "    </tr>\n",
       "    <tr>\n",
       "      <th>5</th>\n",
       "      <td>1</td>\n",
       "      <td>1</td>\n",
       "      <td>1</td>\n",
       "      <td>1</td>\n",
       "      <td>1</td>\n",
       "      <td>1.000000</td>\n",
       "      <td>1.00000</td>\n",
       "      <td>1.000000</td>\n",
       "    </tr>\n",
       "    <tr>\n",
       "      <th>6</th>\n",
       "      <td>1</td>\n",
       "      <td>1</td>\n",
       "      <td>1</td>\n",
       "      <td>1</td>\n",
       "      <td>1</td>\n",
       "      <td>1.000000</td>\n",
       "      <td>1.00000</td>\n",
       "      <td>1.000000</td>\n",
       "    </tr>\n",
       "    <tr>\n",
       "      <th>7</th>\n",
       "      <td>22</td>\n",
       "      <td>22</td>\n",
       "      <td>22</td>\n",
       "      <td>22</td>\n",
       "      <td>22</td>\n",
       "      <td>22.000000</td>\n",
       "      <td>22.00000</td>\n",
       "      <td>4.690416</td>\n",
       "    </tr>\n",
       "  </tbody>\n",
       "</table>\n",
       "</div>"
      ],
      "text/plain": [
       "     가   나    다    라    마          바         사         아\n",
       "1    1   4  NaN    0  NaN   2.000000       NaN  2.000000\n",
       "2  100   4  NaN    0  NaN  20.000000       NaN  2.000000\n",
       "3    1   6  NaN  NaN  NaN   2.449490       NaN  2.449490\n",
       "4    1   2    3    4    5   1.414214   2.44949  1.414214\n",
       "5    1   1    1    1    1   1.000000   1.00000  1.000000\n",
       "6    1   1    1    1    1   1.000000   1.00000  1.000000\n",
       "7   22  22   22   22   22  22.000000  22.00000  4.690416"
      ]
     },
     "execution_count": 139,
     "metadata": {},
     "output_type": "execute_result"
    }
   ],
   "source": [
    "df"
   ]
  },
  {
   "cell_type": "markdown",
   "metadata": {
    "tags": []
   },
   "source": [
    "### 2-8. set_index로 index 설정\n",
    "```DataFrame.set_index(keys, drop=True, append=False, inplace=False)```\n",
    "\n",
    "- keys에는 index로 할당하고자 하는 열의 레이블을 입력한다.\n",
    "  - multi-index를 하고 싶으면, ['가', '나'] 이렇게 열 레이블 배열을 입력한다.\n",
    "- drop : index로 할당한 열을 삭제할까요?\n",
    "- append : 기존에 존재하던 index를 삭제할까요?\n",
    "- inplace : 원본 데이터프레임을 변경할까요?"
   ]
  },
  {
   "cell_type": "code",
   "execution_count": 140,
   "metadata": {
    "tags": []
   },
   "outputs": [
    {
     "data": {
      "text/html": [
       "<div>\n",
       "<style scoped>\n",
       "    .dataframe tbody tr th:only-of-type {\n",
       "        vertical-align: middle;\n",
       "    }\n",
       "\n",
       "    .dataframe tbody tr th {\n",
       "        vertical-align: top;\n",
       "    }\n",
       "\n",
       "    .dataframe thead th {\n",
       "        text-align: right;\n",
       "    }\n",
       "</style>\n",
       "<table border=\"1\" class=\"dataframe\">\n",
       "  <thead>\n",
       "    <tr style=\"text-align: right;\">\n",
       "      <th></th>\n",
       "      <th>가</th>\n",
       "      <th>나</th>\n",
       "      <th>다</th>\n",
       "      <th>라</th>\n",
       "      <th>마</th>\n",
       "      <th>바</th>\n",
       "      <th>사</th>\n",
       "      <th>아</th>\n",
       "    </tr>\n",
       "  </thead>\n",
       "  <tbody>\n",
       "    <tr>\n",
       "      <th>1</th>\n",
       "      <td>1</td>\n",
       "      <td>4</td>\n",
       "      <td>NaN</td>\n",
       "      <td>0</td>\n",
       "      <td>NaN</td>\n",
       "      <td>2.000000</td>\n",
       "      <td>NaN</td>\n",
       "      <td>2.000000</td>\n",
       "    </tr>\n",
       "    <tr>\n",
       "      <th>2</th>\n",
       "      <td>100</td>\n",
       "      <td>4</td>\n",
       "      <td>NaN</td>\n",
       "      <td>0</td>\n",
       "      <td>NaN</td>\n",
       "      <td>20.000000</td>\n",
       "      <td>NaN</td>\n",
       "      <td>2.000000</td>\n",
       "    </tr>\n",
       "    <tr>\n",
       "      <th>3</th>\n",
       "      <td>1</td>\n",
       "      <td>6</td>\n",
       "      <td>NaN</td>\n",
       "      <td>NaN</td>\n",
       "      <td>NaN</td>\n",
       "      <td>2.449490</td>\n",
       "      <td>NaN</td>\n",
       "      <td>2.449490</td>\n",
       "    </tr>\n",
       "    <tr>\n",
       "      <th>4</th>\n",
       "      <td>1</td>\n",
       "      <td>2</td>\n",
       "      <td>3</td>\n",
       "      <td>4</td>\n",
       "      <td>5</td>\n",
       "      <td>1.414214</td>\n",
       "      <td>2.44949</td>\n",
       "      <td>1.414214</td>\n",
       "    </tr>\n",
       "    <tr>\n",
       "      <th>5</th>\n",
       "      <td>1</td>\n",
       "      <td>1</td>\n",
       "      <td>1</td>\n",
       "      <td>1</td>\n",
       "      <td>1</td>\n",
       "      <td>1.000000</td>\n",
       "      <td>1.00000</td>\n",
       "      <td>1.000000</td>\n",
       "    </tr>\n",
       "    <tr>\n",
       "      <th>6</th>\n",
       "      <td>1</td>\n",
       "      <td>1</td>\n",
       "      <td>1</td>\n",
       "      <td>1</td>\n",
       "      <td>1</td>\n",
       "      <td>1.000000</td>\n",
       "      <td>1.00000</td>\n",
       "      <td>1.000000</td>\n",
       "    </tr>\n",
       "    <tr>\n",
       "      <th>7</th>\n",
       "      <td>22</td>\n",
       "      <td>22</td>\n",
       "      <td>22</td>\n",
       "      <td>22</td>\n",
       "      <td>22</td>\n",
       "      <td>22.000000</td>\n",
       "      <td>22.00000</td>\n",
       "      <td>4.690416</td>\n",
       "    </tr>\n",
       "  </tbody>\n",
       "</table>\n",
       "</div>"
      ],
      "text/plain": [
       "     가   나    다    라    마          바         사         아\n",
       "1    1   4  NaN    0  NaN   2.000000       NaN  2.000000\n",
       "2  100   4  NaN    0  NaN  20.000000       NaN  2.000000\n",
       "3    1   6  NaN  NaN  NaN   2.449490       NaN  2.449490\n",
       "4    1   2    3    4    5   1.414214   2.44949  1.414214\n",
       "5    1   1    1    1    1   1.000000   1.00000  1.000000\n",
       "6    1   1    1    1    1   1.000000   1.00000  1.000000\n",
       "7   22  22   22   22   22  22.000000  22.00000  4.690416"
      ]
     },
     "execution_count": 140,
     "metadata": {},
     "output_type": "execute_result"
    }
   ],
   "source": [
    "df"
   ]
  },
  {
   "cell_type": "code",
   "execution_count": 141,
   "metadata": {
    "tags": []
   },
   "outputs": [
    {
     "data": {
      "text/html": [
       "<div>\n",
       "<style scoped>\n",
       "    .dataframe tbody tr th:only-of-type {\n",
       "        vertical-align: middle;\n",
       "    }\n",
       "\n",
       "    .dataframe tbody tr th {\n",
       "        vertical-align: top;\n",
       "    }\n",
       "\n",
       "    .dataframe thead th {\n",
       "        text-align: right;\n",
       "    }\n",
       "</style>\n",
       "<table border=\"1\" class=\"dataframe\">\n",
       "  <thead>\n",
       "    <tr style=\"text-align: right;\">\n",
       "      <th></th>\n",
       "      <th>나</th>\n",
       "      <th>다</th>\n",
       "      <th>라</th>\n",
       "      <th>마</th>\n",
       "      <th>바</th>\n",
       "      <th>사</th>\n",
       "      <th>아</th>\n",
       "    </tr>\n",
       "    <tr>\n",
       "      <th>가</th>\n",
       "      <th></th>\n",
       "      <th></th>\n",
       "      <th></th>\n",
       "      <th></th>\n",
       "      <th></th>\n",
       "      <th></th>\n",
       "      <th></th>\n",
       "    </tr>\n",
       "  </thead>\n",
       "  <tbody>\n",
       "    <tr>\n",
       "      <th>1</th>\n",
       "      <td>4</td>\n",
       "      <td>NaN</td>\n",
       "      <td>0</td>\n",
       "      <td>NaN</td>\n",
       "      <td>2.000000</td>\n",
       "      <td>NaN</td>\n",
       "      <td>2.000000</td>\n",
       "    </tr>\n",
       "    <tr>\n",
       "      <th>100</th>\n",
       "      <td>4</td>\n",
       "      <td>NaN</td>\n",
       "      <td>0</td>\n",
       "      <td>NaN</td>\n",
       "      <td>20.000000</td>\n",
       "      <td>NaN</td>\n",
       "      <td>2.000000</td>\n",
       "    </tr>\n",
       "    <tr>\n",
       "      <th>1</th>\n",
       "      <td>6</td>\n",
       "      <td>NaN</td>\n",
       "      <td>NaN</td>\n",
       "      <td>NaN</td>\n",
       "      <td>2.449490</td>\n",
       "      <td>NaN</td>\n",
       "      <td>2.449490</td>\n",
       "    </tr>\n",
       "    <tr>\n",
       "      <th>1</th>\n",
       "      <td>2</td>\n",
       "      <td>3</td>\n",
       "      <td>4</td>\n",
       "      <td>5</td>\n",
       "      <td>1.414214</td>\n",
       "      <td>2.44949</td>\n",
       "      <td>1.414214</td>\n",
       "    </tr>\n",
       "    <tr>\n",
       "      <th>1</th>\n",
       "      <td>1</td>\n",
       "      <td>1</td>\n",
       "      <td>1</td>\n",
       "      <td>1</td>\n",
       "      <td>1.000000</td>\n",
       "      <td>1.00000</td>\n",
       "      <td>1.000000</td>\n",
       "    </tr>\n",
       "    <tr>\n",
       "      <th>1</th>\n",
       "      <td>1</td>\n",
       "      <td>1</td>\n",
       "      <td>1</td>\n",
       "      <td>1</td>\n",
       "      <td>1.000000</td>\n",
       "      <td>1.00000</td>\n",
       "      <td>1.000000</td>\n",
       "    </tr>\n",
       "    <tr>\n",
       "      <th>22</th>\n",
       "      <td>22</td>\n",
       "      <td>22</td>\n",
       "      <td>22</td>\n",
       "      <td>22</td>\n",
       "      <td>22.000000</td>\n",
       "      <td>22.00000</td>\n",
       "      <td>4.690416</td>\n",
       "    </tr>\n",
       "  </tbody>\n",
       "</table>\n",
       "</div>"
      ],
      "text/plain": [
       "      나    다    라    마          바         사         아\n",
       "가                                                    \n",
       "1     4  NaN    0  NaN   2.000000       NaN  2.000000\n",
       "100   4  NaN    0  NaN  20.000000       NaN  2.000000\n",
       "1     6  NaN  NaN  NaN   2.449490       NaN  2.449490\n",
       "1     2    3    4    5   1.414214   2.44949  1.414214\n",
       "1     1    1    1    1   1.000000   1.00000  1.000000\n",
       "1     1    1    1    1   1.000000   1.00000  1.000000\n",
       "22   22   22   22   22  22.000000  22.00000  4.690416"
      ]
     },
     "execution_count": 141,
     "metadata": {},
     "output_type": "execute_result"
    }
   ],
   "source": [
    "df.set_index('가') # 기본값"
   ]
  },
  {
   "cell_type": "code",
   "execution_count": 142,
   "metadata": {
    "tags": []
   },
   "outputs": [
    {
     "data": {
      "text/html": [
       "<div>\n",
       "<style scoped>\n",
       "    .dataframe tbody tr th:only-of-type {\n",
       "        vertical-align: middle;\n",
       "    }\n",
       "\n",
       "    .dataframe tbody tr th {\n",
       "        vertical-align: top;\n",
       "    }\n",
       "\n",
       "    .dataframe thead th {\n",
       "        text-align: right;\n",
       "    }\n",
       "</style>\n",
       "<table border=\"1\" class=\"dataframe\">\n",
       "  <thead>\n",
       "    <tr style=\"text-align: right;\">\n",
       "      <th></th>\n",
       "      <th>가</th>\n",
       "      <th>나</th>\n",
       "      <th>다</th>\n",
       "      <th>라</th>\n",
       "      <th>마</th>\n",
       "      <th>바</th>\n",
       "      <th>사</th>\n",
       "      <th>아</th>\n",
       "    </tr>\n",
       "    <tr>\n",
       "      <th>가</th>\n",
       "      <th></th>\n",
       "      <th></th>\n",
       "      <th></th>\n",
       "      <th></th>\n",
       "      <th></th>\n",
       "      <th></th>\n",
       "      <th></th>\n",
       "      <th></th>\n",
       "    </tr>\n",
       "  </thead>\n",
       "  <tbody>\n",
       "    <tr>\n",
       "      <th>1</th>\n",
       "      <td>1</td>\n",
       "      <td>4</td>\n",
       "      <td>NaN</td>\n",
       "      <td>0</td>\n",
       "      <td>NaN</td>\n",
       "      <td>2.000000</td>\n",
       "      <td>NaN</td>\n",
       "      <td>2.000000</td>\n",
       "    </tr>\n",
       "    <tr>\n",
       "      <th>100</th>\n",
       "      <td>100</td>\n",
       "      <td>4</td>\n",
       "      <td>NaN</td>\n",
       "      <td>0</td>\n",
       "      <td>NaN</td>\n",
       "      <td>20.000000</td>\n",
       "      <td>NaN</td>\n",
       "      <td>2.000000</td>\n",
       "    </tr>\n",
       "    <tr>\n",
       "      <th>1</th>\n",
       "      <td>1</td>\n",
       "      <td>6</td>\n",
       "      <td>NaN</td>\n",
       "      <td>NaN</td>\n",
       "      <td>NaN</td>\n",
       "      <td>2.449490</td>\n",
       "      <td>NaN</td>\n",
       "      <td>2.449490</td>\n",
       "    </tr>\n",
       "    <tr>\n",
       "      <th>1</th>\n",
       "      <td>1</td>\n",
       "      <td>2</td>\n",
       "      <td>3</td>\n",
       "      <td>4</td>\n",
       "      <td>5</td>\n",
       "      <td>1.414214</td>\n",
       "      <td>2.44949</td>\n",
       "      <td>1.414214</td>\n",
       "    </tr>\n",
       "    <tr>\n",
       "      <th>1</th>\n",
       "      <td>1</td>\n",
       "      <td>1</td>\n",
       "      <td>1</td>\n",
       "      <td>1</td>\n",
       "      <td>1</td>\n",
       "      <td>1.000000</td>\n",
       "      <td>1.00000</td>\n",
       "      <td>1.000000</td>\n",
       "    </tr>\n",
       "    <tr>\n",
       "      <th>1</th>\n",
       "      <td>1</td>\n",
       "      <td>1</td>\n",
       "      <td>1</td>\n",
       "      <td>1</td>\n",
       "      <td>1</td>\n",
       "      <td>1.000000</td>\n",
       "      <td>1.00000</td>\n",
       "      <td>1.000000</td>\n",
       "    </tr>\n",
       "    <tr>\n",
       "      <th>22</th>\n",
       "      <td>22</td>\n",
       "      <td>22</td>\n",
       "      <td>22</td>\n",
       "      <td>22</td>\n",
       "      <td>22</td>\n",
       "      <td>22.000000</td>\n",
       "      <td>22.00000</td>\n",
       "      <td>4.690416</td>\n",
       "    </tr>\n",
       "  </tbody>\n",
       "</table>\n",
       "</div>"
      ],
      "text/plain": [
       "       가   나    다    라    마          바         사         아\n",
       "가                                                         \n",
       "1      1   4  NaN    0  NaN   2.000000       NaN  2.000000\n",
       "100  100   4  NaN    0  NaN  20.000000       NaN  2.000000\n",
       "1      1   6  NaN  NaN  NaN   2.449490       NaN  2.449490\n",
       "1      1   2    3    4    5   1.414214   2.44949  1.414214\n",
       "1      1   1    1    1    1   1.000000   1.00000  1.000000\n",
       "1      1   1    1    1    1   1.000000   1.00000  1.000000\n",
       "22    22  22   22   22   22  22.000000  22.00000  4.690416"
      ]
     },
     "execution_count": 142,
     "metadata": {},
     "output_type": "execute_result"
    }
   ],
   "source": [
    "df.set_index('가', drop=False) # index로 선택된 열 삭제 안 함"
   ]
  },
  {
   "cell_type": "code",
   "execution_count": 143,
   "metadata": {
    "tags": []
   },
   "outputs": [
    {
     "data": {
      "text/html": [
       "<div>\n",
       "<style scoped>\n",
       "    .dataframe tbody tr th:only-of-type {\n",
       "        vertical-align: middle;\n",
       "    }\n",
       "\n",
       "    .dataframe tbody tr th {\n",
       "        vertical-align: top;\n",
       "    }\n",
       "\n",
       "    .dataframe thead th {\n",
       "        text-align: right;\n",
       "    }\n",
       "</style>\n",
       "<table border=\"1\" class=\"dataframe\">\n",
       "  <thead>\n",
       "    <tr style=\"text-align: right;\">\n",
       "      <th></th>\n",
       "      <th></th>\n",
       "      <th>나</th>\n",
       "      <th>다</th>\n",
       "      <th>라</th>\n",
       "      <th>마</th>\n",
       "      <th>바</th>\n",
       "      <th>사</th>\n",
       "      <th>아</th>\n",
       "    </tr>\n",
       "    <tr>\n",
       "      <th></th>\n",
       "      <th>가</th>\n",
       "      <th></th>\n",
       "      <th></th>\n",
       "      <th></th>\n",
       "      <th></th>\n",
       "      <th></th>\n",
       "      <th></th>\n",
       "      <th></th>\n",
       "    </tr>\n",
       "  </thead>\n",
       "  <tbody>\n",
       "    <tr>\n",
       "      <th>1</th>\n",
       "      <th>1</th>\n",
       "      <td>4</td>\n",
       "      <td>NaN</td>\n",
       "      <td>0</td>\n",
       "      <td>NaN</td>\n",
       "      <td>2.000000</td>\n",
       "      <td>NaN</td>\n",
       "      <td>2.000000</td>\n",
       "    </tr>\n",
       "    <tr>\n",
       "      <th>2</th>\n",
       "      <th>100</th>\n",
       "      <td>4</td>\n",
       "      <td>NaN</td>\n",
       "      <td>0</td>\n",
       "      <td>NaN</td>\n",
       "      <td>20.000000</td>\n",
       "      <td>NaN</td>\n",
       "      <td>2.000000</td>\n",
       "    </tr>\n",
       "    <tr>\n",
       "      <th>3</th>\n",
       "      <th>1</th>\n",
       "      <td>6</td>\n",
       "      <td>NaN</td>\n",
       "      <td>NaN</td>\n",
       "      <td>NaN</td>\n",
       "      <td>2.449490</td>\n",
       "      <td>NaN</td>\n",
       "      <td>2.449490</td>\n",
       "    </tr>\n",
       "    <tr>\n",
       "      <th>4</th>\n",
       "      <th>1</th>\n",
       "      <td>2</td>\n",
       "      <td>3</td>\n",
       "      <td>4</td>\n",
       "      <td>5</td>\n",
       "      <td>1.414214</td>\n",
       "      <td>2.44949</td>\n",
       "      <td>1.414214</td>\n",
       "    </tr>\n",
       "    <tr>\n",
       "      <th>5</th>\n",
       "      <th>1</th>\n",
       "      <td>1</td>\n",
       "      <td>1</td>\n",
       "      <td>1</td>\n",
       "      <td>1</td>\n",
       "      <td>1.000000</td>\n",
       "      <td>1.00000</td>\n",
       "      <td>1.000000</td>\n",
       "    </tr>\n",
       "    <tr>\n",
       "      <th>6</th>\n",
       "      <th>1</th>\n",
       "      <td>1</td>\n",
       "      <td>1</td>\n",
       "      <td>1</td>\n",
       "      <td>1</td>\n",
       "      <td>1.000000</td>\n",
       "      <td>1.00000</td>\n",
       "      <td>1.000000</td>\n",
       "    </tr>\n",
       "    <tr>\n",
       "      <th>7</th>\n",
       "      <th>22</th>\n",
       "      <td>22</td>\n",
       "      <td>22</td>\n",
       "      <td>22</td>\n",
       "      <td>22</td>\n",
       "      <td>22.000000</td>\n",
       "      <td>22.00000</td>\n",
       "      <td>4.690416</td>\n",
       "    </tr>\n",
       "  </tbody>\n",
       "</table>\n",
       "</div>"
      ],
      "text/plain": [
       "        나    다    라    마          바         사         아\n",
       "  가                                                    \n",
       "1 1     4  NaN    0  NaN   2.000000       NaN  2.000000\n",
       "2 100   4  NaN    0  NaN  20.000000       NaN  2.000000\n",
       "3 1     6  NaN  NaN  NaN   2.449490       NaN  2.449490\n",
       "4 1     2    3    4    5   1.414214   2.44949  1.414214\n",
       "5 1     1    1    1    1   1.000000   1.00000  1.000000\n",
       "6 1     1    1    1    1   1.000000   1.00000  1.000000\n",
       "7 22   22   22   22   22  22.000000  22.00000  4.690416"
      ]
     },
     "execution_count": 143,
     "metadata": {},
     "output_type": "execute_result"
    }
   ],
   "source": [
    "df.set_index('가', append=True) # 기존 index 삭제 안 함"
   ]
  },
  {
   "cell_type": "code",
   "execution_count": 144,
   "metadata": {
    "tags": []
   },
   "outputs": [
    {
     "data": {
      "text/html": [
       "<div>\n",
       "<style scoped>\n",
       "    .dataframe tbody tr th:only-of-type {\n",
       "        vertical-align: middle;\n",
       "    }\n",
       "\n",
       "    .dataframe tbody tr th {\n",
       "        vertical-align: top;\n",
       "    }\n",
       "\n",
       "    .dataframe thead th {\n",
       "        text-align: right;\n",
       "    }\n",
       "</style>\n",
       "<table border=\"1\" class=\"dataframe\">\n",
       "  <thead>\n",
       "    <tr style=\"text-align: right;\">\n",
       "      <th></th>\n",
       "      <th></th>\n",
       "      <th>다</th>\n",
       "      <th>라</th>\n",
       "      <th>마</th>\n",
       "      <th>바</th>\n",
       "      <th>사</th>\n",
       "      <th>아</th>\n",
       "    </tr>\n",
       "    <tr>\n",
       "      <th>가</th>\n",
       "      <th>나</th>\n",
       "      <th></th>\n",
       "      <th></th>\n",
       "      <th></th>\n",
       "      <th></th>\n",
       "      <th></th>\n",
       "      <th></th>\n",
       "    </tr>\n",
       "  </thead>\n",
       "  <tbody>\n",
       "    <tr>\n",
       "      <th>1</th>\n",
       "      <th>4</th>\n",
       "      <td>NaN</td>\n",
       "      <td>0</td>\n",
       "      <td>NaN</td>\n",
       "      <td>2.000000</td>\n",
       "      <td>NaN</td>\n",
       "      <td>2.000000</td>\n",
       "    </tr>\n",
       "    <tr>\n",
       "      <th>100</th>\n",
       "      <th>4</th>\n",
       "      <td>NaN</td>\n",
       "      <td>0</td>\n",
       "      <td>NaN</td>\n",
       "      <td>20.000000</td>\n",
       "      <td>NaN</td>\n",
       "      <td>2.000000</td>\n",
       "    </tr>\n",
       "    <tr>\n",
       "      <th rowspan=\"4\" valign=\"top\">1</th>\n",
       "      <th>6</th>\n",
       "      <td>NaN</td>\n",
       "      <td>NaN</td>\n",
       "      <td>NaN</td>\n",
       "      <td>2.449490</td>\n",
       "      <td>NaN</td>\n",
       "      <td>2.449490</td>\n",
       "    </tr>\n",
       "    <tr>\n",
       "      <th>2</th>\n",
       "      <td>3</td>\n",
       "      <td>4</td>\n",
       "      <td>5</td>\n",
       "      <td>1.414214</td>\n",
       "      <td>2.44949</td>\n",
       "      <td>1.414214</td>\n",
       "    </tr>\n",
       "    <tr>\n",
       "      <th>1</th>\n",
       "      <td>1</td>\n",
       "      <td>1</td>\n",
       "      <td>1</td>\n",
       "      <td>1.000000</td>\n",
       "      <td>1.00000</td>\n",
       "      <td>1.000000</td>\n",
       "    </tr>\n",
       "    <tr>\n",
       "      <th>1</th>\n",
       "      <td>1</td>\n",
       "      <td>1</td>\n",
       "      <td>1</td>\n",
       "      <td>1.000000</td>\n",
       "      <td>1.00000</td>\n",
       "      <td>1.000000</td>\n",
       "    </tr>\n",
       "    <tr>\n",
       "      <th>22</th>\n",
       "      <th>22</th>\n",
       "      <td>22</td>\n",
       "      <td>22</td>\n",
       "      <td>22</td>\n",
       "      <td>22.000000</td>\n",
       "      <td>22.00000</td>\n",
       "      <td>4.690416</td>\n",
       "    </tr>\n",
       "  </tbody>\n",
       "</table>\n",
       "</div>"
      ],
      "text/plain": [
       "          다    라    마          바         사         아\n",
       "가   나                                               \n",
       "1   4   NaN    0  NaN   2.000000       NaN  2.000000\n",
       "100 4   NaN    0  NaN  20.000000       NaN  2.000000\n",
       "1   6   NaN  NaN  NaN   2.449490       NaN  2.449490\n",
       "    2     3    4    5   1.414214   2.44949  1.414214\n",
       "    1     1    1    1   1.000000   1.00000  1.000000\n",
       "    1     1    1    1   1.000000   1.00000  1.000000\n",
       "22  22   22   22   22  22.000000  22.00000  4.690416"
      ]
     },
     "execution_count": 144,
     "metadata": {},
     "output_type": "execute_result"
    }
   ],
   "source": [
    "df.set_index(['가','나']) # 동시에 여러 열을 index로 설정하기"
   ]
  },
  {
   "cell_type": "markdown",
   "metadata": {
    "tags": []
   },
   "source": [
    "### 2-9. reset_index로 index 초기화\n",
    "```DataFrame.reset_index(drop=False, inplace=False)```\n",
    "\n",
    "- 기존에 있던 index 대신에, 0부터 시작하여 1씩 늘어나는 정수 index를 추가한다.\n",
    "- drop : 기존에 index였던 열을 삭제할까요?\n",
    "- inplace : 원본 데이터프레임을 변경할까요? "
   ]
  },
  {
   "cell_type": "code",
   "execution_count": 145,
   "metadata": {
    "tags": []
   },
   "outputs": [
    {
     "data": {
      "text/html": [
       "<div>\n",
       "<style scoped>\n",
       "    .dataframe tbody tr th:only-of-type {\n",
       "        vertical-align: middle;\n",
       "    }\n",
       "\n",
       "    .dataframe tbody tr th {\n",
       "        vertical-align: top;\n",
       "    }\n",
       "\n",
       "    .dataframe thead th {\n",
       "        text-align: right;\n",
       "    }\n",
       "</style>\n",
       "<table border=\"1\" class=\"dataframe\">\n",
       "  <thead>\n",
       "    <tr style=\"text-align: right;\">\n",
       "      <th></th>\n",
       "      <th>index</th>\n",
       "      <th>가</th>\n",
       "      <th>나</th>\n",
       "      <th>다</th>\n",
       "      <th>라</th>\n",
       "      <th>마</th>\n",
       "      <th>바</th>\n",
       "      <th>사</th>\n",
       "      <th>아</th>\n",
       "    </tr>\n",
       "  </thead>\n",
       "  <tbody>\n",
       "    <tr>\n",
       "      <th>0</th>\n",
       "      <td>1</td>\n",
       "      <td>1</td>\n",
       "      <td>4</td>\n",
       "      <td>NaN</td>\n",
       "      <td>0</td>\n",
       "      <td>NaN</td>\n",
       "      <td>2.000000</td>\n",
       "      <td>NaN</td>\n",
       "      <td>2.000000</td>\n",
       "    </tr>\n",
       "    <tr>\n",
       "      <th>1</th>\n",
       "      <td>2</td>\n",
       "      <td>100</td>\n",
       "      <td>4</td>\n",
       "      <td>NaN</td>\n",
       "      <td>0</td>\n",
       "      <td>NaN</td>\n",
       "      <td>20.000000</td>\n",
       "      <td>NaN</td>\n",
       "      <td>2.000000</td>\n",
       "    </tr>\n",
       "    <tr>\n",
       "      <th>2</th>\n",
       "      <td>3</td>\n",
       "      <td>1</td>\n",
       "      <td>6</td>\n",
       "      <td>NaN</td>\n",
       "      <td>NaN</td>\n",
       "      <td>NaN</td>\n",
       "      <td>2.449490</td>\n",
       "      <td>NaN</td>\n",
       "      <td>2.449490</td>\n",
       "    </tr>\n",
       "    <tr>\n",
       "      <th>3</th>\n",
       "      <td>4</td>\n",
       "      <td>1</td>\n",
       "      <td>2</td>\n",
       "      <td>3</td>\n",
       "      <td>4</td>\n",
       "      <td>5</td>\n",
       "      <td>1.414214</td>\n",
       "      <td>2.44949</td>\n",
       "      <td>1.414214</td>\n",
       "    </tr>\n",
       "    <tr>\n",
       "      <th>4</th>\n",
       "      <td>5</td>\n",
       "      <td>1</td>\n",
       "      <td>1</td>\n",
       "      <td>1</td>\n",
       "      <td>1</td>\n",
       "      <td>1</td>\n",
       "      <td>1.000000</td>\n",
       "      <td>1.00000</td>\n",
       "      <td>1.000000</td>\n",
       "    </tr>\n",
       "    <tr>\n",
       "      <th>5</th>\n",
       "      <td>6</td>\n",
       "      <td>1</td>\n",
       "      <td>1</td>\n",
       "      <td>1</td>\n",
       "      <td>1</td>\n",
       "      <td>1</td>\n",
       "      <td>1.000000</td>\n",
       "      <td>1.00000</td>\n",
       "      <td>1.000000</td>\n",
       "    </tr>\n",
       "    <tr>\n",
       "      <th>6</th>\n",
       "      <td>7</td>\n",
       "      <td>22</td>\n",
       "      <td>22</td>\n",
       "      <td>22</td>\n",
       "      <td>22</td>\n",
       "      <td>22</td>\n",
       "      <td>22.000000</td>\n",
       "      <td>22.00000</td>\n",
       "      <td>4.690416</td>\n",
       "    </tr>\n",
       "  </tbody>\n",
       "</table>\n",
       "</div>"
      ],
      "text/plain": [
       "   index    가   나    다    라    마          바         사         아\n",
       "0      1    1   4  NaN    0  NaN   2.000000       NaN  2.000000\n",
       "1      2  100   4  NaN    0  NaN  20.000000       NaN  2.000000\n",
       "2      3    1   6  NaN  NaN  NaN   2.449490       NaN  2.449490\n",
       "3      4    1   2    3    4    5   1.414214   2.44949  1.414214\n",
       "4      5    1   1    1    1    1   1.000000   1.00000  1.000000\n",
       "5      6    1   1    1    1    1   1.000000   1.00000  1.000000\n",
       "6      7   22  22   22   22   22  22.000000  22.00000  4.690416"
      ]
     },
     "execution_count": 145,
     "metadata": {},
     "output_type": "execute_result"
    }
   ],
   "source": [
    "df.reset_index()"
   ]
  },
  {
   "cell_type": "code",
   "execution_count": 146,
   "metadata": {
    "tags": []
   },
   "outputs": [
    {
     "data": {
      "text/html": [
       "<div>\n",
       "<style scoped>\n",
       "    .dataframe tbody tr th:only-of-type {\n",
       "        vertical-align: middle;\n",
       "    }\n",
       "\n",
       "    .dataframe tbody tr th {\n",
       "        vertical-align: top;\n",
       "    }\n",
       "\n",
       "    .dataframe thead th {\n",
       "        text-align: right;\n",
       "    }\n",
       "</style>\n",
       "<table border=\"1\" class=\"dataframe\">\n",
       "  <thead>\n",
       "    <tr style=\"text-align: right;\">\n",
       "      <th></th>\n",
       "      <th>가</th>\n",
       "      <th>나</th>\n",
       "      <th>다</th>\n",
       "      <th>라</th>\n",
       "      <th>마</th>\n",
       "      <th>바</th>\n",
       "      <th>사</th>\n",
       "      <th>아</th>\n",
       "    </tr>\n",
       "  </thead>\n",
       "  <tbody>\n",
       "    <tr>\n",
       "      <th>0</th>\n",
       "      <td>1</td>\n",
       "      <td>4</td>\n",
       "      <td>NaN</td>\n",
       "      <td>0</td>\n",
       "      <td>NaN</td>\n",
       "      <td>2.000000</td>\n",
       "      <td>NaN</td>\n",
       "      <td>2.000000</td>\n",
       "    </tr>\n",
       "    <tr>\n",
       "      <th>1</th>\n",
       "      <td>100</td>\n",
       "      <td>4</td>\n",
       "      <td>NaN</td>\n",
       "      <td>0</td>\n",
       "      <td>NaN</td>\n",
       "      <td>20.000000</td>\n",
       "      <td>NaN</td>\n",
       "      <td>2.000000</td>\n",
       "    </tr>\n",
       "    <tr>\n",
       "      <th>2</th>\n",
       "      <td>1</td>\n",
       "      <td>6</td>\n",
       "      <td>NaN</td>\n",
       "      <td>NaN</td>\n",
       "      <td>NaN</td>\n",
       "      <td>2.449490</td>\n",
       "      <td>NaN</td>\n",
       "      <td>2.449490</td>\n",
       "    </tr>\n",
       "    <tr>\n",
       "      <th>3</th>\n",
       "      <td>1</td>\n",
       "      <td>2</td>\n",
       "      <td>3</td>\n",
       "      <td>4</td>\n",
       "      <td>5</td>\n",
       "      <td>1.414214</td>\n",
       "      <td>2.44949</td>\n",
       "      <td>1.414214</td>\n",
       "    </tr>\n",
       "    <tr>\n",
       "      <th>4</th>\n",
       "      <td>1</td>\n",
       "      <td>1</td>\n",
       "      <td>1</td>\n",
       "      <td>1</td>\n",
       "      <td>1</td>\n",
       "      <td>1.000000</td>\n",
       "      <td>1.00000</td>\n",
       "      <td>1.000000</td>\n",
       "    </tr>\n",
       "    <tr>\n",
       "      <th>5</th>\n",
       "      <td>1</td>\n",
       "      <td>1</td>\n",
       "      <td>1</td>\n",
       "      <td>1</td>\n",
       "      <td>1</td>\n",
       "      <td>1.000000</td>\n",
       "      <td>1.00000</td>\n",
       "      <td>1.000000</td>\n",
       "    </tr>\n",
       "    <tr>\n",
       "      <th>6</th>\n",
       "      <td>22</td>\n",
       "      <td>22</td>\n",
       "      <td>22</td>\n",
       "      <td>22</td>\n",
       "      <td>22</td>\n",
       "      <td>22.000000</td>\n",
       "      <td>22.00000</td>\n",
       "      <td>4.690416</td>\n",
       "    </tr>\n",
       "  </tbody>\n",
       "</table>\n",
       "</div>"
      ],
      "text/plain": [
       "     가   나    다    라    마          바         사         아\n",
       "0    1   4  NaN    0  NaN   2.000000       NaN  2.000000\n",
       "1  100   4  NaN    0  NaN  20.000000       NaN  2.000000\n",
       "2    1   6  NaN  NaN  NaN   2.449490       NaN  2.449490\n",
       "3    1   2    3    4    5   1.414214   2.44949  1.414214\n",
       "4    1   1    1    1    1   1.000000   1.00000  1.000000\n",
       "5    1   1    1    1    1   1.000000   1.00000  1.000000\n",
       "6   22  22   22   22   22  22.000000  22.00000  4.690416"
      ]
     },
     "execution_count": 146,
     "metadata": {},
     "output_type": "execute_result"
    }
   ],
   "source": [
    "df.reset_index(drop=True)"
   ]
  },
  {
   "cell_type": "markdown",
   "metadata": {
    "tags": []
   },
   "source": [
    "### 2-10. between\n",
    "```Series.between(left, right, inclusive='both')```\n",
    "- left : scalar or list-like\n",
    "  - Left boundary.\n",
    "- right : scalar or list-like\n",
    "  - Right boundary.\n",
    "- inclusive{“both”, “neither”, “left”, “right”}\n",
    "  - Include boundaries. Whether to set each bound as closed or open\n",
    "  - 어느 쪽에 부등호를 지정할 것인가?"
   ]
  },
  {
   "cell_type": "code",
   "execution_count": 147,
   "metadata": {
    "tags": []
   },
   "outputs": [],
   "source": [
    "dict_sample = [\n",
    "    {'base_date':np.datetime64('2023-01-03'), 'num':10}\n",
    "  , {'base_date':np.datetime64('2023-01-03'), 'num':11}\n",
    "  , {'base_date':np.datetime64('2023-01-04'), 'num':12}\n",
    "  , {'base_date':np.datetime64('2023-01-06'), 'num':13}\n",
    "  , {'base_date':np.datetime64('2023-01-07'), 'num':14}\n",
    "  , {'base_date':np.datetime64('2023-01-08'), 'num':15}\n",
    "]\n",
    "df_sample = pd.DataFrame.from_dict(dict_sample)"
   ]
  },
  {
   "cell_type": "code",
   "execution_count": 148,
   "metadata": {
    "tags": []
   },
   "outputs": [
    {
     "data": {
      "text/html": [
       "<div>\n",
       "<style scoped>\n",
       "    .dataframe tbody tr th:only-of-type {\n",
       "        vertical-align: middle;\n",
       "    }\n",
       "\n",
       "    .dataframe tbody tr th {\n",
       "        vertical-align: top;\n",
       "    }\n",
       "\n",
       "    .dataframe thead th {\n",
       "        text-align: right;\n",
       "    }\n",
       "</style>\n",
       "<table border=\"1\" class=\"dataframe\">\n",
       "  <thead>\n",
       "    <tr style=\"text-align: right;\">\n",
       "      <th></th>\n",
       "      <th>base_date</th>\n",
       "      <th>num</th>\n",
       "    </tr>\n",
       "  </thead>\n",
       "  <tbody>\n",
       "    <tr>\n",
       "      <th>0</th>\n",
       "      <td>2023-01-03</td>\n",
       "      <td>10</td>\n",
       "    </tr>\n",
       "    <tr>\n",
       "      <th>1</th>\n",
       "      <td>2023-01-03</td>\n",
       "      <td>11</td>\n",
       "    </tr>\n",
       "    <tr>\n",
       "      <th>2</th>\n",
       "      <td>2023-01-04</td>\n",
       "      <td>12</td>\n",
       "    </tr>\n",
       "  </tbody>\n",
       "</table>\n",
       "</div>"
      ],
      "text/plain": [
       "   base_date  num\n",
       "0 2023-01-03   10\n",
       "1 2023-01-03   11\n",
       "2 2023-01-04   12"
      ]
     },
     "execution_count": 148,
     "metadata": {},
     "output_type": "execute_result"
    }
   ],
   "source": [
    "date_mask = df_sample['base_date'].between(np.datetime64('2023-01-03'), np.datetime64('2023-01-05'), inclusive='left')\n",
    "df_sample.loc[date_mask]"
   ]
  },
  {
   "cell_type": "code",
   "execution_count": 149,
   "metadata": {
    "tags": []
   },
   "outputs": [
    {
     "data": {
      "text/html": [
       "<div>\n",
       "<style scoped>\n",
       "    .dataframe tbody tr th:only-of-type {\n",
       "        vertical-align: middle;\n",
       "    }\n",
       "\n",
       "    .dataframe tbody tr th {\n",
       "        vertical-align: top;\n",
       "    }\n",
       "\n",
       "    .dataframe thead th {\n",
       "        text-align: right;\n",
       "    }\n",
       "</style>\n",
       "<table border=\"1\" class=\"dataframe\">\n",
       "  <thead>\n",
       "    <tr style=\"text-align: right;\">\n",
       "      <th></th>\n",
       "      <th>num</th>\n",
       "    </tr>\n",
       "    <tr>\n",
       "      <th>base_date</th>\n",
       "      <th></th>\n",
       "    </tr>\n",
       "  </thead>\n",
       "  <tbody>\n",
       "    <tr>\n",
       "      <th>2023-01-03</th>\n",
       "      <td>21</td>\n",
       "    </tr>\n",
       "    <tr>\n",
       "      <th>2023-01-04</th>\n",
       "      <td>12</td>\n",
       "    </tr>\n",
       "  </tbody>\n",
       "</table>\n",
       "</div>"
      ],
      "text/plain": [
       "            num\n",
       "base_date      \n",
       "2023-01-03   21\n",
       "2023-01-04   12"
      ]
     },
     "execution_count": 149,
     "metadata": {},
     "output_type": "execute_result"
    }
   ],
   "source": [
    "# groupby, agg와 함께 사용하면 이렇게 집계 가능\n",
    "df_sample.loc[date_mask].groupby(by=['base_date']).agg({'num':np.sum})"
   ]
  },
  {
   "cell_type": "markdown",
   "metadata": {},
   "source": [
    "### 2-11. rename : 인덱스, 컬럼 이름 변경\n",
    "```DataFrame.rename(mapper=None, *, index=None, columns=None, axis=None, copy=None, inplace=False, level=None, errors='ignore')```\n",
    "- mapper : dict-like or funtion\n",
    "  - 이름 A를 B로 바꾸는 매핑 정보가 담겨 있는 딕셔너리나, A를 넣으면 B가 반환되는 함수.\n",
    "- index : dict-like or funtion\n",
    "  - mapper, axis=0과 index=mapper는 같은 의미이다.\n",
    "- columns : dict-like or funtion\n",
    "  - mapper, axis=1과 index=columns는 같은 의미이다.\n",
    "- axis : {0 or ‘index’, 1 or ‘columns’}, default 0\n",
    "  - mapper가 타겟하는 axis.\n",
    "- copy : bool, default True\n",
    "  - 데이터도 복사한다.\n",
    "- inplace : bool, default False\n",
    "  - 새 데이터프레임을 만드는 대신에, 원본을 수정한다.\n",
    "- level : int or level name, default None\n",
    "  - multiIndex의 경우, 해당 레벨의 인덱스 이름만 바꾼다.\n",
    "- errors : {‘ignore’, ‘raise’}, default ‘ignore’\n",
    "  - If ‘raise’, raise a KeyError when a dict-like mapper, index, or columns contains labels that are not present in the Index being transformed. If ‘ignore’, existing keys will be renamed and extra keys will be ignored."
   ]
  },
  {
   "cell_type": "code",
   "execution_count": 150,
   "metadata": {
    "tags": []
   },
   "outputs": [
    {
     "data": {
      "text/html": [
       "<div>\n",
       "<style scoped>\n",
       "    .dataframe tbody tr th:only-of-type {\n",
       "        vertical-align: middle;\n",
       "    }\n",
       "\n",
       "    .dataframe tbody tr th {\n",
       "        vertical-align: top;\n",
       "    }\n",
       "\n",
       "    .dataframe thead th {\n",
       "        text-align: right;\n",
       "    }\n",
       "</style>\n",
       "<table border=\"1\" class=\"dataframe\">\n",
       "  <thead>\n",
       "    <tr style=\"text-align: right;\">\n",
       "      <th></th>\n",
       "      <th></th>\n",
       "      <th>다</th>\n",
       "      <th>라</th>\n",
       "      <th>마</th>\n",
       "      <th>바</th>\n",
       "      <th>사</th>\n",
       "      <th>아</th>\n",
       "    </tr>\n",
       "    <tr>\n",
       "      <th>가</th>\n",
       "      <th>나</th>\n",
       "      <th></th>\n",
       "      <th></th>\n",
       "      <th></th>\n",
       "      <th></th>\n",
       "      <th></th>\n",
       "      <th></th>\n",
       "    </tr>\n",
       "  </thead>\n",
       "  <tbody>\n",
       "    <tr>\n",
       "      <th>1</th>\n",
       "      <th>4</th>\n",
       "      <td>NaN</td>\n",
       "      <td>0</td>\n",
       "      <td>NaN</td>\n",
       "      <td>2.000000</td>\n",
       "      <td>NaN</td>\n",
       "      <td>2.000000</td>\n",
       "    </tr>\n",
       "    <tr>\n",
       "      <th>100</th>\n",
       "      <th>4</th>\n",
       "      <td>NaN</td>\n",
       "      <td>0</td>\n",
       "      <td>NaN</td>\n",
       "      <td>20.000000</td>\n",
       "      <td>NaN</td>\n",
       "      <td>2.000000</td>\n",
       "    </tr>\n",
       "    <tr>\n",
       "      <th rowspan=\"4\" valign=\"top\">1</th>\n",
       "      <th>6</th>\n",
       "      <td>NaN</td>\n",
       "      <td>NaN</td>\n",
       "      <td>NaN</td>\n",
       "      <td>2.449490</td>\n",
       "      <td>NaN</td>\n",
       "      <td>2.449490</td>\n",
       "    </tr>\n",
       "    <tr>\n",
       "      <th>2</th>\n",
       "      <td>3</td>\n",
       "      <td>4</td>\n",
       "      <td>5</td>\n",
       "      <td>1.414214</td>\n",
       "      <td>2.44949</td>\n",
       "      <td>1.414214</td>\n",
       "    </tr>\n",
       "    <tr>\n",
       "      <th>1</th>\n",
       "      <td>1</td>\n",
       "      <td>1</td>\n",
       "      <td>1</td>\n",
       "      <td>1.000000</td>\n",
       "      <td>1.00000</td>\n",
       "      <td>1.000000</td>\n",
       "    </tr>\n",
       "    <tr>\n",
       "      <th>1</th>\n",
       "      <td>1</td>\n",
       "      <td>1</td>\n",
       "      <td>1</td>\n",
       "      <td>1.000000</td>\n",
       "      <td>1.00000</td>\n",
       "      <td>1.000000</td>\n",
       "    </tr>\n",
       "    <tr>\n",
       "      <th>22</th>\n",
       "      <th>22</th>\n",
       "      <td>22</td>\n",
       "      <td>22</td>\n",
       "      <td>22</td>\n",
       "      <td>22.000000</td>\n",
       "      <td>22.00000</td>\n",
       "      <td>4.690416</td>\n",
       "    </tr>\n",
       "  </tbody>\n",
       "</table>\n",
       "</div>"
      ],
      "text/plain": [
       "          다    라    마          바         사         아\n",
       "가   나                                               \n",
       "1   4   NaN    0  NaN   2.000000       NaN  2.000000\n",
       "100 4   NaN    0  NaN  20.000000       NaN  2.000000\n",
       "1   6   NaN  NaN  NaN   2.449490       NaN  2.449490\n",
       "    2     3    4    5   1.414214   2.44949  1.414214\n",
       "    1     1    1    1   1.000000   1.00000  1.000000\n",
       "    1     1    1    1   1.000000   1.00000  1.000000\n",
       "22  22   22   22   22  22.000000  22.00000  4.690416"
      ]
     },
     "execution_count": 150,
     "metadata": {},
     "output_type": "execute_result"
    }
   ],
   "source": [
    "df2 = copy.deepcopy(df)\n",
    "df2 = df2.set_index(['가','나'])\n",
    "df2"
   ]
  },
  {
   "cell_type": "code",
   "execution_count": 169,
   "metadata": {
    "tags": []
   },
   "outputs": [
    {
     "data": {
      "text/html": [
       "<style type=\"text/css\">\n",
       "#T_daa79 caption {\n",
       "  text-align: center;\n",
       "  font-size: 16px;\n",
       "}\n",
       "</style>\n",
       "<table id=\"T_daa79\" style='display:inline;margin:10px'>\n",
       "  <caption><b>Mapper로 함수 사용</b></caption>\n",
       "  <thead>\n",
       "    <tr>\n",
       "      <th class=\"blank\" >&nbsp;</th>\n",
       "      <th class=\"blank level0\" >&nbsp;</th>\n",
       "      <th id=\"T_daa79_level0_col0\" class=\"col_heading level0 col0\" >C</th>\n",
       "      <th id=\"T_daa79_level0_col1\" class=\"col_heading level0 col1\" >라</th>\n",
       "      <th id=\"T_daa79_level0_col2\" class=\"col_heading level0 col2\" >마</th>\n",
       "      <th id=\"T_daa79_level0_col3\" class=\"col_heading level0 col3\" >바</th>\n",
       "      <th id=\"T_daa79_level0_col4\" class=\"col_heading level0 col4\" >사</th>\n",
       "      <th id=\"T_daa79_level0_col5\" class=\"col_heading level0 col5\" >H</th>\n",
       "    </tr>\n",
       "    <tr>\n",
       "      <th class=\"index_name level0\" >가</th>\n",
       "      <th class=\"index_name level1\" >나</th>\n",
       "      <th class=\"blank col0\" >&nbsp;</th>\n",
       "      <th class=\"blank col1\" >&nbsp;</th>\n",
       "      <th class=\"blank col2\" >&nbsp;</th>\n",
       "      <th class=\"blank col3\" >&nbsp;</th>\n",
       "      <th class=\"blank col4\" >&nbsp;</th>\n",
       "      <th class=\"blank col5\" >&nbsp;</th>\n",
       "    </tr>\n",
       "  </thead>\n",
       "  <tbody>\n",
       "    <tr>\n",
       "      <th id=\"T_daa79_level0_row0\" class=\"row_heading level0 row0\" >1</th>\n",
       "      <th id=\"T_daa79_level1_row0\" class=\"row_heading level1 row0\" >4</th>\n",
       "      <td id=\"T_daa79_row0_col0\" class=\"data row0 col0\" >nan</td>\n",
       "      <td id=\"T_daa79_row0_col1\" class=\"data row0 col1\" >0</td>\n",
       "      <td id=\"T_daa79_row0_col2\" class=\"data row0 col2\" >nan</td>\n",
       "      <td id=\"T_daa79_row0_col3\" class=\"data row0 col3\" >2.000000</td>\n",
       "      <td id=\"T_daa79_row0_col4\" class=\"data row0 col4\" >nan</td>\n",
       "      <td id=\"T_daa79_row0_col5\" class=\"data row0 col5\" >2.000000</td>\n",
       "    </tr>\n",
       "    <tr>\n",
       "      <th id=\"T_daa79_level0_row1\" class=\"row_heading level0 row1\" >100</th>\n",
       "      <th id=\"T_daa79_level1_row1\" class=\"row_heading level1 row1\" >4</th>\n",
       "      <td id=\"T_daa79_row1_col0\" class=\"data row1 col0\" >nan</td>\n",
       "      <td id=\"T_daa79_row1_col1\" class=\"data row1 col1\" >0</td>\n",
       "      <td id=\"T_daa79_row1_col2\" class=\"data row1 col2\" >nan</td>\n",
       "      <td id=\"T_daa79_row1_col3\" class=\"data row1 col3\" >20.000000</td>\n",
       "      <td id=\"T_daa79_row1_col4\" class=\"data row1 col4\" >nan</td>\n",
       "      <td id=\"T_daa79_row1_col5\" class=\"data row1 col5\" >2.000000</td>\n",
       "    </tr>\n",
       "    <tr>\n",
       "      <th id=\"T_daa79_level0_row2\" class=\"row_heading level0 row2\" rowspan=\"4\">1</th>\n",
       "      <th id=\"T_daa79_level1_row2\" class=\"row_heading level1 row2\" >6</th>\n",
       "      <td id=\"T_daa79_row2_col0\" class=\"data row2 col0\" >nan</td>\n",
       "      <td id=\"T_daa79_row2_col1\" class=\"data row2 col1\" >nan</td>\n",
       "      <td id=\"T_daa79_row2_col2\" class=\"data row2 col2\" >nan</td>\n",
       "      <td id=\"T_daa79_row2_col3\" class=\"data row2 col3\" >2.449490</td>\n",
       "      <td id=\"T_daa79_row2_col4\" class=\"data row2 col4\" >nan</td>\n",
       "      <td id=\"T_daa79_row2_col5\" class=\"data row2 col5\" >2.449490</td>\n",
       "    </tr>\n",
       "    <tr>\n",
       "      <th id=\"T_daa79_level1_row3\" class=\"row_heading level1 row3\" >2</th>\n",
       "      <td id=\"T_daa79_row3_col0\" class=\"data row3 col0\" >3</td>\n",
       "      <td id=\"T_daa79_row3_col1\" class=\"data row3 col1\" >4</td>\n",
       "      <td id=\"T_daa79_row3_col2\" class=\"data row3 col2\" >5</td>\n",
       "      <td id=\"T_daa79_row3_col3\" class=\"data row3 col3\" >1.414214</td>\n",
       "      <td id=\"T_daa79_row3_col4\" class=\"data row3 col4\" >2.449490</td>\n",
       "      <td id=\"T_daa79_row3_col5\" class=\"data row3 col5\" >1.414214</td>\n",
       "    </tr>\n",
       "    <tr>\n",
       "      <th id=\"T_daa79_level1_row4\" class=\"row_heading level1 row4\" >1</th>\n",
       "      <td id=\"T_daa79_row4_col0\" class=\"data row4 col0\" >1</td>\n",
       "      <td id=\"T_daa79_row4_col1\" class=\"data row4 col1\" >1</td>\n",
       "      <td id=\"T_daa79_row4_col2\" class=\"data row4 col2\" >1</td>\n",
       "      <td id=\"T_daa79_row4_col3\" class=\"data row4 col3\" >1.000000</td>\n",
       "      <td id=\"T_daa79_row4_col4\" class=\"data row4 col4\" >1.000000</td>\n",
       "      <td id=\"T_daa79_row4_col5\" class=\"data row4 col5\" >1.000000</td>\n",
       "    </tr>\n",
       "    <tr>\n",
       "      <th id=\"T_daa79_level1_row5\" class=\"row_heading level1 row5\" >1</th>\n",
       "      <td id=\"T_daa79_row5_col0\" class=\"data row5 col0\" >1</td>\n",
       "      <td id=\"T_daa79_row5_col1\" class=\"data row5 col1\" >1</td>\n",
       "      <td id=\"T_daa79_row5_col2\" class=\"data row5 col2\" >1</td>\n",
       "      <td id=\"T_daa79_row5_col3\" class=\"data row5 col3\" >1.000000</td>\n",
       "      <td id=\"T_daa79_row5_col4\" class=\"data row5 col4\" >1.000000</td>\n",
       "      <td id=\"T_daa79_row5_col5\" class=\"data row5 col5\" >1.000000</td>\n",
       "    </tr>\n",
       "    <tr>\n",
       "      <th id=\"T_daa79_level0_row6\" class=\"row_heading level0 row6\" >22</th>\n",
       "      <th id=\"T_daa79_level1_row6\" class=\"row_heading level1 row6\" >22</th>\n",
       "      <td id=\"T_daa79_row6_col0\" class=\"data row6 col0\" >22</td>\n",
       "      <td id=\"T_daa79_row6_col1\" class=\"data row6 col1\" >22</td>\n",
       "      <td id=\"T_daa79_row6_col2\" class=\"data row6 col2\" >22</td>\n",
       "      <td id=\"T_daa79_row6_col3\" class=\"data row6 col3\" >22.000000</td>\n",
       "      <td id=\"T_daa79_row6_col4\" class=\"data row6 col4\" >22.000000</td>\n",
       "      <td id=\"T_daa79_row6_col5\" class=\"data row6 col5\" >4.690416</td>\n",
       "    </tr>\n",
       "  </tbody>\n",
       "</table>\n",
       "<style type=\"text/css\">\n",
       "#T_c3ab9 caption {\n",
       "  text-align: center;\n",
       "  font-size: 16px;\n",
       "}\n",
       "</style>\n",
       "<table id=\"T_c3ab9\" style='display:inline;margin:10px'>\n",
       "  <caption><b>Mapper로 dict 사용</b></caption>\n",
       "  <thead>\n",
       "    <tr>\n",
       "      <th class=\"blank\" >&nbsp;</th>\n",
       "      <th class=\"blank level0\" >&nbsp;</th>\n",
       "      <th id=\"T_c3ab9_level0_col0\" class=\"col_heading level0 col0\" >다</th>\n",
       "      <th id=\"T_c3ab9_level0_col1\" class=\"col_heading level0 col1\" >RARA</th>\n",
       "      <th id=\"T_c3ab9_level0_col2\" class=\"col_heading level0 col2\" >마</th>\n",
       "      <th id=\"T_c3ab9_level0_col3\" class=\"col_heading level0 col3\" >BABA</th>\n",
       "      <th id=\"T_c3ab9_level0_col4\" class=\"col_heading level0 col4\" >사</th>\n",
       "      <th id=\"T_c3ab9_level0_col5\" class=\"col_heading level0 col5\" >아</th>\n",
       "    </tr>\n",
       "    <tr>\n",
       "      <th class=\"index_name level0\" >가</th>\n",
       "      <th class=\"index_name level1\" >나</th>\n",
       "      <th class=\"blank col0\" >&nbsp;</th>\n",
       "      <th class=\"blank col1\" >&nbsp;</th>\n",
       "      <th class=\"blank col2\" >&nbsp;</th>\n",
       "      <th class=\"blank col3\" >&nbsp;</th>\n",
       "      <th class=\"blank col4\" >&nbsp;</th>\n",
       "      <th class=\"blank col5\" >&nbsp;</th>\n",
       "    </tr>\n",
       "  </thead>\n",
       "  <tbody>\n",
       "    <tr>\n",
       "      <th id=\"T_c3ab9_level0_row0\" class=\"row_heading level0 row0\" >1</th>\n",
       "      <th id=\"T_c3ab9_level1_row0\" class=\"row_heading level1 row0\" >4</th>\n",
       "      <td id=\"T_c3ab9_row0_col0\" class=\"data row0 col0\" >nan</td>\n",
       "      <td id=\"T_c3ab9_row0_col1\" class=\"data row0 col1\" >0</td>\n",
       "      <td id=\"T_c3ab9_row0_col2\" class=\"data row0 col2\" >nan</td>\n",
       "      <td id=\"T_c3ab9_row0_col3\" class=\"data row0 col3\" >2.000000</td>\n",
       "      <td id=\"T_c3ab9_row0_col4\" class=\"data row0 col4\" >nan</td>\n",
       "      <td id=\"T_c3ab9_row0_col5\" class=\"data row0 col5\" >2.000000</td>\n",
       "    </tr>\n",
       "    <tr>\n",
       "      <th id=\"T_c3ab9_level0_row1\" class=\"row_heading level0 row1\" >100</th>\n",
       "      <th id=\"T_c3ab9_level1_row1\" class=\"row_heading level1 row1\" >4</th>\n",
       "      <td id=\"T_c3ab9_row1_col0\" class=\"data row1 col0\" >nan</td>\n",
       "      <td id=\"T_c3ab9_row1_col1\" class=\"data row1 col1\" >0</td>\n",
       "      <td id=\"T_c3ab9_row1_col2\" class=\"data row1 col2\" >nan</td>\n",
       "      <td id=\"T_c3ab9_row1_col3\" class=\"data row1 col3\" >20.000000</td>\n",
       "      <td id=\"T_c3ab9_row1_col4\" class=\"data row1 col4\" >nan</td>\n",
       "      <td id=\"T_c3ab9_row1_col5\" class=\"data row1 col5\" >2.000000</td>\n",
       "    </tr>\n",
       "    <tr>\n",
       "      <th id=\"T_c3ab9_level0_row2\" class=\"row_heading level0 row2\" rowspan=\"4\">1</th>\n",
       "      <th id=\"T_c3ab9_level1_row2\" class=\"row_heading level1 row2\" >6</th>\n",
       "      <td id=\"T_c3ab9_row2_col0\" class=\"data row2 col0\" >nan</td>\n",
       "      <td id=\"T_c3ab9_row2_col1\" class=\"data row2 col1\" >nan</td>\n",
       "      <td id=\"T_c3ab9_row2_col2\" class=\"data row2 col2\" >nan</td>\n",
       "      <td id=\"T_c3ab9_row2_col3\" class=\"data row2 col3\" >2.449490</td>\n",
       "      <td id=\"T_c3ab9_row2_col4\" class=\"data row2 col4\" >nan</td>\n",
       "      <td id=\"T_c3ab9_row2_col5\" class=\"data row2 col5\" >2.449490</td>\n",
       "    </tr>\n",
       "    <tr>\n",
       "      <th id=\"T_c3ab9_level1_row3\" class=\"row_heading level1 row3\" >2</th>\n",
       "      <td id=\"T_c3ab9_row3_col0\" class=\"data row3 col0\" >3</td>\n",
       "      <td id=\"T_c3ab9_row3_col1\" class=\"data row3 col1\" >4</td>\n",
       "      <td id=\"T_c3ab9_row3_col2\" class=\"data row3 col2\" >5</td>\n",
       "      <td id=\"T_c3ab9_row3_col3\" class=\"data row3 col3\" >1.414214</td>\n",
       "      <td id=\"T_c3ab9_row3_col4\" class=\"data row3 col4\" >2.449490</td>\n",
       "      <td id=\"T_c3ab9_row3_col5\" class=\"data row3 col5\" >1.414214</td>\n",
       "    </tr>\n",
       "    <tr>\n",
       "      <th id=\"T_c3ab9_level1_row4\" class=\"row_heading level1 row4\" >1</th>\n",
       "      <td id=\"T_c3ab9_row4_col0\" class=\"data row4 col0\" >1</td>\n",
       "      <td id=\"T_c3ab9_row4_col1\" class=\"data row4 col1\" >1</td>\n",
       "      <td id=\"T_c3ab9_row4_col2\" class=\"data row4 col2\" >1</td>\n",
       "      <td id=\"T_c3ab9_row4_col3\" class=\"data row4 col3\" >1.000000</td>\n",
       "      <td id=\"T_c3ab9_row4_col4\" class=\"data row4 col4\" >1.000000</td>\n",
       "      <td id=\"T_c3ab9_row4_col5\" class=\"data row4 col5\" >1.000000</td>\n",
       "    </tr>\n",
       "    <tr>\n",
       "      <th id=\"T_c3ab9_level1_row5\" class=\"row_heading level1 row5\" >1</th>\n",
       "      <td id=\"T_c3ab9_row5_col0\" class=\"data row5 col0\" >1</td>\n",
       "      <td id=\"T_c3ab9_row5_col1\" class=\"data row5 col1\" >1</td>\n",
       "      <td id=\"T_c3ab9_row5_col2\" class=\"data row5 col2\" >1</td>\n",
       "      <td id=\"T_c3ab9_row5_col3\" class=\"data row5 col3\" >1.000000</td>\n",
       "      <td id=\"T_c3ab9_row5_col4\" class=\"data row5 col4\" >1.000000</td>\n",
       "      <td id=\"T_c3ab9_row5_col5\" class=\"data row5 col5\" >1.000000</td>\n",
       "    </tr>\n",
       "    <tr>\n",
       "      <th id=\"T_c3ab9_level0_row6\" class=\"row_heading level0 row6\" >22</th>\n",
       "      <th id=\"T_c3ab9_level1_row6\" class=\"row_heading level1 row6\" >22</th>\n",
       "      <td id=\"T_c3ab9_row6_col0\" class=\"data row6 col0\" >22</td>\n",
       "      <td id=\"T_c3ab9_row6_col1\" class=\"data row6 col1\" >22</td>\n",
       "      <td id=\"T_c3ab9_row6_col2\" class=\"data row6 col2\" >22</td>\n",
       "      <td id=\"T_c3ab9_row6_col3\" class=\"data row6 col3\" >22.000000</td>\n",
       "      <td id=\"T_c3ab9_row6_col4\" class=\"data row6 col4\" >22.000000</td>\n",
       "      <td id=\"T_c3ab9_row6_col5\" class=\"data row6 col5\" >4.690416</td>\n",
       "    </tr>\n",
       "  </tbody>\n",
       "</table>\n"
      ]
     },
     "metadata": {},
     "output_type": "display_data"
    }
   ],
   "source": [
    "def column_mapper(x):\n",
    "    if x == '다':\n",
    "        return 'C'\n",
    "    elif x == '아':\n",
    "        return 'H'\n",
    "    else:\n",
    "        return x\n",
    "    \n",
    "column_mapper2 = {'라':'RARA', '바':'BABA'}\n",
    "\n",
    "df2_1 = df2.rename(columns=column_mapper)\n",
    "df2_2 = df2.rename(columns=column_mapper2)\n",
    "\n",
    "display_multiple_dfs([[df2.rename(columns=column_mapper), 'Mapper로 함수 사용'], [df2_2, 'Mapper로 dict 사용']], styles)\n",
    "\n",
    "# mapper에 함수를 할당하면, 모든 이름에 대해 다 적용을 한다.\n",
    "# 함수에서 대상 이름에 대한 로직이 없다면, None으로 들어가게 된다."
   ]
  },
  {
   "cell_type": "code",
   "execution_count": 170,
   "metadata": {
    "tags": []
   },
   "outputs": [],
   "source": [
    "index_mapper = {1:'IIII', 22:'TTTT'}"
   ]
  },
  {
   "cell_type": "code",
   "execution_count": 171,
   "metadata": {
    "tags": []
   },
   "outputs": [
    {
     "data": {
      "text/html": [
       "<style type=\"text/css\">\n",
       "#T_59f0b caption {\n",
       "  text-align: center;\n",
       "  font-size: 16px;\n",
       "}\n",
       "</style>\n",
       "<table id=\"T_59f0b\" style='display:inline;margin:10px'>\n",
       "  <caption><b>level 컬럼 레벨 이름으로 세팅</b></caption>\n",
       "  <thead>\n",
       "    <tr>\n",
       "      <th class=\"blank\" >&nbsp;</th>\n",
       "      <th class=\"blank level0\" >&nbsp;</th>\n",
       "      <th id=\"T_59f0b_level0_col0\" class=\"col_heading level0 col0\" >다</th>\n",
       "      <th id=\"T_59f0b_level0_col1\" class=\"col_heading level0 col1\" >라</th>\n",
       "      <th id=\"T_59f0b_level0_col2\" class=\"col_heading level0 col2\" >마</th>\n",
       "      <th id=\"T_59f0b_level0_col3\" class=\"col_heading level0 col3\" >바</th>\n",
       "      <th id=\"T_59f0b_level0_col4\" class=\"col_heading level0 col4\" >사</th>\n",
       "      <th id=\"T_59f0b_level0_col5\" class=\"col_heading level0 col5\" >아</th>\n",
       "    </tr>\n",
       "    <tr>\n",
       "      <th class=\"index_name level0\" >가</th>\n",
       "      <th class=\"index_name level1\" >나</th>\n",
       "      <th class=\"blank col0\" >&nbsp;</th>\n",
       "      <th class=\"blank col1\" >&nbsp;</th>\n",
       "      <th class=\"blank col2\" >&nbsp;</th>\n",
       "      <th class=\"blank col3\" >&nbsp;</th>\n",
       "      <th class=\"blank col4\" >&nbsp;</th>\n",
       "      <th class=\"blank col5\" >&nbsp;</th>\n",
       "    </tr>\n",
       "  </thead>\n",
       "  <tbody>\n",
       "    <tr>\n",
       "      <th id=\"T_59f0b_level0_row0\" class=\"row_heading level0 row0\" >IIII</th>\n",
       "      <th id=\"T_59f0b_level1_row0\" class=\"row_heading level1 row0\" >4</th>\n",
       "      <td id=\"T_59f0b_row0_col0\" class=\"data row0 col0\" >nan</td>\n",
       "      <td id=\"T_59f0b_row0_col1\" class=\"data row0 col1\" >0</td>\n",
       "      <td id=\"T_59f0b_row0_col2\" class=\"data row0 col2\" >nan</td>\n",
       "      <td id=\"T_59f0b_row0_col3\" class=\"data row0 col3\" >2.000000</td>\n",
       "      <td id=\"T_59f0b_row0_col4\" class=\"data row0 col4\" >nan</td>\n",
       "      <td id=\"T_59f0b_row0_col5\" class=\"data row0 col5\" >2.000000</td>\n",
       "    </tr>\n",
       "    <tr>\n",
       "      <th id=\"T_59f0b_level0_row1\" class=\"row_heading level0 row1\" >100</th>\n",
       "      <th id=\"T_59f0b_level1_row1\" class=\"row_heading level1 row1\" >4</th>\n",
       "      <td id=\"T_59f0b_row1_col0\" class=\"data row1 col0\" >nan</td>\n",
       "      <td id=\"T_59f0b_row1_col1\" class=\"data row1 col1\" >0</td>\n",
       "      <td id=\"T_59f0b_row1_col2\" class=\"data row1 col2\" >nan</td>\n",
       "      <td id=\"T_59f0b_row1_col3\" class=\"data row1 col3\" >20.000000</td>\n",
       "      <td id=\"T_59f0b_row1_col4\" class=\"data row1 col4\" >nan</td>\n",
       "      <td id=\"T_59f0b_row1_col5\" class=\"data row1 col5\" >2.000000</td>\n",
       "    </tr>\n",
       "    <tr>\n",
       "      <th id=\"T_59f0b_level0_row2\" class=\"row_heading level0 row2\" rowspan=\"4\">IIII</th>\n",
       "      <th id=\"T_59f0b_level1_row2\" class=\"row_heading level1 row2\" >6</th>\n",
       "      <td id=\"T_59f0b_row2_col0\" class=\"data row2 col0\" >nan</td>\n",
       "      <td id=\"T_59f0b_row2_col1\" class=\"data row2 col1\" >nan</td>\n",
       "      <td id=\"T_59f0b_row2_col2\" class=\"data row2 col2\" >nan</td>\n",
       "      <td id=\"T_59f0b_row2_col3\" class=\"data row2 col3\" >2.449490</td>\n",
       "      <td id=\"T_59f0b_row2_col4\" class=\"data row2 col4\" >nan</td>\n",
       "      <td id=\"T_59f0b_row2_col5\" class=\"data row2 col5\" >2.449490</td>\n",
       "    </tr>\n",
       "    <tr>\n",
       "      <th id=\"T_59f0b_level1_row3\" class=\"row_heading level1 row3\" >2</th>\n",
       "      <td id=\"T_59f0b_row3_col0\" class=\"data row3 col0\" >3</td>\n",
       "      <td id=\"T_59f0b_row3_col1\" class=\"data row3 col1\" >4</td>\n",
       "      <td id=\"T_59f0b_row3_col2\" class=\"data row3 col2\" >5</td>\n",
       "      <td id=\"T_59f0b_row3_col3\" class=\"data row3 col3\" >1.414214</td>\n",
       "      <td id=\"T_59f0b_row3_col4\" class=\"data row3 col4\" >2.449490</td>\n",
       "      <td id=\"T_59f0b_row3_col5\" class=\"data row3 col5\" >1.414214</td>\n",
       "    </tr>\n",
       "    <tr>\n",
       "      <th id=\"T_59f0b_level1_row4\" class=\"row_heading level1 row4\" >1</th>\n",
       "      <td id=\"T_59f0b_row4_col0\" class=\"data row4 col0\" >1</td>\n",
       "      <td id=\"T_59f0b_row4_col1\" class=\"data row4 col1\" >1</td>\n",
       "      <td id=\"T_59f0b_row4_col2\" class=\"data row4 col2\" >1</td>\n",
       "      <td id=\"T_59f0b_row4_col3\" class=\"data row4 col3\" >1.000000</td>\n",
       "      <td id=\"T_59f0b_row4_col4\" class=\"data row4 col4\" >1.000000</td>\n",
       "      <td id=\"T_59f0b_row4_col5\" class=\"data row4 col5\" >1.000000</td>\n",
       "    </tr>\n",
       "    <tr>\n",
       "      <th id=\"T_59f0b_level1_row5\" class=\"row_heading level1 row5\" >1</th>\n",
       "      <td id=\"T_59f0b_row5_col0\" class=\"data row5 col0\" >1</td>\n",
       "      <td id=\"T_59f0b_row5_col1\" class=\"data row5 col1\" >1</td>\n",
       "      <td id=\"T_59f0b_row5_col2\" class=\"data row5 col2\" >1</td>\n",
       "      <td id=\"T_59f0b_row5_col3\" class=\"data row5 col3\" >1.000000</td>\n",
       "      <td id=\"T_59f0b_row5_col4\" class=\"data row5 col4\" >1.000000</td>\n",
       "      <td id=\"T_59f0b_row5_col5\" class=\"data row5 col5\" >1.000000</td>\n",
       "    </tr>\n",
       "    <tr>\n",
       "      <th id=\"T_59f0b_level0_row6\" class=\"row_heading level0 row6\" >TTTT</th>\n",
       "      <th id=\"T_59f0b_level1_row6\" class=\"row_heading level1 row6\" >22</th>\n",
       "      <td id=\"T_59f0b_row6_col0\" class=\"data row6 col0\" >22</td>\n",
       "      <td id=\"T_59f0b_row6_col1\" class=\"data row6 col1\" >22</td>\n",
       "      <td id=\"T_59f0b_row6_col2\" class=\"data row6 col2\" >22</td>\n",
       "      <td id=\"T_59f0b_row6_col3\" class=\"data row6 col3\" >22.000000</td>\n",
       "      <td id=\"T_59f0b_row6_col4\" class=\"data row6 col4\" >22.000000</td>\n",
       "      <td id=\"T_59f0b_row6_col5\" class=\"data row6 col5\" >4.690416</td>\n",
       "    </tr>\n",
       "  </tbody>\n",
       "</table>\n",
       "<style type=\"text/css\">\n",
       "#T_f54f0 caption {\n",
       "  text-align: center;\n",
       "  font-size: 16px;\n",
       "}\n",
       "</style>\n",
       "<table id=\"T_f54f0\" style='display:inline;margin:10px'>\n",
       "  <caption><b>level 컬럼 레벨 숫자로 세팅</b></caption>\n",
       "  <thead>\n",
       "    <tr>\n",
       "      <th class=\"blank\" >&nbsp;</th>\n",
       "      <th class=\"blank level0\" >&nbsp;</th>\n",
       "      <th id=\"T_f54f0_level0_col0\" class=\"col_heading level0 col0\" >다</th>\n",
       "      <th id=\"T_f54f0_level0_col1\" class=\"col_heading level0 col1\" >라</th>\n",
       "      <th id=\"T_f54f0_level0_col2\" class=\"col_heading level0 col2\" >마</th>\n",
       "      <th id=\"T_f54f0_level0_col3\" class=\"col_heading level0 col3\" >바</th>\n",
       "      <th id=\"T_f54f0_level0_col4\" class=\"col_heading level0 col4\" >사</th>\n",
       "      <th id=\"T_f54f0_level0_col5\" class=\"col_heading level0 col5\" >아</th>\n",
       "    </tr>\n",
       "    <tr>\n",
       "      <th class=\"index_name level0\" >가</th>\n",
       "      <th class=\"index_name level1\" >나</th>\n",
       "      <th class=\"blank col0\" >&nbsp;</th>\n",
       "      <th class=\"blank col1\" >&nbsp;</th>\n",
       "      <th class=\"blank col2\" >&nbsp;</th>\n",
       "      <th class=\"blank col3\" >&nbsp;</th>\n",
       "      <th class=\"blank col4\" >&nbsp;</th>\n",
       "      <th class=\"blank col5\" >&nbsp;</th>\n",
       "    </tr>\n",
       "  </thead>\n",
       "  <tbody>\n",
       "    <tr>\n",
       "      <th id=\"T_f54f0_level0_row0\" class=\"row_heading level0 row0\" >IIII</th>\n",
       "      <th id=\"T_f54f0_level1_row0\" class=\"row_heading level1 row0\" >4</th>\n",
       "      <td id=\"T_f54f0_row0_col0\" class=\"data row0 col0\" >nan</td>\n",
       "      <td id=\"T_f54f0_row0_col1\" class=\"data row0 col1\" >0</td>\n",
       "      <td id=\"T_f54f0_row0_col2\" class=\"data row0 col2\" >nan</td>\n",
       "      <td id=\"T_f54f0_row0_col3\" class=\"data row0 col3\" >2.000000</td>\n",
       "      <td id=\"T_f54f0_row0_col4\" class=\"data row0 col4\" >nan</td>\n",
       "      <td id=\"T_f54f0_row0_col5\" class=\"data row0 col5\" >2.000000</td>\n",
       "    </tr>\n",
       "    <tr>\n",
       "      <th id=\"T_f54f0_level0_row1\" class=\"row_heading level0 row1\" >100</th>\n",
       "      <th id=\"T_f54f0_level1_row1\" class=\"row_heading level1 row1\" >4</th>\n",
       "      <td id=\"T_f54f0_row1_col0\" class=\"data row1 col0\" >nan</td>\n",
       "      <td id=\"T_f54f0_row1_col1\" class=\"data row1 col1\" >0</td>\n",
       "      <td id=\"T_f54f0_row1_col2\" class=\"data row1 col2\" >nan</td>\n",
       "      <td id=\"T_f54f0_row1_col3\" class=\"data row1 col3\" >20.000000</td>\n",
       "      <td id=\"T_f54f0_row1_col4\" class=\"data row1 col4\" >nan</td>\n",
       "      <td id=\"T_f54f0_row1_col5\" class=\"data row1 col5\" >2.000000</td>\n",
       "    </tr>\n",
       "    <tr>\n",
       "      <th id=\"T_f54f0_level0_row2\" class=\"row_heading level0 row2\" rowspan=\"4\">IIII</th>\n",
       "      <th id=\"T_f54f0_level1_row2\" class=\"row_heading level1 row2\" >6</th>\n",
       "      <td id=\"T_f54f0_row2_col0\" class=\"data row2 col0\" >nan</td>\n",
       "      <td id=\"T_f54f0_row2_col1\" class=\"data row2 col1\" >nan</td>\n",
       "      <td id=\"T_f54f0_row2_col2\" class=\"data row2 col2\" >nan</td>\n",
       "      <td id=\"T_f54f0_row2_col3\" class=\"data row2 col3\" >2.449490</td>\n",
       "      <td id=\"T_f54f0_row2_col4\" class=\"data row2 col4\" >nan</td>\n",
       "      <td id=\"T_f54f0_row2_col5\" class=\"data row2 col5\" >2.449490</td>\n",
       "    </tr>\n",
       "    <tr>\n",
       "      <th id=\"T_f54f0_level1_row3\" class=\"row_heading level1 row3\" >2</th>\n",
       "      <td id=\"T_f54f0_row3_col0\" class=\"data row3 col0\" >3</td>\n",
       "      <td id=\"T_f54f0_row3_col1\" class=\"data row3 col1\" >4</td>\n",
       "      <td id=\"T_f54f0_row3_col2\" class=\"data row3 col2\" >5</td>\n",
       "      <td id=\"T_f54f0_row3_col3\" class=\"data row3 col3\" >1.414214</td>\n",
       "      <td id=\"T_f54f0_row3_col4\" class=\"data row3 col4\" >2.449490</td>\n",
       "      <td id=\"T_f54f0_row3_col5\" class=\"data row3 col5\" >1.414214</td>\n",
       "    </tr>\n",
       "    <tr>\n",
       "      <th id=\"T_f54f0_level1_row4\" class=\"row_heading level1 row4\" >1</th>\n",
       "      <td id=\"T_f54f0_row4_col0\" class=\"data row4 col0\" >1</td>\n",
       "      <td id=\"T_f54f0_row4_col1\" class=\"data row4 col1\" >1</td>\n",
       "      <td id=\"T_f54f0_row4_col2\" class=\"data row4 col2\" >1</td>\n",
       "      <td id=\"T_f54f0_row4_col3\" class=\"data row4 col3\" >1.000000</td>\n",
       "      <td id=\"T_f54f0_row4_col4\" class=\"data row4 col4\" >1.000000</td>\n",
       "      <td id=\"T_f54f0_row4_col5\" class=\"data row4 col5\" >1.000000</td>\n",
       "    </tr>\n",
       "    <tr>\n",
       "      <th id=\"T_f54f0_level1_row5\" class=\"row_heading level1 row5\" >1</th>\n",
       "      <td id=\"T_f54f0_row5_col0\" class=\"data row5 col0\" >1</td>\n",
       "      <td id=\"T_f54f0_row5_col1\" class=\"data row5 col1\" >1</td>\n",
       "      <td id=\"T_f54f0_row5_col2\" class=\"data row5 col2\" >1</td>\n",
       "      <td id=\"T_f54f0_row5_col3\" class=\"data row5 col3\" >1.000000</td>\n",
       "      <td id=\"T_f54f0_row5_col4\" class=\"data row5 col4\" >1.000000</td>\n",
       "      <td id=\"T_f54f0_row5_col5\" class=\"data row5 col5\" >1.000000</td>\n",
       "    </tr>\n",
       "    <tr>\n",
       "      <th id=\"T_f54f0_level0_row6\" class=\"row_heading level0 row6\" >TTTT</th>\n",
       "      <th id=\"T_f54f0_level1_row6\" class=\"row_heading level1 row6\" >22</th>\n",
       "      <td id=\"T_f54f0_row6_col0\" class=\"data row6 col0\" >22</td>\n",
       "      <td id=\"T_f54f0_row6_col1\" class=\"data row6 col1\" >22</td>\n",
       "      <td id=\"T_f54f0_row6_col2\" class=\"data row6 col2\" >22</td>\n",
       "      <td id=\"T_f54f0_row6_col3\" class=\"data row6 col3\" >22.000000</td>\n",
       "      <td id=\"T_f54f0_row6_col4\" class=\"data row6 col4\" >22.000000</td>\n",
       "      <td id=\"T_f54f0_row6_col5\" class=\"data row6 col5\" >4.690416</td>\n",
       "    </tr>\n",
       "  </tbody>\n",
       "</table>\n"
      ]
     },
     "metadata": {},
     "output_type": "display_data"
    }
   ],
   "source": [
    "df2_1 = df2.rename(index=index_mapper, level='가')\n",
    "df2_2 = df2.rename(index=index_mapper, level=0)\n",
    "display_multiple_dfs([[df2_1, 'level 컬럼 레벨 이름으로 세팅'], [df2_2, 'level 컬럼 레벨 숫자로 세팅']], styles)"
   ]
  },
  {
   "cell_type": "markdown",
   "metadata": {},
   "source": [
    "## 3. 값 삭제, 대체\n",
    " - 특정 조건의 값을 삭제하고 싶은 경우에는, 해당 조건의 반대 조건을 걸어서 반환 결과를 사용하는 식으로 처리한다."
   ]
  },
  {
   "cell_type": "markdown",
   "metadata": {
    "tags": []
   },
   "source": [
    "### 3-1. drop : 원하는 행, 열 지우기\n",
    "```DataFrame.drop(labels=None, axis=0, index=None, columns=None, level=None, inplace=False, errors='raise')```\n",
    " \n",
    "- 특정 레이블의 행이나 열을 제거한다.\n",
    "- labels : 제거할 index, 레이블 하나 혹은 리스트 (list-like)\n",
    "- axis : 0이면 행, 1이면 컬럼 대상\n",
    "- index : labels, axis=0 대신 사용가능\n",
    "- columns : labels, axis=1 대신 사용가능\n",
    "- level : MultiIndex일 경우, 어떤 레벨을 제거할 것인지\n",
    "- inplace : 원본 변경 할 건가요?\n",
    "- errors : 'ignore'로 세팅하면, 에러 출력 안 하고 존재하는 레이블만 제거한다."
   ]
  },
  {
   "cell_type": "code",
   "execution_count": null,
   "metadata": {},
   "outputs": [],
   "source": [
    "df"
   ]
  },
  {
   "cell_type": "code",
   "execution_count": null,
   "metadata": {},
   "outputs": [],
   "source": [
    "df.drop(labels=['가','아'], axis=1)"
   ]
  },
  {
   "cell_type": "code",
   "execution_count": null,
   "metadata": {},
   "outputs": [],
   "source": [
    "df.drop(labels=[1,7], axis=0)"
   ]
  },
  {
   "cell_type": "code",
   "execution_count": null,
   "metadata": {},
   "outputs": [],
   "source": [
    "df.drop(columns=['가','아'])\n",
    "# df.drop(labels=['가','아'], axis=1)와 같은 결과"
   ]
  },
  {
   "cell_type": "markdown",
   "metadata": {
    "tags": []
   },
   "source": [
    "### 3-2. Na 대응"
   ]
  },
  {
   "cell_type": "markdown",
   "metadata": {},
   "source": [
    "#### 3-2-1. isna : NaN인지 각 값에 대해 확인\n",
    "- NaN인지 각 값에 대해 확인하여 boolean으로 표현\n",
    "- isnull() 도 완전히 같은 기능을 한다.\n",
    "- 왜 같은 기능을 하는 함수가 두 개나 있는지는 아래 링크를 참조\n",
    "  - [https://datascience.stackexchange.com/questions/37878/difference-between-isna-and-isnull-in-pandas](https://datascience.stackexchange.com/questions/37878/difference-between-isna-and-isnull-in-pandas)\n",
    "  - This is because pandas' DataFrames are based on R's DataFrames. In R na and null are two separate things. Read [this post](https://www.r-bloggers.com/2010/04/r-na-vs-null/) for more information. \n",
    "    However, in python, pandas is built on top of numpy, **which has neither na nor null values. Instead numpy has NaN values (which stands for \"Not a Number\").** Consequently, pandas also uses NaN values.\n",
    "- 완전히 반대의 기능을 하는 함수로 notnull()이 있다.\n",
    "  - [pandas.notnull(obj)](https://pandas.pydata.org/docs/reference/api/pandas.notnull.html)"
   ]
  },
  {
   "cell_type": "code",
   "execution_count": null,
   "metadata": {},
   "outputs": [],
   "source": [
    "df.isna()\n",
    "# 특정 컬럼, 행에 대해서도 사용 가능"
   ]
  },
  {
   "cell_type": "markdown",
   "metadata": {
    "tags": []
   },
   "source": [
    "#### 3-2-2. dropna : NA 드랍\n",
    "```DataFrame.dropna(axis=0, how='any', thresh=None, subset=None, inplace=False)```\n",
    "\n",
    "- axis\n",
    "  - 0 혹은 'index' : missing value가 있는 행을 드랍\n",
    "  - 1 혹은 'columns' : missing value가 있는 열을 드랍\n",
    "- how\n",
    "  - any : missing value가 하나라도 있으면 드랍\n",
    "  - all : 전체 값이 다 missing value여야 드랍\n",
    "- thresh : 문턱값. 정수를 입력 시, 정상값이 해당 정수 갯수만큼은 있어야 제거 안 함\n",
    "- subset : list-like 오브젝트를 넣으면, 해당 index나 컬럼에서만 missing value 체크\n",
    "- inplace : 원본 변경 할 건가요?"
   ]
  },
  {
   "cell_type": "code",
   "execution_count": null,
   "metadata": {},
   "outputs": [],
   "source": [
    "df"
   ]
  },
  {
   "cell_type": "code",
   "execution_count": null,
   "metadata": {},
   "outputs": [],
   "source": [
    "df.dropna() # 기본적으로 행 드랍"
   ]
  },
  {
   "cell_type": "code",
   "execution_count": null,
   "metadata": {},
   "outputs": [],
   "source": [
    "df.dropna(axis=1) # 열 드랍"
   ]
  },
  {
   "cell_type": "code",
   "execution_count": null,
   "metadata": {},
   "outputs": [],
   "source": [
    "df.dropna(thresh=5) # index 3인 행은 정상값이 4개였음"
   ]
  },
  {
   "cell_type": "code",
   "execution_count": null,
   "metadata": {},
   "outputs": [],
   "source": [
    "df.dropna(axis=0, subset=['라']) # '라'열만 검사해서 NaN이 있는 행을 제거함"
   ]
  },
  {
   "cell_type": "markdown",
   "metadata": {
    "tags": []
   },
   "source": [
    "#### 3-2-3. fillna : NaN 데이터 대체하기\n",
    "`DataFrame.fillna(value=None, method=None, axis=None, inplace=False, limit=None, downcast=None)`\n",
    "\n",
    "- value : NaN을 무엇으로 채울 것인가?\n",
    "  - scalar : 0, 1 따위의 값을 넣음\n",
    "  - dict : {\"A\": 0, \"B\": 1, \"C\": 2, \"D\": 3}\n",
    "    - 컬럼 A의 NaN은 0으로, 컬럼 B의 NaN은 1로, 컬럼 C의 NaN은 2로, 컬럼 D의 NaN은 3으로 대체\n",
    "  - dataframe : 대체 대상 dataframe와 같은 크기의 dataframe을 준비한 후, value에 dataframe을 넣으면 NaN 값만 넣은 dataframe의 값으로 대체된다. 컬럼명이나 인덱스는 원본 dataframe의 것이 유지된다.\n",
    "- method : 어떤 방법으로 채울까? (value와 같이 사용할 수 없음)\n",
    "  - backfill, bfill : NaN의 다음 값으로 NaN 채우기.\n",
    "  - ffill, pad : NaN의 직전 값으로 NaN 채우기.\n",
    "- axis\n",
    "  - 0 혹은 'index'\n",
    "  - 1 혹은 'columns'\n",
    "- inplace : 원본 변경 할 건가요?\n",
    "- limit : 위에서부터 NaN 몇 개만 바꿀래? 기본값 None이면 모든 NaN을 바꾸는 것."
   ]
  },
  {
   "cell_type": "code",
   "execution_count": null,
   "metadata": {},
   "outputs": [],
   "source": [
    "df = pd.DataFrame([[np.nan, 2, np.nan, 0],\n",
    "                   [3, 4, np.nan, 1],\n",
    "                   [np.nan, np.nan, np.nan, 5],\n",
    "                   [np.nan, 3, np.nan, 4]],\n",
    "                  columns=list(\"ABCD\"))\n",
    "df"
   ]
  },
  {
   "cell_type": "code",
   "execution_count": null,
   "metadata": {},
   "outputs": [],
   "source": [
    "df.fillna(value=0) # 0으로 NaN 채우기"
   ]
  },
  {
   "cell_type": "code",
   "execution_count": null,
   "metadata": {},
   "outputs": [],
   "source": [
    "df.fillna(method='ffill') # NaN의 직전 값으로 NaN 채우기. 'pad'를 써도 마찬가지"
   ]
  },
  {
   "cell_type": "code",
   "execution_count": null,
   "metadata": {},
   "outputs": [],
   "source": [
    "df.fillna(method='bfill') # NaN의 다음 값으로 NaN 채우기. 'backfill'을 써도 마찬가지"
   ]
  },
  {
   "cell_type": "code",
   "execution_count": null,
   "metadata": {},
   "outputs": [],
   "source": [
    "values = {\"A\": 0, \"B\": 1, \"C\": 2, \"D\": 3}\n",
    "df.fillna(value=values) # values에 dictionary를 넣어서 컬럼마다 NaN을 다른 값으로 대체"
   ]
  },
  {
   "cell_type": "code",
   "execution_count": null,
   "metadata": {},
   "outputs": [],
   "source": [
    "df.fillna(value=values, limit=1) # limit=1이어서, 최초의 NaN 하나만 대체"
   ]
  },
  {
   "cell_type": "code",
   "execution_count": null,
   "metadata": {},
   "outputs": [],
   "source": [
    "df2 = pd.DataFrame(np.zeros((4, 4)), columns=list(\"ABCE\"))\n",
    "df2 # 4 by 4 영행렬을 만들어 보자"
   ]
  },
  {
   "cell_type": "code",
   "execution_count": null,
   "metadata": {},
   "outputs": [],
   "source": [
    "df.fillna(df2) #원본 df의 컬럼이 유지됨"
   ]
  },
  {
   "cell_type": "code",
   "execution_count": null,
   "metadata": {},
   "outputs": [],
   "source": [
    "df.loc[:,'A'].fillna(df.loc[:,'A'].mean()) # A열의 NaN 값을 A열의 평균으로 채움"
   ]
  },
  {
   "cell_type": "markdown",
   "metadata": {
    "tags": []
   },
   "source": [
    "### 3-3. drop_duplicates : 중복값 제거\n",
    "\n",
    "`DataFrame.drop_duplicates(subset=None, keep='first', inplace=False, ignore_index=False)`\n",
    "\n",
    "- subset : 컬럼 라벨, 혹은 컬럼 라벨 리스트\n",
    "  - 넣은 특정 컬럼만 중복값을 체크함. 기본으로는 전체 컬럼의 값이 다 같아야 제거\n",
    "- keep\n",
    "  - first : 첫 번째 등장한 것을 제외하면 다 제거\n",
    "  - last : 마지막에 등장한 것을 제외하면 다 제거\n",
    "  - False : 몽땅 다 제거\n",
    "- inplace : 원본 변경 할 건가요?\n",
    "- ignore_index : True 값을 넣으면, 결과값의 인덱스를 0, 1, ... n-1로 라벨링함"
   ]
  },
  {
   "cell_type": "code",
   "execution_count": null,
   "metadata": {},
   "outputs": [],
   "source": [
    "df = pd.DataFrame({\n",
    "    'brand': ['Yum Yum', 'Yum Yum', 'Indomie', 'Indomie', 'Indomie'],\n",
    "    'style': ['cup', 'cup', 'cup', 'pack', 'pack'],\n",
    "    'rating': [4, 4, 3.5, 15, 5]\n",
    "})\n",
    "df"
   ]
  },
  {
   "cell_type": "code",
   "execution_count": null,
   "metadata": {},
   "outputs": [],
   "source": [
    "df.drop_duplicates() # 모든 열의 값이 다 같으면 제거"
   ]
  },
  {
   "cell_type": "code",
   "execution_count": null,
   "metadata": {},
   "outputs": [],
   "source": [
    "df.drop_duplicates(subset=['brand']) # brand 컬럼 하나에서만 값이 같아도 제거"
   ]
  },
  {
   "cell_type": "code",
   "execution_count": null,
   "metadata": {},
   "outputs": [],
   "source": [
    "df.drop_duplicates(subset=['brand', 'style'], keep='last')\n",
    "# brand, style 모두 같으면, 마지막 값만 남김"
   ]
  },
  {
   "cell_type": "markdown",
   "metadata": {},
   "source": [
    "## 4. Dataframe 결합"
   ]
  },
  {
   "cell_type": "markdown",
   "metadata": {
    "tags": []
   },
   "source": [
    "### 4-1. 위아래로 붙이는 단순 결합의 경우, 어떤 방식이 가장 빠른가?\n",
    "- 결론부터 말하자면 데이터를 Dictionary의 리스트로 관리하다가 마지막에 Dataframe으로 만드는 것이 가장 빠르다.\n",
    "  - [https://stackoverflow.com/questions/57000903/what-is-the-fastest-and-most-efficient-way-to-append-rows-to-a-dataframe](https://stackoverflow.com/questions/57000903/what-is-the-fastest-and-most-efficient-way-to-append-rows-to-a-dataframe)\n",
    "  ```Python\n",
    "    start_time = time.time()\n",
    "    dictinary_list = []\n",
    "    for i in range(0, end_value, 1):\n",
    "        dictionary_data = {k: random.random() for k in range(30)}\n",
    "        dictionary_list.append(dictionary_data)\n",
    "\n",
    "    df_final = pd.DataFrame.from_dict(dictionary_list)\n",
    "\n",
    "    end_time = time.time()\n",
    "    print('Execution time = %.6f seconds' % (end_time-start_time))\n",
    "  ```\n",
    "  \n",
    "  - 그럼 리스트 합치는 건 뭐가 제일 빠르지?\n",
    "    - [https://www.realpythonproject.com/day15-the-fastest-way-to-combine-lists-in-python/](https://www.realpythonproject.com/day15-the-fastest-way-to-combine-lists-in-python/)\n",
    "    - append() is the fastest but it doesn’t combine the elements of both the lists. **The + operator seems to be the ideal option.** However, this has been done on a comparatively smaller dataset and results may vary when you try it on your own.\n",
    "- 인생은 항상 원하는대로 흘러가지 않기에, 다른 방법도 알아보자."
   ]
  },
  {
   "cell_type": "markdown",
   "metadata": {},
   "source": [
    "#### 4-1-1. concat\n",
    "`pandas.concat(objs, axis=0, join='outer', ignore_index=False, keys=None, levels=None, names=None, verify_integrity=False, sort=False, copy=True)`"
   ]
  },
  {
   "cell_type": "code",
   "execution_count": null,
   "metadata": {},
   "outputs": [],
   "source": [
    "s1 = pd.Series(['a', 'b'])\n",
    "s2 = pd.Series(['c', 'd'])\n",
    "pd.concat([s1, s2]) # Series 두 개 합치기"
   ]
  },
  {
   "cell_type": "code",
   "execution_count": null,
   "metadata": {},
   "outputs": [],
   "source": [
    "pd.concat([s1, s2], ignore_index=True) # 합치면서 index 새로 만들어줌"
   ]
  },
  {
   "cell_type": "code",
   "execution_count": null,
   "metadata": {},
   "outputs": [],
   "source": [
    "s3 = pd.concat([s1, s2], keys=['s1', 's2']) # 최외각 레벨에 새로운 index를 만들어줌\n",
    "print(s3)\n",
    "print(s3['s1']) \n",
    "print(s3['s2'][0]) # 이렇게 조회가능"
   ]
  },
  {
   "cell_type": "code",
   "execution_count": null,
   "metadata": {},
   "outputs": [],
   "source": [
    "s3 = pd.concat([s1, s2], keys=['s1', 's2'], names=['Series name', 'Row ID'])\n",
    "# index에 이름 붙이기\n",
    "print(s3)\n",
    "print(s3.index)\n",
    "print(s3.index.names)"
   ]
  },
  {
   "cell_type": "code",
   "execution_count": null,
   "metadata": {},
   "outputs": [],
   "source": [
    "df1 = pd.DataFrame([['a', 1], ['b', 2]], columns=['letter', 'number'])\n",
    "print(df1)\n",
    "df2 = pd.DataFrame([['c', 3], ['d', 4]], columns=['letter', 'number'])\n",
    "print(df2)\n",
    "pd.concat([df1, df2]) # Dataframe 합치기"
   ]
  },
  {
   "cell_type": "code",
   "execution_count": null,
   "metadata": {},
   "outputs": [],
   "source": [
    "df3 = pd.DataFrame([['c', 3, 'cat'], ['d', 4, 'dog']],\n",
    "                   columns=['letter', 'number', 'animal'])\n",
    "print(df3)\n",
    "pd.concat([df1, df3], sort=False) # 한 쪽에 없는 컬럼의 값은 NaN으로 삽입됨"
   ]
  },
  {
   "cell_type": "code",
   "execution_count": null,
   "metadata": {
    "tags": []
   },
   "outputs": [],
   "source": [
    "pd.concat([df1, df3], join=\"inner\") # join=\"inner\"로 하면 양쪽에 다 있는 컬럼만 합쳐서 반환함"
   ]
  },
  {
   "cell_type": "code",
   "execution_count": null,
   "metadata": {},
   "outputs": [],
   "source": [
    "df4 = pd.DataFrame([['bird', 'polly'], ['monkey', 'george']],\n",
    "                   columns=['animal', 'name'])\n",
    "pd.concat([df1, df4], axis=1) # axis=1이면 컬럼을 붙임"
   ]
  },
  {
   "cell_type": "code",
   "execution_count": null,
   "metadata": {},
   "outputs": [],
   "source": [
    "df4 = pd.DataFrame([['bird', 'polly'], ['monkey', 'george'], ['dog', 'sam']],\n",
    "                   columns=['animal', 'name'])\n",
    "pd.concat([df1, df4], axis=1) \n",
    "# axis=1이면 컬럼을 붙임\n",
    "# 행의 수가 다르면, 행이 적은 쪽에 NaN이 삽입된 행이 추가됨"
   ]
  },
  {
   "cell_type": "code",
   "execution_count": null,
   "metadata": {
    "tags": []
   },
   "outputs": [],
   "source": [
    "#collapse-output\n",
    "df5 = pd.DataFrame([1], index=['a'])\n",
    "df6 = pd.DataFrame([2], index=['a'])\n",
    "pd.concat([df5, df6], verify_integrity=True)\n",
    "# verify_integrity=True를 하면, index가 같은 것을 허용하지 않음."
   ]
  },
  {
   "cell_type": "markdown",
   "metadata": {},
   "source": [
    "### 4-2. Merge : Database의 Join처럼 Dataframe 합치기\n",
    "`DataFrame.merge(right, how='inner', on=None, left_on=None, right_on=None, left_index=False, right_index=False, sort=False, suffixes=('_x', '_y'), copy=True, indicator=False, validate=None)`\n",
    "\n",
    "- right : 합칠 Dataframe\n",
    "- how : {‘left’, ‘right’, ‘outer’, ‘inner’, ‘cross’}, default ‘inner’\n",
    "  - left: use only keys from left frame, similar to a SQL left outer join; preserve key order.\n",
    "  - right: use only keys from right frame, similar to a SQL right outer join; preserve key order.\n",
    "  - outer: use union of keys from both frames, similar to a SQL full outer join; sort keys lexicographically.\n",
    "  - inner: use intersection of keys from both frames, similar to a SQL inner join; preserve the order of the left keys.\n",
    "  - cross: creates the cartesian product from both frames, preserves the order of the left keys.\n",
    "- on : label or list\n",
    "  - 조인할 컬럼이나 인덱스 레벨의 이름. 두 Dataframe에 무조건 있어야 한다.\n",
    "- left_on : label or list, or array-like\n",
    "  - 왼쪽 Dataframe의 조인할 컬럼이나 인덱스 레벨의 이름.\n",
    "- right_on : label or list, or array-like\n",
    "  - 오른쪽 Dataframe의 조인할 컬럼이나 인덱스 레벨의 이름.\n",
    "- left_index : bool, default False\n",
    "  - 왼쪽 index를 조인의 key로 사용할까요?\n",
    "  - MultiIndex인 경우, 상대 Dataframe의 key 수가 level의 수와 동일해야 함.\n",
    "- right_index : bool, default False\n",
    "  - 오른쪽 index를 조인의 key로 사용할까요?\n",
    "  - MultiIndex인 경우, 상대 Dataframe의 key 수가 level의 수와 동일해야 함.\n",
    "- sort : bool, default False\n",
    "  - 조인 결과 Dataframe에서 key를 사전 순서(lexicographically)로 배열함\n",
    "  - False인 경우, 조인 방법에 정의된 방법을 따라감\n",
    "- suffixes : list-like, default is (“_x”, “_y”)\n",
    "  - 컬럼에 접미사를 붙인다. 왼쪽 오른쪽 구분용.\n",
    "  - 기본적으로 왼쪽에 _x, 오른쪽에 _y가 붙는다.\n",
    "- copy : bool, default True\n",
    "  - False면, 가능하면 복사를 피한다.\n",
    "- indicator : bool or str, default False\n",
    "- validate : str, optional\n",
    "  - If specified, checks if merge is of specified type.\n",
    "      - “one_to_one” or “1:1”: check if merge keys are unique in both left and right datasets.\n",
    "      - “one_to_many” or “1:m”: check if merge keys are unique in left dataset.\n",
    "      - “many_to_one” or “m:1”: check if merge keys are unique in right dataset.\n",
    "      - “many_to_many” or “m:m”: allowed, but does not result in checks."
   ]
  },
  {
   "cell_type": "code",
   "execution_count": null,
   "metadata": {},
   "outputs": [],
   "source": [
    "df1 = pd.DataFrame({'lkey': ['foo', 'bar', 'baz', 'foo'], 'value': [1, 2, 3, 5]})\n",
    "df2 = pd.DataFrame({'rkey': ['foo', 'bar', 'baz', 'foo'], 'value': [5, 6, 7, 8]})\n",
    "display(df1)\n",
    "display(df2)"
   ]
  },
  {
   "cell_type": "code",
   "execution_count": null,
   "metadata": {},
   "outputs": [],
   "source": [
    "display(df1.merge(df2, left_on='lkey', right_on='rkey'))\n",
    "# 뒤에 _x, _y가 붙은 것을 확인.\n",
    "df1.merge(df2, left_on='lkey', right_on='rkey', suffixes=('_left', '_right'))\n",
    "# _left, _right로 바꿔 보았음"
   ]
  },
  {
   "cell_type": "code",
   "execution_count": null,
   "metadata": {},
   "outputs": [],
   "source": [
    "df1 = pd.DataFrame({'a': ['foo', 'bar'], 'b': [1, 2]})\n",
    "df2 = pd.DataFrame({'a': ['foo', 'baz'], 'c': [3, 4]})\n",
    "display(df1)\n",
    "display(df2)"
   ]
  },
  {
   "cell_type": "code",
   "execution_count": null,
   "metadata": {},
   "outputs": [],
   "source": [
    "df1.merge(df2, how='inner', on='a')\n",
    "# a 컬럼을 키로 잡음. 두 Dataframe에 다 a 컬럼이 있어서 가능한것\n",
    "# inner join"
   ]
  },
  {
   "cell_type": "code",
   "execution_count": null,
   "metadata": {},
   "outputs": [],
   "source": [
    "df1.merge(df2, how='left', on='a')\n",
    "# left outer join"
   ]
  },
  {
   "cell_type": "code",
   "execution_count": null,
   "metadata": {},
   "outputs": [],
   "source": [
    "df1.merge(df2, how='left', left_on='a', right_on='a')\n",
    "# left outer join"
   ]
  },
  {
   "cell_type": "markdown",
   "metadata": {
    "tags": []
   },
   "source": [
    "#### 4-2-1. Dataframe Join의 속도를 향상시키기 위해서는?\n",
    "\n",
    "- [https://stackoverflow.com/questions/40860457/improve-pandas-merge-performance](https://stackoverflow.com/questions/40860457/improve-pandas-merge-performance)\n",
    "- key를 index로 사용한다.\n",
    "  - index 검색 시에는 hash table을 이용하기 때문\n",
    "  - A short explanation why it is faster to merge by index instead of by a \"normal\" column: Indices have a hash table. Meaning you can look them up in amortized O(1). For a normal column you need O(n) in worst case, meaning merging two dfs with len n takes O(n^2) in worst case.\n",
    "- join을 쓴다.\n",
    "- concat을 쓴다.\n",
    "\n",
    "**여기서의 결론** : key를 index로 사용한 후 join을 쓴다."
   ]
  },
  {
   "cell_type": "code",
   "execution_count": null,
   "metadata": {},
   "outputs": [],
   "source": [
    "import random\n",
    "df1 = pd.DataFrame({'uid_sample': random.sample(range(100000), 80000), 'value': random.sample(range(10000000), 80000)})\n",
    "df2 = pd.DataFrame({'userId_sample2': random.sample(range(100000), 80000), 'value': random.sample(range(10000000), 80000)})\n",
    "# 80000명의 정보를 담고 있는 두 Dataframe이 있다고 하자.\n",
    "# uid_sample, userId_sample2를 key로 조인하고 싶다."
   ]
  },
  {
   "cell_type": "code",
   "execution_count": null,
   "metadata": {},
   "outputs": [],
   "source": [
    "%%timeit\n",
    "df1.merge(df2, how='left', left_on='uid_sample', right_on='userId_sample2')"
   ]
  },
  {
   "cell_type": "code",
   "execution_count": null,
   "metadata": {},
   "outputs": [],
   "source": [
    "%%timeit\n",
    "# key로 사용하려는 컬럼을 index로 할당\n",
    "# 36%정도 빨라졌다!\n",
    "df3 = df1.set_index('uid_sample')\n",
    "df4 = df2.set_index('userId_sample2')\n",
    "df3.merge(df4, right_index=True, left_index=True)"
   ]
  },
  {
   "cell_type": "code",
   "execution_count": null,
   "metadata": {},
   "outputs": [],
   "source": [
    "%%timeit\n",
    "# key로 사용하려는 컬럼을 index로 할당\n",
    "# join 함수 사용\n",
    "# 여기서 이미 2.5배 빨라졌다\n",
    "df3 = df1.set_index('uid_sample')\n",
    "df4 = df2.set_index('userId_sample2')\n",
    "df3.join(df4, how='left', lsuffix='left', rsuffix='right')"
   ]
  },
  {
   "cell_type": "code",
   "execution_count": null,
   "metadata": {},
   "outputs": [],
   "source": [
    "%%timeit\n",
    "# inner, outer밖에 안 되는데 join보다 느리다.\n",
    "df3 = df1.set_index('uid_sample')\n",
    "df4 = df2.set_index('userId_sample2')\n",
    "pd.concat([df3, df4], axis=1, join='inner')"
   ]
  },
  {
   "cell_type": "markdown",
   "metadata": {
    "tags": []
   },
   "source": [
    "### 4-3. Join : Merge보다 빠르다\n",
    "`DataFrame.join(other, on=None, how='left', lsuffix='', rsuffix='', sort=False)`\n",
    "\n",
    "- other : 다른 데이터프레임, 혹은 시리즈, 혹은 데이터프레임 리스트\n",
    "  - 함수를 호출한 데이터프레임에 붙일 대상\n",
    "- on : 조인 키가 될 컬럼 이름, 혹은 컬럼 이름 리스트(array-like 자료형이면 됨)\n",
    "- how\n",
    "  - left : 함수를 호출한 데이터프레임(caller)의 index를 조인 키로 사용. on에서 컬럼을 지정했을 경우, 그 컬럼을 사용\n",
    "  - right : other 패러미터에 할당된 객체의 index를 사용\n",
    "  - outer : outer join 실행 후, 사전 순으로 정렬함. 기본적으론 양쪽 다 index를 사용. on에서 지정하면 caller만 해당 컬럼 사용.\n",
    "  - inner : inner join 실행. caller의 순서 보존됨.\n",
    "  - cross : 양쪽의 곱집합 생성. left key(caller)의 순서 보존됨.\n",
    "- lsuffix, rsuffix : join된 결과물 컬럼의 접미사 세팅.\n",
    "- sort : TRUE면, join key의 사전 순서대로 정렬됨. FALSE면, how에서의 기본 처리방식을 따름."
   ]
  },
  {
   "cell_type": "code",
   "execution_count": null,
   "metadata": {
    "tags": []
   },
   "outputs": [],
   "source": [
    "caller = pd.DataFrame({'key': ['K0', 'K1', 'K2', 'K3', 'K4', 'K5'], 'A': ['A0', 'A1', 'A2', 'A3', 'A4', 'A5']})\n",
    "other = pd.DataFrame({'key': ['K0', 'K1', 'K2'], 'B': ['B0', 'B1', 'B2']})\n",
    "other2 = pd.DataFrame({'key': ['K0', 'K1', 'K2'], 'C': ['C0', 'C1', 'C2']})"
   ]
  },
  {
   "cell_type": "code",
   "execution_count": null,
   "metadata": {
    "tags": []
   },
   "outputs": [],
   "source": [
    "caller_styler = caller.style.set_table_attributes(\"style='display:inline;margin:5px'\").set_caption('caller')\n",
    "other_styler = other.style.set_table_attributes(\"style='display:inline;margin:5px'\").set_caption('other')\n",
    "other2_styler = other2.style.set_table_attributes(\"style='display:inline;margin:5px'\").set_caption('other2')\n",
    "display_html(caller_styler._repr_html_() + other_styler._repr_html_() + other2_styler._repr_html_(), raw=True)"
   ]
  },
  {
   "cell_type": "code",
   "execution_count": null,
   "metadata": {},
   "outputs": [],
   "source": [
    "# 이러면 index 0,1,2,3,4,5 기준으로 join됨\n",
    "caller.join(other, lsuffix='_caller', rsuffix='_other')"
   ]
  },
  {
   "cell_type": "code",
   "execution_count": null,
   "metadata": {},
   "outputs": [],
   "source": [
    "# set_index로 조인 키로 쓰고 싶은 컬럼을 index로 만들어주는 방법이 있음\n",
    "caller.set_index('key').join(other.set_index('key'))"
   ]
  },
  {
   "cell_type": "code",
   "execution_count": null,
   "metadata": {},
   "outputs": [],
   "source": [
    "# 혹은, other만 조인 키로 쓰고 싶은 컬럼을 index로 만들어 주고,\n",
    "# on에다 조인 키로 쓰고 싶은 caller의 컬럼을 할당하는 방법이 있음\n",
    "caller.join(other.set_index('key'), on='key')"
   ]
  },
  {
   "cell_type": "code",
   "execution_count": null,
   "metadata": {},
   "outputs": [],
   "source": [
    "# 한 번에 여러 개의 Dataframe을 Join 할 때에는, index로 join하는 것만 지원한다.\n",
    "# 즉, on을 쓰지 못한다는 이야기이다.\n",
    "caller.set_index('key').join([other.set_index('key'), other2.set_index('key')])"
   ]
  },
  {
   "cell_type": "markdown",
   "metadata": {},
   "source": [
    "## 5. 데이터 구조 변경"
   ]
  },
  {
   "cell_type": "markdown",
   "metadata": {},
   "source": [
    "### 5.1 Pivot : 엑셀에서 보던 그것\n",
    "`DataFrame.pivot(index=None, columns=None, values=None)`\n",
    "\n",
    "- index : str or object or a list of str, optional\n",
    "  - 새로운 프레임의 index로 사용할 컬럼\n",
    "- columns : str of object or a list of str\n",
    "  - 새로운 프레임의 컬럼으로 사용할 컬럼\n",
    "- values : str, object or a list of the previous, optional\n",
    "  - 새로운 프레임의 값을 계산하기 위해 사용하는 컬럼\n",
    "  - 지정하지 않으면, 남아있는 모든 컬럼을 사용한다."
   ]
  },
  {
   "cell_type": "code",
   "execution_count": null,
   "metadata": {},
   "outputs": [],
   "source": [
    "df = pd.DataFrame({'foo': ['one', 'one', 'one', 'two', 'two',\n",
    "                           'two'],\n",
    "                   'bar': ['A', 'B', 'C', 'A', 'B', 'C'],\n",
    "                   'baz': [1, 2, 3, 4, 5, 6],\n",
    "                   'zoo': ['x', 'y', 'z', 'q', 'w', 't']})\n",
    "df"
   ]
  },
  {
   "cell_type": "code",
   "execution_count": null,
   "metadata": {},
   "outputs": [],
   "source": [
    "df.pivot(index='foo', columns='bar', values='baz')"
   ]
  },
  {
   "cell_type": "code",
   "execution_count": null,
   "metadata": {},
   "outputs": [],
   "source": [
    "df.pivot(index='foo', columns='bar')"
   ]
  },
  {
   "cell_type": "code",
   "execution_count": null,
   "metadata": {},
   "outputs": [],
   "source": [
    "df.pivot(index='foo', columns='bar')['baz']"
   ]
  },
  {
   "cell_type": "code",
   "execution_count": null,
   "metadata": {},
   "outputs": [],
   "source": [
    "df = pd.DataFrame({\n",
    "       \"lev1\": [1, 1, 1, 2, 2, 2],\n",
    "       \"lev2\": [1, 1, 2, 1, 1, 2],\n",
    "       \"lev3\": [1, 2, 1, 2, 1, 2],\n",
    "       \"lev4\": [1, 2, 3, 4, 5, 6],\n",
    "       \"values\": [0, 1, 2, 3, 4, 5]})\n",
    "df"
   ]
  },
  {
   "cell_type": "code",
   "execution_count": null,
   "metadata": {},
   "outputs": [],
   "source": [
    "df.pivot(index=\"lev1\", columns=[\"lev2\", \"lev3\"] ,values=\"values\")\n",
    "# Multilevel Column\n",
    "# 해당하는 조건에 맞는 값이 없으면 NaN이 들어가게 됨"
   ]
  },
  {
   "cell_type": "code",
   "execution_count": null,
   "metadata": {},
   "outputs": [],
   "source": [
    "df.pivot(index=[\"lev1\", \"lev2\"], columns=[\"lev3\"],values=\"values\")\n",
    "# Multiindex"
   ]
  },
  {
   "cell_type": "code",
   "execution_count": null,
   "metadata": {
    "tags": []
   },
   "outputs": [],
   "source": [
    "#collapse-output\n",
    "df.pivot(index=[\"lev1\"], columns=[\"lev2\"],values=\"values\")\n",
    "# 인덱스, 컬럼 쌍에 중복이 발생하면 에러가 출력됨\n",
    "# ValueError: Index contains duplicate entries, cannot reshape"
   ]
  },
  {
   "cell_type": "markdown",
   "metadata": {},
   "source": [
    "### 5.2 Pivot_table : Pivot의 확장 버전\n",
    "\n",
    "`pandas.pivot_table(data, values=None, index=None, columns=None, aggfunc='mean', fill_value=None, margins=False, dropna=True, margins_name='All', observed=False, sort=True)`"
   ]
  },
  {
   "cell_type": "code",
   "execution_count": null,
   "metadata": {},
   "outputs": [],
   "source": [
    "#hide_input\n",
    "df = pd.DataFrame({\"A\": [\"foo\", \"foo\", \"foo\", \"foo\", \"foo\",\n",
    "                         \"bar\", \"bar\", \"bar\", \"bar\"],\n",
    "                   \"B\": [\"one\", \"one\", \"one\", \"two\", \"two\",\n",
    "                         \"one\", \"one\", \"two\", \"two\"],\n",
    "                   \"C\": [\"small\", \"large\", \"large\", \"small\",\n",
    "                         \"small\", \"large\", \"small\", \"small\",\n",
    "                         \"large\"],\n",
    "                   \"D\": [1, 2, 2, 3, 3, 4, 5, 6, 7],\n",
    "                   \"E\": [2, 4, 5, 5, 6, 6, 8, 9, 9]})\n",
    "df"
   ]
  },
  {
   "cell_type": "code",
   "execution_count": null,
   "metadata": {},
   "outputs": [],
   "source": [
    "table = pd.pivot_table(df, values='D', index=['A', 'B'], columns=['C'], aggfunc=np.sum)\n",
    "table # aggfunc에 집계함수를 넣게 된다. 여기서는 총합"
   ]
  },
  {
   "cell_type": "code",
   "execution_count": null,
   "metadata": {},
   "outputs": [],
   "source": [
    "table = pd.pivot_table(df, values='D', index=['A', 'B'],\n",
    "                    columns=['C'], aggfunc=np.sum, fill_value=0)\n",
    "table # fill_value에 할당된 값으로 NaN을 대체하게 됨"
   ]
  },
  {
   "cell_type": "code",
   "execution_count": null,
   "metadata": {},
   "outputs": [],
   "source": [
    "table = pd.pivot_table(df, values=['D', 'E'], index=['A', 'C'],\n",
    "                    aggfunc={'D': np.mean,\n",
    "                             'E': np.sum})\n",
    "table # aggfunc에 Dictionary를 할당하여 값마다 집계함수를 각각 다르게 설정할 수 있다."
   ]
  },
  {
   "cell_type": "code",
   "execution_count": null,
   "metadata": {},
   "outputs": [],
   "source": [
    "table = pd.pivot_table(df, values=['D', 'E'], index=['A', 'C'],\n",
    "                    aggfunc={'D': np.mean,\n",
    "                             'E': [min, max, np.mean]})\n",
    "table # 한 값에 여러 개의 집계함수 할당도 가능하다."
   ]
  },
  {
   "cell_type": "code",
   "execution_count": null,
   "metadata": {},
   "outputs": [],
   "source": [
    "table = pd.pivot_table(df, values=['D', 'E'], index=['A', 'C'],\n",
    "                    aggfunc={'D': np.mean,\n",
    "                             'E': np.mean},\n",
    "                    margins=True, margins_name=\"mean\")\n",
    "table # Values에 적용된 집계함수를 컬럼 전체에 적용한 행을 추가한다.\n",
    "# 한 Value에 집계함수를 하나만 사용했을 때 적용 가능.\n",
    "# margins_name을 지정하지 않으면 기본적으로 행 Index 이름은 All이 된다."
   ]
  },
  {
   "cell_type": "markdown",
   "metadata": {},
   "source": [
    "### 5.3 melt : Unpivot 하기\n",
    "\n",
    "`pandas.melt(frame, id_vars=None, value_vars=None, var_name=None, value_name='value', col_level=None, ignore_index=True)`\n",
    "\n",
    "- id_vars : tuple, list, or ndarray, optional\n",
    "  - 식별자로 사용할 컬럼\n",
    "- value_vars : tuple, list, or ndarray, optional\n",
    "  - Unpivot 할 컬럼. 지정하지 않으면, id_vars에 할당되지 않은 모든 컬럼을 사용"
   ]
  },
  {
   "cell_type": "code",
   "execution_count": null,
   "metadata": {},
   "outputs": [],
   "source": [
    "df = pd.DataFrame({'A': {0: 'a', 1: 'b', 2: 'c'},\n",
    "                   'B': {0: 1, 1: 3, 2: 5},\n",
    "                   'C': {0: 2, 1: 4, 2: 6}})\n",
    "df"
   ]
  },
  {
   "cell_type": "code",
   "execution_count": null,
   "metadata": {},
   "outputs": [],
   "source": [
    "pd.melt(df, id_vars=['A'], value_vars=['B'])"
   ]
  },
  {
   "cell_type": "code",
   "execution_count": null,
   "metadata": {},
   "outputs": [],
   "source": [
    "pd.melt(df, id_vars=['A'], value_vars=['B', 'C'])"
   ]
  },
  {
   "cell_type": "code",
   "execution_count": null,
   "metadata": {},
   "outputs": [],
   "source": [
    "pd.melt(df, id_vars=['A'], value_vars=['B'],\n",
    "        var_name='myVarname', value_name='myValname')\n",
    "# 이름은 커스터마이징 가능"
   ]
  },
  {
   "cell_type": "code",
   "execution_count": null,
   "metadata": {},
   "outputs": [],
   "source": [
    "pd.melt(df, id_vars=['A'], value_vars=['B', 'C'], ignore_index=False)\n",
    "# 원본 index 유지"
   ]
  },
  {
   "cell_type": "markdown",
   "metadata": {},
   "source": [
    "### 5.4 sort_values : 정렬\n",
    "`DataFrame.sort_values(by, *, axis=0, ascending=True, inplace=False, kind='quicksort', na_position='last', ignore_index=False, key=None)`\n",
    "\n",
    "- by : str, 혹은 str의 리스트\n",
    "- axis : {0 or ‘index’, 1 or ‘columns’}, default 0\n",
    "- ascending : bool, default True, True일 경우 오름차순\n",
    "- inplace : bool, default False, 원본을 변경하는지\n",
    "- kind : {‘quicksort’, ‘mergesort’, ‘heapsort’, ‘stable’}, default ‘quicksort’\n",
    "  - 정렬 알고리즘 종류. 자세한 사항은 [numpy.sort](https://numpy.org/doc/stable/reference/generated/numpy.sort.html#numpy.sort) 참고\n",
    "- na_position : {‘first’, ‘last’}, default ‘last’, NaN의 위치는 어디에 둘 지 선택\n",
    "- ignore_index : bool, default False, If True, the resulting axis will be labeled 0, 1, …, n - 1.\n",
    "- key : callable, optional\n",
    "  - 정렬하기 전에 key에 할당된 함수를 값에 적용한다.\n",
    "  - by에 할당된 컬럼들에 각각 적용된다.\n",
    "  - input과 output의 크기가 같을 것이 요구된다. (정렬을 해야 하니, 당연한 이야기지만)\n",
    "    - It should expect a Series and return a Series with the same shape as the input."
   ]
  },
  {
   "cell_type": "code",
   "execution_count": null,
   "metadata": {},
   "outputs": [],
   "source": [
    "df_sample = pd.DataFrame({\n",
    "    'col1': ['A', 'A', 'B', np.nan, 'D', 'C'],\n",
    "    'col2': [2, 1, 9, 8, 7, 4],\n",
    "    'col3': [0, 1, 9, 4, 2, 3],\n",
    "    'col4': ['a', 'B', 'c', 'D', 'e', 'F']\n",
    "})\n",
    "df_sample"
   ]
  },
  {
   "cell_type": "code",
   "execution_count": null,
   "metadata": {},
   "outputs": [],
   "source": [
    "df_sample.sort_values(by=['col1'])\n",
    "# col1 기준 정렬"
   ]
  },
  {
   "cell_type": "code",
   "execution_count": null,
   "metadata": {},
   "outputs": [],
   "source": [
    "df_sample.sort_values(by=['col1', 'col2'])\n",
    "# col1, col2 기준 정렬"
   ]
  },
  {
   "cell_type": "code",
   "execution_count": null,
   "metadata": {},
   "outputs": [],
   "source": [
    "df_sample.sort_values(by='col1', ascending=False, na_position='first')\n",
    "# col1 기준, 내림차순, NaN을 상단에 두고 정렬"
   ]
  },
  {
   "cell_type": "code",
   "execution_count": null,
   "metadata": {},
   "outputs": [],
   "source": [
    "col4 = df_sample.sort_values(by='col4')\n",
    "#col4를 그냥 정렬하면, 대문자에서 소문자 순서로 정렬된다.\n",
    "col4_key_lowercase = df_sample.sort_values(by='col4', key = lambda col: col.str.lower())\n",
    "# col4의 각 알파벳들을 다 소문자로 치환 후 정렬하였다.\n",
    "col4_style = col4.style.set_table_attributes(\"style='display:inline;margin:5px'\").set_caption('col4_sort')\n",
    "col4_key_lowercase_style = col4_key.style.set_table_attributes(\"style='display:inline;margin:5px'\").set_caption('col4_sort_key_lowercase')\n",
    "display_html(col4_style._repr_html_() + col4_key_lowercase_style._repr_html_(), raw=True)"
   ]
  },
  {
   "cell_type": "markdown",
   "metadata": {},
   "source": [
    "### 5.5 shift : Bigquery의 lead, lag에 대응되는 함수"
   ]
  },
  {
   "cell_type": "code",
   "execution_count": null,
   "metadata": {},
   "outputs": [],
   "source": [
    "df_sample = pd.DataFrame({\n",
    "    'base_date': [  np.datetime64('2023-01-12')\n",
    "                      , np.datetime64('2023-01-12')\n",
    "                      , np.datetime64('2023-01-12')\n",
    "                      , np.datetime64('2023-01-12')\n",
    "                      , np.datetime64('2023-01-13')\n",
    "                      , np.datetime64('2023-01-13')\n",
    "                      \n",
    "    ],\n",
    "    'col2': [2, 1, 9, 8, 7, 4],\n",
    "    'col3': [0, 1, 9, 4, 2, 3],\n",
    "    'col4': ['a', 'B', 'c', 'D', 'e', 'F']\n",
    "})\n",
    "df_sample"
   ]
  },
  {
   "cell_type": "code",
   "execution_count": null,
   "metadata": {},
   "outputs": [],
   "source": [
    "df_sample['col2_shift_lag1'] = df_sample.groupby(['base_date'])['col2'].shift(1)\n",
    "# base_date를 기준으로, col2에 대하여 shift 1 적용\n",
    "# 즉, 이전 행의 col2 값을 출력\n",
    "\n",
    "df_sample['col2_shift_lead1'] = df_sample.groupby(['base_date'])['col2'].shift(-1)\n",
    "# base_date를 기준으로, col2에 대하여 shift -1 적용\n",
    "# 즉, 다음 행의 col2 값을 출력"
   ]
  },
  {
   "cell_type": "code",
   "execution_count": null,
   "metadata": {},
   "outputs": [],
   "source": [
    "df_sample"
   ]
  },
  {
   "cell_type": "markdown",
   "metadata": {
    "tags": []
   },
   "source": [
    "## 6. 데이터 타입"
   ]
  },
  {
   "cell_type": "markdown",
   "metadata": {
    "tags": []
   },
   "source": [
    "### 6-1. dtypes : 컬럼들의 type 출력"
   ]
  },
  {
   "cell_type": "code",
   "execution_count": null,
   "metadata": {},
   "outputs": [],
   "source": [
    "df = pd.DataFrame({'float': [1.0],\n",
    "                   'int': [1],\n",
    "                   'datetime': [pd.Timestamp('20180310')],\n",
    "                   'string': ['foo']})\n",
    "df.dtypes\n",
    "# 더 이상의 설명은 필요 없다!"
   ]
  },
  {
   "cell_type": "markdown",
   "metadata": {},
   "source": [
    "### 6-2. select_dtypes : 특정 타입의 컬럼을 선택, 혹은 배제\n",
    "\n",
    "`DataFrame.select_dtypes(include=None, exclude=None)`\n",
    "\n",
    "- To select all numeric types, use np.number or 'number'\n",
    "- To select strings you must use the object dtype, but note that this will return all object dtype columns See the numpy dtype hierarchy\n",
    "- To select datetimes, use np.datetime64, 'datetime' or 'datetime64'\n",
    "- To select timedeltas, use np.timedelta64, 'timedelta' or 'timedelta64'\n",
    "- To select Pandas categorical dtypes, use 'category'\n",
    "- To select Pandas datetimetz dtypes, use 'datetimetz' (new in 0.20.0) or 'datetime64[ns, tz]'"
   ]
  },
  {
   "cell_type": "code",
   "execution_count": null,
   "metadata": {},
   "outputs": [],
   "source": [
    "df = pd.DataFrame({'a': [1, 2] * 3,\n",
    "                   'b': [True, False] * 3,\n",
    "                   'c': [1.0, 2.0] * 3})\n",
    "df"
   ]
  },
  {
   "cell_type": "code",
   "execution_count": null,
   "metadata": {},
   "outputs": [],
   "source": [
    "df.select_dtypes(include='bool')"
   ]
  },
  {
   "cell_type": "code",
   "execution_count": null,
   "metadata": {},
   "outputs": [],
   "source": [
    "df.select_dtypes(include=['float64'])"
   ]
  },
  {
   "cell_type": "code",
   "execution_count": null,
   "metadata": {},
   "outputs": [],
   "source": [
    "df.select_dtypes(exclude=['int64'])"
   ]
  },
  {
   "cell_type": "markdown",
   "metadata": {},
   "source": [
    "### 6-3. astype : 타입 변경. Bigquery에 df 업로드 시 반드시 사용\n",
    "`DataFrame.astype(dtype, copy=True, errors='raise')`\n",
    "\n",
    "- copy : False를 하면, 복사를 하는 게 아니고 원본에 연결되므로 변경사항이 원본에까지 전파됨\n",
    "- errors : ignore로 세팅하면, 에러 발생 시 원본을 반환하고 끝냄"
   ]
  },
  {
   "cell_type": "code",
   "execution_count": null,
   "metadata": {},
   "outputs": [],
   "source": [
    "d = {'col1': [1, 2], 'col2': [3, 4]}\n",
    "df = pd.DataFrame(data=d)\n",
    "df.dtypes"
   ]
  },
  {
   "cell_type": "code",
   "execution_count": null,
   "metadata": {},
   "outputs": [],
   "source": [
    "df.astype({'col1': 'int32'}).dtypes\n",
    "# 잘 변경됐습니다~"
   ]
  },
  {
   "cell_type": "markdown",
   "metadata": {
    "tags": []
   },
   "source": [
    "## 7. 데이터 집계"
   ]
  },
  {
   "cell_type": "markdown",
   "metadata": {},
   "source": [
    "### 7-1. groupby : agg\n",
    "- {컬럼명 : 집계함수} 구조의 dictionary를 변수로 주면, 각 컬럼마다 할당된 집계함수로 집계한다.\n",
    "    - 집계함수는 커스텀 함수를 사용해도 됨. 아래 코드처럼."
   ]
  },
  {
   "cell_type": "code",
   "execution_count": null,
   "metadata": {},
   "outputs": [],
   "source": [
    "df = pd.DataFrame({\n",
    "    'month': ['10월', '10월', '10월', '10월', '11월', '12월', '12월'],\n",
    "    'fruits': ['apple', 'orange', 'banana', 'banana', 'apple', 'apple', 'banana'],\n",
    "    'price': [100, 200, 250, 300, 150, 200, 400],\n",
    "    'quantity': [1, 2, 3, 4, 5, 6, 7]\n",
    "})\n",
    "\n",
    "def mean_and_sqrt(x): # 이런 묘한 출력값이 필요한 상황이 있다고 치자.\n",
    "        return np.sqrt(np.mean(x))\n",
    "    \n",
    "df.groupby(by=['month','fruits']).agg({'price':mean_and_exp, 'quantity':np.sum})"
   ]
  },
  {
   "cell_type": "markdown",
   "metadata": {},
   "source": [
    "- 데이터 집계 방식 중, 가장 범용성이 좋고, 함수화하기도 편한 방식이었다."
   ]
  },
  {
   "cell_type": "markdown",
   "metadata": {},
   "source": [
    "- 실제로 사용했던 예시"
   ]
  },
  {
   "cell_type": "code",
   "execution_count": null,
   "metadata": {},
   "outputs": [],
   "source": [
    "agg_dict = {key:np.sum for key in target_column} # 전부 집계함수 sum으로 세팅\n",
    "agg_dict['accountId'] = 'count' # accountId 수만 count로 세팅. accountId 수를 센다.\n",
    "\n",
    "ready_for_stacked = for_stackbar.groupby(by=['log_cate']).agg(agg_dict) # 집계 적용"
   ]
  },
  {
   "cell_type": "markdown",
   "metadata": {},
   "source": [
    "## 8. 파일 입출력"
   ]
  },
  {
   "cell_type": "markdown",
   "metadata": {
    "tags": []
   },
   "source": [
    "### 8-1. read_excel"
   ]
  },
  {
   "cell_type": "code",
   "execution_count": null,
   "metadata": {
    "tags": []
   },
   "outputs": [],
   "source": [
    "string_quest = pd.read_excel(r\"C:\\Users\\Documents\\data\\string\\string_quest.xlsx\",\n",
    "                             header=6, usecols=\"H,I\", sheet_name = \"string_quest\", engine=\"openpyxl\")"
   ]
  },
  {
   "cell_type": "markdown",
   "metadata": {},
   "source": [
    "- header : 몇 번째 row를 header로 할까?\n",
    "- usercols : 어떤 열을 가져올까?\n",
    "- sheet_name : 어떤 시트를 가져올까?\n",
    "- engine : openpyxl을 사용하여야 xlsx 파일의 불러오기가 가능"
   ]
  },
  {
   "cell_type": "markdown",
   "metadata": {},
   "source": [
    "### 8-2. to_excel"
   ]
  },
  {
   "cell_type": "markdown",
   "metadata": {},
   "source": [
    "- 데이터프레임을 잘 구성했다면, 기본적으로는 아래와 같이 특별한 argument 없이 사용해도 별 문제는 없다."
   ]
  },
  {
   "cell_type": "code",
   "execution_count": null,
   "metadata": {},
   "outputs": [],
   "source": [
    "for each_key in dict_account_id.keys():\n",
    "    target_dataframe = pd.DataFrame.from_dict(dict_account_id[each_key])\n",
    "    target_dataframe.to_excel(f\"{each_key}_성장재료_출처.xlsx\")"
   ]
  },
  {
   "cell_type": "markdown",
   "metadata": {},
   "source": [
    "- 내용 추가 모드 (append)를 사용하고 싶다면, 아래와 같이 할 수 있다."
   ]
  },
  {
   "cell_type": "code",
   "execution_count": null,
   "metadata": {},
   "outputs": [],
   "source": [
    "with pd.ExcelWriter('output.xlsx', mode='a') as writer: # mode='a'로 append 설정\n",
    "    df.to_excel(writer, sheet_name='Sheet_name_3') #sheet 이름도 지정함"
   ]
  },
  {
   "cell_type": "markdown",
   "metadata": {},
   "source": [
    "- 추가 내용 : https://pandas.pydata.org/docs/reference/api/pandas.DataFrame.to_excel.html"
   ]
  },
  {
   "cell_type": "markdown",
   "metadata": {
    "tags": []
   },
   "source": [
    "### 8-3. read_csv"
   ]
  },
  {
   "cell_type": "code",
   "execution_count": null,
   "metadata": {},
   "outputs": [],
   "source": [
    "target_df = pd.read_csv('data.csv')"
   ]
  },
  {
   "cell_type": "markdown",
   "metadata": {},
   "source": [
    "- sep : delimeter. 기본값은 쉼표(,)이다.\n",
    "- header : 몇 번째 row를 header로 할까?\n",
    "- usercols : 어떤 열을 가져올까?\n",
    "- chunksize : 파일이 너무 클 경우, 한 번에 불러올 행 수를 지정 가능. 이후 iterable하게 다음 size를 불러올 수 있다. 아래와 같이 사용.\n",
    "```Python\n",
    "chunksize = 10 ** 6\n",
    "with pd.read_csv(filename, chunksize=chunksize) as reader:\n",
    "    for chunk in reader:\n",
    "        process(chunk)\n",
    "```"
   ]
  },
  {
   "cell_type": "markdown",
   "metadata": {},
   "source": [
    "- 추가 내용 : https://pandas.pydata.org/docs/reference/api/pandas.read_csv.html"
   ]
  },
  {
   "cell_type": "markdown",
   "metadata": {
    "tags": []
   },
   "source": [
    "### 8-4. to_csv"
   ]
  },
  {
   "cell_type": "code",
   "execution_count": null,
   "metadata": {},
   "outputs": [],
   "source": [
    "target_df = pd.to_csv('data.csv')"
   ]
  },
  {
   "cell_type": "markdown",
   "metadata": {},
   "source": [
    "- sep : delimeter. 기본값은 쉼표(,)이다.\n",
    "- columns : 쓰기에 사용할 컬럼 이름 리스트.\n",
    "- header : bool or list of str, default True\n",
    "    - 문자열 리스트가 주어지면, 각 컬럼에 대한 alias로 취급된다."
   ]
  },
  {
   "cell_type": "markdown",
   "metadata": {},
   "source": [
    "- 추가 내용 : https://pandas.pydata.org/docs/reference/api/pandas.DataFrame.to_csv.html"
   ]
  },
  {
   "cell_type": "markdown",
   "metadata": {
    "tags": []
   },
   "source": [
    "### 8-5. Dataframe을 이미지로 추출"
   ]
  },
  {
   "cell_type": "markdown",
   "metadata": {},
   "source": [
    "#### matplotlib를 이용\n",
    "  - dataframe-image 패키지를 이용 시, linux에서 crontab으로 실행할 경우 복잡한 권한 문제에 직면하게 됨\n",
    "  - dataframe-image 패키지도 matplotlib 기반이므로, 그냥 matplotlib를 사용"
   ]
  },
  {
   "cell_type": "code",
   "execution_count": null,
   "metadata": {
    "tags": []
   },
   "outputs": [],
   "source": [
    "import six\n",
    "import matplotlib.pyplot as plt\n",
    "import matplotlib.font_manager as fm\n",
    "\n",
    "# matplotlib에서 한글이 안 나오는 문제 해결\n",
    "NANUM = fm.FontProperties(fname=r'C:\\Users\\limyj0708\\AppData\\Local\\Microsoft\\Windows\\Fonts\\NanumBarunGothic.ttf')\n",
    "NANUM_bold = fm.FontProperties(fname=r'C:\\Users\\limyj0708\\AppData\\Local\\Microsoft\\Windows\\Fonts\\NanumBarunGothicBold.ttf')\n",
    "\n",
    "# centos라면 폰트 경로는 아래와 같음\n",
    " ## /usr/share/fonts/NanumFont/NanumBarunGothic.ttf\n",
    " ## /usr/share/fonts/NanumFont/NanumGothicBold.ttf\n",
    "\n",
    "def render_mpl_table(data, col_width=3.0, row_height=0.625, font_size_header=16, font_size=14,\n",
    "                     header_color='#C2DED1', row_colors=['#f1f1f2', 'w'], edge_color='black',\n",
    "                     bbox=[0, 0, 1, 1], header_columns=0,\n",
    "                     ax=None, align_head='center', align_cell='center', **kwargs):\n",
    "    \"\"\"\n",
    "    align_head, align_cell : [ 'center' | 'right' | 'left' ] \n",
    "    \"\"\"\n",
    "    \n",
    "    if ax is None:\n",
    "        size = (np.array(data.shape[::-1]) + np.array([0, 1])) * np.array([col_width, row_height])\n",
    "        fig, ax = plt.subplots(figsize=size)\n",
    "        ax.axis('off')\n",
    "\n",
    "    mpl_table = ax.table(cellText=data.values, bbox=bbox, colLabels=data.columns, **kwargs)\n",
    "    mpl_table.auto_set_font_size(False)\n",
    "\n",
    "    for k, cell in  six.iteritems(mpl_table._cells):\n",
    "        cell.set_edgecolor(edge_color)\n",
    "        if k[0] == 0 or k[1] < header_columns:\n",
    "            cell.set_facecolor(header_color)\n",
    "            cell.set_text_props(color='black', fontproperties = NANUM_bold, fontsize=font_size_header, ha=align_head)\n",
    "        else:\n",
    "            cell.set_facecolor(row_colors[k[0]%len(row_colors)])\n",
    "            cell.set_text_props(fontproperties = NANUM, fontsize=font_size, ha=align_cell)\n",
    "    return ax\n",
    "\n",
    "image = render_mpl_table(caller, col_width=2.0, align_head='left')\n",
    "image\n",
    "image.figure.savefig(\"caller.png\") # 이미지 저장\n",
    "# crontab으로 돌릴 것이라면 이미지 저장 경로도 절대경로로 지정"
   ]
  }
 ],
 "metadata": {
  "kernelspec": {
   "display_name": "Python 3 (ipykernel)",
   "language": "python",
   "name": "python3"
  },
  "language_info": {
   "codemirror_mode": {
    "name": "ipython",
    "version": 3
   },
   "file_extension": ".py",
   "mimetype": "text/x-python",
   "name": "python",
   "nbconvert_exporter": "python",
   "pygments_lexer": "ipython3",
   "version": "3.11.2"
  },
  "toc-autonumbering": false,
  "toc-showcode": false,
  "toc-showmarkdowntxt": false,
  "widgets": {
   "application/vnd.jupyter.widget-state+json": {
    "state": {},
    "version_major": 2,
    "version_minor": 0
   }
  }
 },
 "nbformat": 4,
 "nbformat_minor": 4
}
